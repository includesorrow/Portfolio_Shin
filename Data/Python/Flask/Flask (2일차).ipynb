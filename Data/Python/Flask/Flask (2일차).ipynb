{
 "cells": [
  {
   "cell_type": "code",
   "execution_count": null,
   "metadata": {},
   "outputs": [],
   "source": []
  },
  {
   "cell_type": "code",
   "execution_count": null,
   "metadata": {},
   "outputs": [],
   "source": []
  },
  {
   "cell_type": "code",
   "execution_count": null,
   "metadata": {},
   "outputs": [],
   "source": [
    "#리스트의 데이터를 view로 전달하는 방법\n",
    "from flask import Flask, render_template, request\n",
    "app=Flask(__name__)\n",
    "@app.route(\"/\")\n",
    "def hello():\n",
    "    return render_template('Hello.html')\n",
    "\n",
    "@app.route(\"/run\")\n",
    "def listdemo():\n",
    "    my_string = \"나는 스파이더맨이다.\"\n",
    "    my_list = [x for x in range(20) if x%2 == 0]\n",
    "    return render_template('templateDemo.html'\\\n",
    "                           ,myname=my_string,my_list=my_list)\n",
    "\n",
    "if __name__ == \"__main__\":\n",
    "    app.run()"
   ]
  },
  {
   "cell_type": "code",
   "execution_count": null,
   "metadata": {},
   "outputs": [],
   "source": [
    "# 연습문제\n",
    "# ex1\n",
    "###\n",
    "about.html\n",
    "{% extends \"layout2.html\" %}\n",
    "{% block content%}\n",
    "이런식으로 하자.\n",
    "\n",
    "layout2.html\n",
    "a href =\"{{url_for('home')}}\">home<a></li>\n",
    "- 링크처리"
   ]
  },
  {
   "cell_type": "code",
   "execution_count": 39,
   "metadata": {},
   "outputs": [
    {
     "name": "stdout",
     "output_type": "stream",
     "text": [
      " * Serving Flask app \"__main__\" (lazy loading)\n",
      " * Environment: production\n",
      "   WARNING: Do not use the development server in a production environment.\n",
      "   Use a production WSGI server instead.\n",
      " * Debug mode: off\n"
     ]
    },
    {
     "name": "stderr",
     "output_type": "stream",
     "text": [
      " * Running on http://127.0.0.1:80/ (Press CTRL+C to quit)\n",
      "127.0.0.1 - - [11/Apr/2019 20:02:17] \"GET / HTTP/1.1\" 200 -\n"
     ]
    }
   ],
   "source": [
    "# 딕셔너리로 값 넘기기\n",
    "from flask import Flask, render_template\n",
    "\n",
    "app = Flask(__name__)\n",
    "\n",
    "@app.route('/')\n",
    "def use_dict():\n",
    "    my_dict = {'CPU 온도 ' : 35, 'CPU 사용률' : 90, 'CPU 코어 갯수' : 2, \\\n",
    "               '전체 메모리' : 80.5, '메모리 사용율' : 50, '디스크 사용율' : 50}\n",
    "    return render_template('ex2_dict.html', my_dict = my_dict)\n",
    "\n",
    "if __name__ == '__main__':\n",
    "    app.run(port=80)\n",
    "\n"
   ]
  },
  {
   "cell_type": "code",
   "execution_count": null,
   "metadata": {
    "scrolled": true
   },
   "outputs": [],
   "source": [
    "from flask import Flask, render_template, request\n",
    "app=Flask(__name__)\n",
    "@app.route(\"/\")\n",
    "def formView():\n",
    "    return render_template('form01.html')\n",
    "\n",
    "\n",
    "# 하나의 사이트가 POST, GET\n",
    "@app.route('/formsave',methods=['POST', 'GET'])\n",
    "def formsave():\n",
    "    # GET/ POST\n",
    "    if request.method == 'POST':\n",
    "        name = request.form['name']\n",
    "        age = request.form['age']\n",
    "        email = request.form['email']\n",
    "        agree = request.form['agree']\n",
    "        tel = request.form['tel']\n",
    "        print(\"request.form\", request.form)\n",
    "        # csv 파일로 저장\n",
    "        # database에 저장\n",
    "        #기타등등의 모델에서 처리하는 작업\n",
    "        \n",
    "        \n",
    "    else:\n",
    "        print(\"test\")\n",
    "        # get 방식의 파라미터 처리는 알아서 하기\n",
    "    return render_template(\"formresult.html\", rev = request.form)\n",
    "#         return \"{name}/{age}/{email}/{agree}/{tel}\" 이런식으로 해도 되고\n",
    "#     return \"{0}/{1}/{2}\".format(name,age,email) 이런식으로 해도 된다.\n",
    "#     return \"<h1 style='color:red'>{0}/{1}/{2}/{3}/{4}</h1>\".format(name,age,email,tel,agree)\n",
    "#        rev = request.form으로 쓰세요\n",
    "\n",
    "\n",
    "if __name__ == \"__main__\":\n",
    "    app.run()"
   ]
  },
  {
   "cell_type": "code",
   "execution_count": null,
   "metadata": {},
   "outputs": [],
   "source": [
    "\n",
    "\n",
    "========파일 업로드 처리 ============\n"
   ]
  },
  {
   "cell_type": "code",
   "execution_count": 40,
   "metadata": {},
   "outputs": [
    {
     "name": "stdout",
     "output_type": "stream",
     "text": [
      " * Serving Flask app \"__main__\" (lazy loading)\n",
      " * Environment: production\n",
      "   WARNING: Do not use the development server in a production environment.\n",
      "   Use a production WSGI server instead.\n",
      " * Debug mode: off\n"
     ]
    },
    {
     "name": "stderr",
     "output_type": "stream",
     "text": [
      " * Running on http://127.0.0.1:5000/ (Press CTRL+C to quit)\n",
      "127.0.0.1 - - [11/Apr/2019 21:23:10] \"GET / HTTP/1.1\" 200 -\n",
      "127.0.0.1 - - [11/Apr/2019 21:23:14] \"POST /fileUpload HTTP/1.1\" 200 -\n"
     ]
    }
   ],
   "source": [
    "from flask import Flask, render_template, request\n",
    "import os\n",
    "from werkzeug import secure_filename\n",
    "app=Flask(__name__)\n",
    "\n",
    "@app.route(\"/\", methods=[\"GET\"])\n",
    "def upform():\n",
    "    return render_template('upform.html')\n",
    "\n",
    "#파일 업로드 처리\n",
    "@app.route('/fileUpload', methods = ['GET','POST'])\n",
    "def upload_file():\n",
    "    UPLOAD_FOLDER = 'uploads/'\n",
    "    app.config['UPLOAD_FOLDER'] = UPLOAD_FOLDER\n",
    "    if request.method == 'POST' :\n",
    "        f = request.files['file']\n",
    "        #저장할 경로 + 파일명\n",
    "        #file.save(os.path.join(app.config['UPLOAD_Folder'],filename))\n",
    "        f.save(os.path.join(app.config['UPLOAD_FOLDER'],\\\n",
    "                           secure_filename(f.filename)))\n",
    "        return 'uploads 디렉토리 -> 파일 업로드 성공!'\n",
    "\n",
    "if __name__ == \"__main__\":\n",
    "    app.run()"
   ]
  },
  {
   "cell_type": "code",
   "execution_count": null,
   "metadata": {},
   "outputs": [],
   "source": [
    "\n",
    "======= 플라스크 로그인 처리 ======\n",
    "    "
   ]
  },
  {
   "cell_type": "code",
   "execution_count": 1,
   "metadata": {},
   "outputs": [
    {
     "name": "stdout",
     "output_type": "stream",
     "text": [
      " * Serving Flask app \"__main__\" (lazy loading)\n",
      " * Environment: production\n",
      "   WARNING: Do not use the development server in a production environment.\n",
      "   Use a production WSGI server instead.\n",
      " * Debug mode: off\n"
     ]
    },
    {
     "name": "stderr",
     "output_type": "stream",
     "text": [
      " * Running on http://127.0.0.1:5000/ (Press CTRL+C to quit)\n",
      "127.0.0.1 - - [12/Apr/2019 09:37:18] \"GET / HTTP/1.1\" 200 -\n",
      "127.0.0.1 - - [12/Apr/2019 09:37:18] \"GET /static/css/style.css HTTP/1.1\" 200 -\n",
      "127.0.0.1 - - [12/Apr/2019 09:37:18] \"GET /static/image/test1.jpg HTTP/1.1\" 200 -\n"
     ]
    },
    {
     "name": "stdout",
     "output_type": "stream",
     "text": [
      "session None\n"
     ]
    },
    {
     "name": "stderr",
     "output_type": "stream",
     "text": [
      "127.0.0.1 - - [12/Apr/2019 09:37:18] \"GET /favicon.ico HTTP/1.1\" 404 -\n",
      "127.0.0.1 - - [12/Apr/2019 09:44:08] \"GET / HTTP/1.1\" 200 -\n"
     ]
    },
    {
     "name": "stdout",
     "output_type": "stream",
     "text": [
      "session None\n"
     ]
    }
   ],
   "source": [
    "from flask import Flask, redirect, render_template, request, session, url_for,flash\n",
    "import os\n",
    "app = Flask(__name__)\n",
    "\n",
    "@app.route('/')\n",
    "@app.route('/index')\n",
    "def index():\n",
    "    print(\"session\", session.get(\"logged_in\"))\n",
    "    if not session.get('logged_in'):\n",
    "#이게뭐하는거냐면 세선의 값을 읽어오는 함수\n",
    "        #로그인 전 상태 : 로그인 폼을 보여줌\n",
    "        return render_template('login.html')\n",
    "    else : \n",
    "        return render_template('logout.html')\n",
    "        #로그아웃\n",
    "\n",
    "@app.route('/login', methods=['POST'])\n",
    "def login_process():\n",
    "    if request.form['username'] == 'xman' and request.form['password']=='1212':\n",
    "        session['logged_in'] = request.form['username']\n",
    "    else:\n",
    "        flash('로그인에 실패')\n",
    "    return index()\n",
    "\n",
    "@app.route('/logout')\n",
    "def logout():\n",
    "    session.clear()\n",
    "    return index()\n",
    "\n",
    "if __name__ == \"__main__\":\n",
    "    #로그인 처리시 secret_key 세션 기능을 추가해야 함\n",
    "    app.secret_key = os.urandom(12)\n",
    "    app.run()"
   ]
  },
  {
   "cell_type": "code",
   "execution_count": 44,
   "metadata": {},
   "outputs": [
    {
     "name": "stdout",
     "output_type": "stream",
     "text": [
      " * Serving Flask app \"__main__\" (lazy loading)\n",
      " * Environment: production\n",
      "   WARNING: Do not use the development server in a production environment.\n",
      "   Use a production WSGI server instead.\n",
      " * Debug mode: off\n"
     ]
    },
    {
     "name": "stderr",
     "output_type": "stream",
     "text": [
      " * Running on http://127.0.0.1:5000/ (Press CTRL+C to quit)\n",
      "127.0.0.1 - - [11/Apr/2019 21:43:26] \"GET / HTTP/1.1\" 200 -\n"
     ]
    },
    {
     "name": "stdout",
     "output_type": "stream",
     "text": [
      "<class 'dict'>\n",
      "<class 'dict'>\n",
      "<class 'str'>\n"
     ]
    }
   ],
   "source": [
    "from flask import Flask, json, Response\n",
    "\n",
    "app = Flask(__name__)\n",
    "\n",
    "\n",
    "@app.route(\"/\")\n",
    "def viewjSon():\n",
    "    try:\n",
    "        jsonLists = []\n",
    "        for i in range(0,2):\n",
    "            myDict = {'firstName':'박','lastName':'sujin'}\n",
    "            print(type(myDict))\n",
    "            jsonLists.append(myDict)\n",
    "            # json을 출력할 때 기본 설정이 아스키코드인데 이걸 해제하고 밑에 UTF-8로 설정하면도됨\n",
    "            # ensure_ascii = False\n",
    "        jsonStr = json.dumps(jsonLists)\n",
    "        print(type(jsonStr))\n",
    "    except Exception as e:\n",
    "        print(\"Error\",e)\n",
    "    return Response(jsonStr, content_type = \"application/json; charset='UTF-8'\")\n",
    "\n",
    "\n",
    "if __name__ == \"__main__\":\n",
    "    #로그인 처리시 secret_key 세션 기능을 추가해야 함\n",
    "#     app.secret_key = os.urandom(12)\n",
    "    app.run()"
   ]
  },
  {
   "cell_type": "code",
   "execution_count": null,
   "metadata": {},
   "outputs": [],
   "source": [
    "조별 레포트 (제출 : 내일(4/12)까지)\n",
    "\n",
    "\n",
    "제출형식 : 노트북 파일을 포함한 teamxx 폴더.zip , 한글 파일 (매니저 제출용): 팀명, 팀원명\n",
    "\n",
    "테이블 스키마, \n",
    "파일업로드 , \n",
    "로그인 기능 ,\n",
    "JSON 기능 , \n",
    "ORACLE 연동한 제품을 제출\n",
    "\n"
   ]
  },
  {
   "cell_type": "code",
   "execution_count": 2,
   "metadata": {},
   "outputs": [
    {
     "ename": "NameError",
     "evalue": "name '수정사항' is not defined",
     "output_type": "error",
     "traceback": [
      "\u001b[1;31m---------------------------------------------------------------------------\u001b[0m",
      "\u001b[1;31mNameError\u001b[0m                                 Traceback (most recent call last)",
      "\u001b[1;32m<ipython-input-2-3ea67ac531eb>\u001b[0m in \u001b[0;36m<module>\u001b[1;34m\u001b[0m\n\u001b[0;32m      1\u001b[0m \u001b[1;33m\u001b[0m\u001b[0m\n\u001b[0;32m      2\u001b[0m \u001b[1;33m\u001b[0m\u001b[0m\n\u001b[1;32m----> 3\u001b[1;33m \u001b[0m수정사항\u001b[0m\u001b[1;33m\u001b[0m\u001b[1;33m\u001b[0m\u001b[0m\n\u001b[0m",
      "\u001b[1;31mNameError\u001b[0m: name '수정사항' is not defined"
     ]
    }
   ],
   "source": [
    "\n",
    "\n",
    "수정사항"
   ]
  },
  {
   "cell_type": "code",
   "execution_count": 5,
   "metadata": {},
   "outputs": [
    {
     "name": "stdout",
     "output_type": "stream",
     "text": [
      " * Serving Flask app \"__main__\" (lazy loading)\n",
      " * Environment: production\n",
      "   WARNING: Do not use the development server in a production environment.\n",
      "   Use a production WSGI server instead.\n",
      " * Debug mode: off\n"
     ]
    },
    {
     "name": "stderr",
     "output_type": "stream",
     "text": [
      " * Running on http://127.0.0.1:5000/ (Press CTRL+C to quit)\n"
     ]
    }
   ],
   "source": [
    "from flask import Flask, render_template, request\n",
    "import os\n",
    "from werkzeug import secure_filename\n",
    "app=Flask(__name__)\n",
    "\n",
    "@app.route(\"/\", methods=[\"GET\"])\n",
    "def upform():\n",
    "    return render_template('upform.html')\n",
    "\n",
    "#파일 업로드 처리\n",
    "@app.route('/fileUpload', methods = ['GET','POST'])\n",
    "def upload_file():\n",
    "    # 이미지 업로드 경로를 static 내부로 설정 ***\n",
    "    UPLOAD_FOLDER = 'static/uploads/'\n",
    "    app.config['UPLOAD_FOLDER'] = UPLOAD_FOLDER\n",
    "    if request.method == 'POST' :\n",
    "        f = request.files['file']\n",
    "        #저장할 경로 + 파일명\n",
    "        #file.save(os.path.join(app.config['UPLOAD_Folder'],filename))\n",
    "        f.save(os.path.join(app.config['UPLOAD_FOLDER'],\\\n",
    "                           secure_filename(f.filename)))\n",
    "        return render_template('imgview.html',fn=f.filename)\n",
    "\n",
    "if __name__ == \"__main__\":\n",
    "    app.run()"
   ]
  },
  {
   "cell_type": "code",
   "execution_count": null,
   "metadata": {},
   "outputs": [],
   "source": []
  },
  {
   "cell_type": "code",
   "execution_count": null,
   "metadata": {},
   "outputs": [],
   "source": []
  }
 ],
 "metadata": {
  "kernelspec": {
   "display_name": "Python 3",
   "language": "python",
   "name": "python3"
  },
  "language_info": {
   "codemirror_mode": {
    "name": "ipython",
    "version": 3
   },
   "file_extension": ".py",
   "mimetype": "text/x-python",
   "name": "python",
   "nbconvert_exporter": "python",
   "pygments_lexer": "ipython3",
   "version": "3.7.1"
  }
 },
 "nbformat": 4,
 "nbformat_minor": 2
}
