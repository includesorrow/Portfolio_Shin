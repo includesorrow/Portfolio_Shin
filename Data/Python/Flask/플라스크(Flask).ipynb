{
 "cells": [
  {
   "cell_type": "code",
   "execution_count": null,
   "metadata": {},
   "outputs": [],
   "source": []
  },
  {
   "cell_type": "code",
   "execution_count": null,
   "metadata": {},
   "outputs": [],
   "source": [
    "!pip install flask\n",
    "from flask import Flask"
   ]
  },
  {
   "cell_type": "code",
   "execution_count": null,
   "metadata": {},
   "outputs": [],
   "source": [
    "app = Flask(__name__)\n",
    "\n",
    "print(type(app))\n",
    "\n",
    "\n",
    "# route : spring과 같이 MVC계열임. ROUTE = 요청\n",
    "\n"
   ]
  },
  {
   "cell_type": "code",
   "execution_count": null,
   "metadata": {},
   "outputs": [],
   "source": [
    "\n",
    "\n",
    "최초의 flask 서버를 시작\n",
    "\n",
    "요청을 분석하는 route() 사용해서 처리\n",
    "- > @app.route(\"/\")\n"
   ]
  },
  {
   "cell_type": "code",
   "execution_count": 1,
   "metadata": {},
   "outputs": [
    {
     "name": "stdout",
     "output_type": "stream",
     "text": [
      " * Serving Flask app \"__main__\" (lazy loading)\n",
      " * Environment: production\n",
      "   WARNING: Do not use the development server in a production environment.\n",
      "   Use a production WSGI server instead.\n",
      " * Debug mode: off\n"
     ]
    },
    {
     "name": "stderr",
     "output_type": "stream",
     "text": [
      " * Running on http://127.0.0.1:5000/ (Press CTRL+C to quit)\n",
      "127.0.0.1 - - [10/Apr/2019 15:53:56] \"GET / HTTP/1.1\" 200 -\n",
      "127.0.0.1 - - [10/Apr/2019 15:54:00] \"GET /hello HTTP/1.1\" 200 -\n",
      "127.0.0.1 - - [10/Apr/2019 15:54:03] \"GET /main HTTP/1.1\" 200 -\n",
      "127.0.0.1 - - [10/Apr/2019 15:54:04] \"GET /hello HTTP/1.1\" 200 -\n",
      "127.0.0.1 - - [10/Apr/2019 15:54:06] \"GET /main HTTP/1.1\" 200 -\n",
      "127.0.0.1 - - [10/Apr/2019 15:57:28] \"GET /hello HTTP/1.1\" 200 -\n"
     ]
    }
   ],
   "source": [
    "# render_template templates 안에 html을 렌더링 역할\n",
    "from flask import Flask, render_template\n",
    "app = Flask(__name__)\n",
    "\n",
    "\n",
    "@app.route(\"/\")\n",
    "def index():\n",
    "    a = [\"hello\",\"world\"]\n",
    "    a = str(a)\n",
    "\n",
    "    return \"<h1><font color = red>\"+a+\"</font></h1>\"\n",
    "#     return \"<h1><font color = red>\"+a[0]+\" ,  \" +a[1]+\"</font></h1>\"\n",
    "@app.route(\"/hello\")\n",
    "def hello2():\n",
    "    return render_template(\"hello.html\")\n",
    "\n",
    "@app.route(\"/main\")\n",
    "def main():\n",
    "    #Get, Post와 같은 방식으로 파라미터를 처리 하기 위해서 \n",
    "    #request.args.get(\"파라미터값\")\n",
    "    name = request.args.get(\"name\")\n",
    "    msg = request.args.get(\"msg\")\n",
    "    # rander_template에 전달\n",
    "    return render_template(\"main.html\", name=name, msg=msg)\n",
    "\n",
    "if __name__== '__main__':\n",
    "    app.run()\n",
    "    \n",
    "    \n",
    "    \n",
    "    "
   ]
  },
  {
   "cell_type": "code",
   "execution_count": null,
   "metadata": {},
   "outputs": [],
   "source": []
  },
  {
   "cell_type": "code",
   "execution_count": null,
   "metadata": {},
   "outputs": [],
   "source": [
    "a = [\"hello\",\"world\"]\n",
    "b = \",\".join(a)\n",
    "print(type(b))\n",
    "print(b)"
   ]
  },
  {
   "cell_type": "code",
   "execution_count": null,
   "metadata": {},
   "outputs": [],
   "source": [
    "# render_template templates 안에 html을 렌더링 역할\n",
    "from flask import Flask, render_template\n",
    "app = Flask(__name__)\n",
    "\n",
    "\n",
    "@app.route(\"/hello\")\n",
    "def hello():\n",
    "    return render_template(\"hello.html\")\n",
    "if __name__== '__main__':\n",
    "    app.run()\n",
    "          \n"
   ]
  },
  {
   "cell_type": "code",
   "execution_count": null,
   "metadata": {},
   "outputs": [],
   "source": []
  },
  {
   "cell_type": "code",
   "execution_count": null,
   "metadata": {},
   "outputs": [
    {
     "name": "stdout",
     "output_type": "stream",
     "text": [
      " * Serving Flask app \"__main__\" (lazy loading)\n",
      " * Environment: production\n",
      "   WARNING: Do not use the development server in a production environment.\n",
      "   Use a production WSGI server instead.\n",
      " * Debug mode: off\n"
     ]
    },
    {
     "name": "stderr",
     "output_type": "stream",
     "text": [
      " * Running on http://127.0.0.1:5000/ (Press CTRL+C to quit)\n",
      "127.0.0.1 - - [10/Apr/2019 16:54:32] \"GET / HTTP/1.1\" 200 -\n",
      "127.0.0.1 - - [10/Apr/2019 16:54:33] \"GET /main/ HTTP/1.1\" 404 -\n"
     ]
    }
   ],
   "source": [
    "from flask import Flask, render_template\n",
    "\n",
    "app = Flask(__name__)\n",
    "\n",
    "\n",
    "# pathView.html 만들어서\n",
    "# <input type = \"text\" id=\"msg\"> <input type =\"button\">\n",
    "@app.route(\"/pathval/<string:msg>/\")\n",
    "def pathv(msg):\n",
    "    #pathView.html 출력이 되도록\n",
    "    return render_template(\"pathView.html\"), msg\n",
    "\n",
    "@app.route(\"/\")\n",
    "def hello2():\n",
    "    return render_template(\"hello.html/\", msg=\"msg\", name=\"name\")\n",
    "\n",
    "@app.route(\"/main/<string:msg> <string:name>/\")\n",
    "def main():\n",
    "    #Get, Post와 같은 방식으로 파라미터를 처리 하기 위해서 \n",
    "    #request.args.get(\"파라미터값\")\n",
    "    name = request.args.get(\"name\")\n",
    "    msg = request.args.get(\"msg\")\n",
    "    # rander_template에 전달\n",
    "    return render_template(\"main.html\", msg=\"msg\", name=\"name\")\n",
    "\n",
    "# 1. main에서 링크로 값을 전달하도록\n",
    "\n",
    "\n",
    "if __name__ ==\"__main__\":\n",
    "    app.run()\n"
   ]
  },
  {
   "cell_type": "code",
   "execution_count": null,
   "metadata": {},
   "outputs": [],
   "source": []
  }
 ],
 "metadata": {
  "kernelspec": {
   "display_name": "Python 3",
   "language": "python",
   "name": "python3"
  },
  "language_info": {
   "codemirror_mode": {
    "name": "ipython",
    "version": 3
   },
   "file_extension": ".py",
   "mimetype": "text/x-python",
   "name": "python",
   "nbconvert_exporter": "python",
   "pygments_lexer": "ipython3",
   "version": "3.7.1"
  }
 },
 "nbformat": 4,
 "nbformat_minor": 2
}
