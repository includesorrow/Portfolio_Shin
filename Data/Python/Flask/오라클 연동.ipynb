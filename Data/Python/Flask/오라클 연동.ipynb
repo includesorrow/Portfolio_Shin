{
 "cells": [
  {
   "cell_type": "code",
   "execution_count": null,
   "metadata": {},
   "outputs": [],
   "source": [
    "#!pip install cx_Oracle"
   ]
  },
  {
   "cell_type": "code",
   "execution_count": 7,
   "metadata": {},
   "outputs": [
    {
     "data": {
      "text/plain": [
       "'11.2.0.2.0'"
      ]
     },
     "execution_count": 7,
     "metadata": {},
     "output_type": "execute_result"
    }
   ],
   "source": [
    "import cx_Oracle as ora\n",
    "# id/pwd@host:1521/sid\n",
    "conn = ora.connect(\"python3/test00@192.168.0.16:1521/xe\")\n",
    "\n",
    "conn.version\n",
    "\n",
    "# 이걸 클래스나 함수로 만들어야 함."
   ]
  },
  {
   "cell_type": "code",
   "execution_count": 6,
   "metadata": {},
   "outputs": [
    {
     "name": "stdout",
     "output_type": "stream",
     "text": [
      "<cx_Oracle.Cursor on <cx_Oracle.Connection to python3@192.168.0.16:1521/xe>>\n"
     ]
    }
   ],
   "source": [
    "# Oracle DB 접속한 객체를 얻어와야 한다. <- 이게 바로 커서이다.\n",
    "\n",
    "cursor = conn.cursor( )\n",
    "print(cursor)"
   ]
  },
  {
   "cell_type": "code",
   "execution_count": 11,
   "metadata": {},
   "outputs": [
    {
     "name": "stdout",
     "output_type": "stream",
     "text": [
      "작성자:aa\n",
      "비밀번호를 입력:a\n",
      "제목:a\n",
      "내용:a\n",
      "<class 'str'>\n"
     ]
    }
   ],
   "source": [
    "#입력처리\n",
    "writerv = input(\"작성자:\")\n",
    "pwdv = input(\"비밀번호를 입력:\")\n",
    "subjectv = input(\"제목:\")\n",
    "contentv = input(\"내용:\")\n",
    "#SQL문 작성\n",
    "sql_insert = 'insert into board values(board_seq.nextVal,:pwd,:writer,:subject,:content,sysdate)'\n",
    "print(type(sql_insert))\n",
    "#print(sql_insert)\n",
    "#입력받은 값과 Sql바인딩 처리\n",
    "#execute(sql,bind)\n",
    "cursor.execute(sql_insert,pwd=pwdv,writer=writerv,subject=subjectv,content=contentv)\n",
    "conn.commit()\n",
    "\n",
    "\n"
   ]
  },
  {
   "cell_type": "code",
   "execution_count": 12,
   "metadata": {},
   "outputs": [],
   "source": [
    "fetchall()\n",
    "- 전체 데이터 가지고오기\n",
    "- 마이바티스에서는 select list로 생각하세요\n",
    "\n"
   ]
  },
  {
   "cell_type": "code",
   "execution_count": 20,
   "metadata": {},
   "outputs": [
    {
     "name": "stdout",
     "output_type": "stream",
     "text": [
      "<cx_Oracle.Cursor on <cx_Oracle.Connection to python3@192.168.0.16:1521/xe>>\n",
      "<class 'str'>\n",
      "[(9, 'ee', 'ee', 'ee', datetime.datetime(2019, 4, 10, 10, 42, 2)), (8, 'ww', 'www', 'ww', datetime.datetime(2019, 4, 10, 10, 41, 55)), (7, 'qq', 'qq', 'qq', datetime.datetime(2019, 4, 10, 10, 41, 44)), (6, 'test7', 'test7', 'test7', datetime.datetime(2019, 4, 10, 10, 38, 55)), (4, 'test3', 'test3', 'test3', datetime.datetime(2019, 4, 10, 10, 37, 8)), (3, 'test2', 'test2', 'test2', datetime.datetime(2019, 4, 10, 10, 36, 20)), (2, 'test1', 'test1', 'test1', datetime.datetime(2019, 4, 10, 10, 35, 12)), (1, 'test01', 'test1', 'test1', datetime.datetime(2019, 4, 10, 10, 34, 46))]\n",
      "\n",
      "<class 'list'>\n"
     ]
    }
   ],
   "source": [
    "conn = ora.connect(\"python3/test00@192.168.0.16:1521/xe\")\n",
    "cursor = conn.cursor( )\n",
    "print(cursor)\n",
    "\n",
    "sql_select = 'select no, writer, subject, content, regdate from board order by 1 desc'\n",
    "print(type(sql_select))\n",
    "cursor.execute(sql_select)\n",
    "print(cursor.fetchall())\n",
    "print()\n",
    "print(type(cursor.fetchall()))\n",
    "cursor.close()\n",
    "conn.close()"
   ]
  },
  {
   "cell_type": "code",
   "execution_count": null,
   "metadata": {},
   "outputs": [],
   "source": [
    "findone() : mybatis에서 select_one()\n",
    "플라스크(Flask) 웹 서비스일 경우 링크를 통해서 파라미터가 전달\n",
    "\n"
   ]
  },
  {
   "cell_type": "code",
   "execution_count": 30,
   "metadata": {},
   "outputs": [
    {
     "name": "stdout",
     "output_type": "stream",
     "text": [
      "상세보기 값 : 1\n",
      "(1, 'test01', 'test1', 'test1', '2019-04-10')\n"
     ]
    }
   ],
   "source": [
    "nov = input(\"상세보기 값 : \")\n",
    "sql_no = \"select no, writer, subject, content, \\\n",
    "to_char(regdate, 'yyyy-mm-dd') regdate from board where no = :no\"\n",
    "cursor = conn.cursor()\n",
    "cursor.execute(sql_no,no = nov)\n",
    "print(cursor.fetchone())\n",
    "cursor.close()"
   ]
  },
  {
   "cell_type": "code",
   "execution_count": 34,
   "metadata": {},
   "outputs": [
    {
     "name": "stdout",
     "output_type": "stream",
     "text": [
      "[('test1',), ('test1',), ('test2',), ('test3',), ('test7',)]\n",
      "<class 'list'>\n"
     ]
    }
   ],
   "source": [
    "\n",
    "sql_no = \"select subject from (select subject from board order by regdate) where rownum <=5\"\n",
    "cursor = conn.cursor()\n",
    "cursor.execute(sql_no)\n",
    "print(cursor.fetchall())\n",
    "print(type(cursor.fetchall()))\n",
    "cursor.close()\n"
   ]
  },
  {
   "cell_type": "code",
   "execution_count": 36,
   "metadata": {},
   "outputs": [
    {
     "name": "stdout",
     "output_type": "stream",
     "text": [
      "[('test1',), ('test1',), ('test2',), ('test3',), ('test7',)]\n"
     ]
    }
   ],
   "source": [
    "\n",
    "def top5():\n",
    "    cursor = conn.cursor()\n",
    "    sql_no = \"select subject from (select subject from board order by regdate) where rownum <=5\"\n",
    "    cursor.execute(sql_no)\n",
    "    return cursor.fetchall()\n",
    "\n",
    "a = top5()\n",
    "\n",
    "print(a)"
   ]
  },
  {
   "cell_type": "code",
   "execution_count": 4,
   "metadata": {},
   "outputs": [
    {
     "name": "stdout",
     "output_type": "stream",
     "text": [
      "<cx_Oracle.Connection to python3@localhost:1521/xe>\n"
     ]
    }
   ],
   "source": [
    "import cx_Oracle as ora\n",
    "def connections():\n",
    "    try:\n",
    "        conn = ora.connect(\"python3/test00@localhost:1521/xe\")\n",
    "    except Exception as e:\n",
    "        conn = \"예외발생\"\n",
    "        print(e)\n",
    "        return\n",
    "    return conn\n",
    "def test():\n",
    "    print(connections())\n",
    "test()\n",
    "\n",
    "# 예외 : ORA-12170: TNS:Connect timeout occurred / None"
   ]
  },
  {
   "cell_type": "code",
   "execution_count": 10,
   "metadata": {},
   "outputs": [
    {
     "name": "stdout",
     "output_type": "stream",
     "text": [
      "<cx_Oracle.Connection to python3@localhost:1521/xe>\n",
      "(9, 'ee', 'ee', datetime.datetime(2019, 4, 10, 10, 42, 2))\n",
      "(8, 'ww', 'ww', datetime.datetime(2019, 4, 10, 10, 41, 55))\n",
      "(7, 'qq', 'qq', datetime.datetime(2019, 4, 10, 10, 41, 44))\n",
      "(6, 'test7', 'test7', datetime.datetime(2019, 4, 10, 10, 38, 55))\n",
      "(4, 'test3', 'test3', datetime.datetime(2019, 4, 10, 10, 37, 8))\n"
     ]
    }
   ],
   "source": [
    "\n",
    "def examSelect():\n",
    "    conn = connections()\n",
    "    print(conn)\n",
    "    sql_select = 'select no,writer, content, regdate from \\\n",
    "    (select rownum, no, writer, content, regdate from \\\n",
    "    (select * from board order by 1 desc) where rownum <=5)'\n",
    "    cursor = conn.cursor()\n",
    "    cursor.execute(sql_select)\n",
    "    rs = cursor.fetchall()\n",
    "    #print(cursor.fetchall())\n",
    "    #print(type(cursor.fetchall()))\n",
    "    cursor.close()\n",
    "    conn.close()\n",
    "    return rs\n",
    "\n",
    "selectlists = examSelect()\n",
    "for e in selectlists:\n",
    "    print(e)\n",
    "\n",
    "    \n",
    "    \n",
    "    "
   ]
  },
  {
   "cell_type": "code",
   "execution_count": 23,
   "metadata": {},
   "outputs": [
    {
     "name": "stdout",
     "output_type": "stream",
     "text": [
      "fetchmany 5\n",
      "[(9, 'ee', 'ee', 'ee', 'ee', datetime.datetime(2019, 4, 10, 10, 42, 2)), (8, 'ww', 'ww', 'www', 'ww', datetime.datetime(2019, 4, 10, 10, 41, 55)), (7, 'qq', 'qq', 'qq', 'qq', datetime.datetime(2019, 4, 10, 10, 41, 44)), (6, 'test7', 'test7', 'test7', 'test7', datetime.datetime(2019, 4, 10, 10, 38, 55)), (4, '123', 'test3', 'test3', 'test3', datetime.datetime(2019, 4, 10, 10, 37, 8))]\n"
     ]
    }
   ],
   "source": [
    "def myFetchmany():\n",
    "    try:\n",
    "        conn = connections()\n",
    "        cursor = conn.cursor()\n",
    "        sql_select = 'select * from board order by 1 desc'\n",
    "        cursor.execute(sql_select)\n",
    "        numRows = 5\n",
    "        res = cursor.fetchmany(numRows = numRows)\n",
    "        print('fetchmany {}'.format(numRows))\n",
    "        cursor.close()\n",
    "        conn.close()\n",
    "        return res\n",
    "    except Exception as e:\n",
    "        conn = \"예외발생\"\n",
    "        print(e)\n",
    "        return\n",
    "    return conn\n",
    "print(myFetchmany())\n",
    "\n"
   ]
  },
  {
   "cell_type": "code",
   "execution_count": 24,
   "metadata": {},
   "outputs": [
    {
     "ename": "NameError",
     "evalue": "name '삭제' is not defined",
     "output_type": "error",
     "traceback": [
      "\u001b[1;31m---------------------------------------------------------------------------\u001b[0m",
      "\u001b[1;31mNameError\u001b[0m                                 Traceback (most recent call last)",
      "\u001b[1;32m<ipython-input-24-a57e933c0f08>\u001b[0m in \u001b[0;36m<module>\u001b[1;34m\u001b[0m\n\u001b[1;32m----> 1\u001b[1;33m \u001b[0m삭제\u001b[0m\u001b[1;33m\u001b[0m\u001b[1;33m\u001b[0m\u001b[0m\n\u001b[0m\u001b[0;32m      2\u001b[0m \u001b[1;33m-\u001b[0m \u001b[0minsert\u001b[0m\u001b[1;33m,\u001b[0m \u001b[0mdelete\u001b[0m\u001b[1;33m,\u001b[0m \u001b[0mupdate\u001b[0m\u001b[1;33m\u001b[0m\u001b[1;33m\u001b[0m\u001b[0m\n",
      "\u001b[1;31mNameError\u001b[0m: name '삭제' is not defined"
     ]
    }
   ],
   "source": [
    "삭제\n",
    "- insert, delete, update\n"
   ]
  },
  {
   "cell_type": "code",
   "execution_count": 31,
   "metadata": {
    "scrolled": true
   },
   "outputs": [
    {
     "name": "stdout",
     "output_type": "stream",
     "text": [
      "삭제번호 : 1\n",
      "<cx_Oracle.Connection to python3@localhost:1521/xe>\n"
     ]
    },
    {
     "data": {
      "text/plain": [
       "[(9, 'ee', 'ee', datetime.datetime(2019, 4, 10, 10, 42, 2)),\n",
       " (8, 'ww', 'ww', datetime.datetime(2019, 4, 10, 10, 41, 55)),\n",
       " (7, 'qq', 'qq', datetime.datetime(2019, 4, 10, 10, 41, 44)),\n",
       " (6, 'test7', 'test7', datetime.datetime(2019, 4, 10, 10, 38, 55)),\n",
       " (3, 'test2', 'test2', datetime.datetime(2019, 4, 10, 10, 36, 20))]"
      ]
     },
     "execution_count": 31,
     "metadata": {},
     "output_type": "execute_result"
    }
   ],
   "source": [
    "def boardDel(num):\n",
    "    conn = connections()\n",
    "    sql_delete = 'delete from board where no = :no'\n",
    "    try:\n",
    "        cursor = conn.cursor()\n",
    "        cursor.execute(sql_delete, no=num)\n",
    "        conn.commit()\n",
    "    except Exception as e:\n",
    "        print(e)\n",
    "        \n",
    "    finally:\n",
    "        conn.close()\n",
    "\n",
    "num = input('삭제번호 : ')\n",
    "boardDel(num)\n",
    "examSelect()"
   ]
  },
  {
   "cell_type": "code",
   "execution_count": null,
   "metadata": {},
   "outputs": [],
   "source": []
  },
  {
   "cell_type": "code",
   "execution_count": null,
   "metadata": {},
   "outputs": [],
   "source": []
  },
  {
   "cell_type": "code",
   "execution_count": null,
   "metadata": {},
   "outputs": [],
   "source": []
  },
  {
   "cell_type": "code",
   "execution_count": null,
   "metadata": {},
   "outputs": [],
   "source": []
  },
  {
   "cell_type": "code",
   "execution_count": null,
   "metadata": {},
   "outputs": [],
   "source": []
  },
  {
   "cell_type": "code",
   "execution_count": null,
   "metadata": {},
   "outputs": [],
   "source": []
  },
  {
   "cell_type": "code",
   "execution_count": null,
   "metadata": {},
   "outputs": [],
   "source": []
  }
 ],
 "metadata": {
  "kernelspec": {
   "display_name": "Python 3",
   "language": "python",
   "name": "python3"
  },
  "language_info": {
   "codemirror_mode": {
    "name": "ipython",
    "version": 3
   },
   "file_extension": ".py",
   "mimetype": "text/x-python",
   "name": "python",
   "nbconvert_exporter": "python",
   "pygments_lexer": "ipython3",
   "version": "3.7.1"
  }
 },
 "nbformat": 4,
 "nbformat_minor": 2
}
