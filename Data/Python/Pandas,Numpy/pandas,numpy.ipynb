{
 "cells": [
  {
   "cell_type": "code",
   "execution_count": null,
   "metadata": {},
   "outputs": [],
   "source": [
    "import pandas as pd\n",
    "import numpy as np\n",
    "\n",
    "\n",
    "df =  pd.DataFrame({\n",
    "    \"weight\":[80,70.4,65.5,45.9,51.2],\n",
    "    \"height\":[170,180,155,143,154]\n",
    "})\n",
    "\n",
    "df"
   ]
  },
  {
   "cell_type": "code",
   "execution_count": null,
   "metadata": {},
   "outputs": [],
   "source": [
    "#평균값 계산\n",
    "df[\"height\"].mean()"
   ]
  },
  {
   "cell_type": "code",
   "execution_count": null,
   "metadata": {},
   "outputs": [],
   "source": [
    "df[\"weight\"].mean()"
   ]
  },
  {
   "cell_type": "code",
   "execution_count": null,
   "metadata": {},
   "outputs": [],
   "source": [
    "a = [10,20,30,40,50]\n",
    "b = [10,30,30,30,50]\n",
    "dfa = pd.DataFrame(a)\n",
    "dfa = pd.DataFrame(b)\n"
   ]
  },
  {
   "cell_type": "code",
   "execution_count": null,
   "metadata": {},
   "outputs": [],
   "source": [
    "print(dfa.mean())"
   ]
  },
  {
   "cell_type": "code",
   "execution_count": null,
   "metadata": {},
   "outputs": [],
   "source": [
    "#분산\n",
    "df[\"height\"].var()"
   ]
  },
  {
   "cell_type": "code",
   "execution_count": null,
   "metadata": {},
   "outputs": [],
   "source": [
    "df[\"weight\"].var()"
   ]
  },
  {
   "cell_type": "code",
   "execution_count": null,
   "metadata": {},
   "outputs": [],
   "source": [
    "df3 = pd.DataFrame(np.random.randn(4,3),columns=[\"b\",\"d\",\"e\"],\\\n",
    "                                          index =[\"서울\",\"인천\",\"대구\",\"부산\"])\n",
    "df3"
   ]
  },
  {
   "cell_type": "code",
   "execution_count": null,
   "metadata": {},
   "outputs": [],
   "source": [
    "#lambda 입력 : 출력. 자바에서도 있는 람다식.\n",
    "func = lambda x : x.max() - x.min()\n",
    "df3.apply(func, axis=0) #axis = 0 열방향(세로), axis = 1 (행방향,가로)"
   ]
  },
  {
   "cell_type": "code",
   "execution_count": null,
   "metadata": {},
   "outputs": [],
   "source": [
    "#csv 모듈을 사용하지 않고 파이썬 문법만 사용한 코드\n",
    "input_file = 'C:\\\\Users\\\\daily\\\\Desktop\\\\jupiter_workspace\\\\0417 (12일차)\\\\input.csv'\n",
    "output_file = 'C:\\\\Users\\\\daily\\\\Desktop\\\\jupiter_workspace\\\\0417 (12일차)\\\\output1.csv'\n",
    "\n",
    "#newline = '' 개행문자를 무시하고 읽음.\n",
    "#이 옵션이 없으면 빈 라인이 추가됨\n",
    "with open(input_file,'r',newline='') as reader:\n",
    "    with open(output_file,'w',newline='') as writer:\n",
    "        header = reader.readline() #한줄단위로 읽음\n",
    "#strip() :  문자열 좌우의 공백, 탭, 개행문자 제거\n",
    "        header = header.strip()\n",
    "        header_list = header.split(',')\n",
    "        print(header_list)\n",
    "#header_list 의 각 값 사이에 쉼표를 삽입하고 리스트를 문자열로 변환\n",
    "#,개행문자를 끝에 추가\n",
    "#print(str)\n",
    "#header_list 의 각 요소를 스트링으로 변환\n",
    "#print(map(str,header_list))\n",
    "#header 행의 문자열\n",
    "#print(','.join(map(str,header_list))+'\\n')\n",
    "        writer.write(','.join(map(str,header_list))+'\\n')\n",
    "        for row in reader:\n",
    "            row = row.strip()\n",
    "            row_list = row.split(',')\n",
    "            print(row_list)\n",
    "            writer.write(','.join(map(str,row_list))+'\\n')"
   ]
  },
  {
   "cell_type": "code",
   "execution_count": null,
   "metadata": {},
   "outputs": [],
   "source": [
    "import pandas as pd\n",
    "import numpy as np\n",
    "import csv\n",
    "\n",
    "input_file = 'C:\\\\Users\\\\daily\\\\Desktop\\\\jupiter_workspace\\\\0417 (12일차)\\\\input.csv'\n",
    "output_file = 'C:\\\\Users\\\\daily\\\\Desktop\\\\jupiter_workspace\\\\0417 (12일차)\\\\output2.csv'\n",
    "\n",
    "df = pd.read_csv(input_file)  #파일을 읽어서 데이터프레임으로 리턴\n",
    "print(df)\n",
    "#데이터프레임을 csv 파일로 저장, index 생략 여부를 결정\n",
    "df.to_csv(output_file,index = True) #인덱스를 저장할지 말지 여부를 설정하는 키워드( index = true,false)"
   ]
  },
  {
   "cell_type": "code",
   "execution_count": null,
   "metadata": {},
   "outputs": [],
   "source": [
    "import csv # csv 모듈 로딩\n",
    "input_file = 'C:\\\\Users\\\\daily\\\\Desktop\\\\jupiter_workspace\\\\0417 (12일차)\\\\data\\\\input.csv'\n",
    "output_file = 'C:\\\\Users\\\\daily\\\\Desktop\\\\jupiter_workspace\\\\0417 (12일차)\\\\data\\\\output3.csv'\n",
    "\n",
    "#입력파일 오픈\n",
    "with open(input_file,\"r\", newline=\"\") as csv_in_file:\n",
    "    #출력 파일 오픈\n",
    "    with open(output_file, \"w\" , newline=\"\") as csv_out_file:\n",
    "        #csv 파일 로딩(구분자: 쉼표)\n",
    "        filereader = csv.reader(csv_in_file,delimiter=\",\")\n",
    "        filewriter = csv.writer(csv_out_file,delimiter=\",\")\n",
    "        #각 라인을 읽어서 파일에 저장\n",
    "        for row_list in filereader:\n",
    "            print(row_list)\n",
    "            filewriter.writerow(row_list)\n"
   ]
  },
  {
   "cell_type": "code",
   "execution_count": null,
   "metadata": {},
   "outputs": [],
   "source": [
    "import csv # csv 모듈 로딩\n",
    "input_file = 'C:\\\\Users\\\\daily\\\\Desktop\\\\jupiter_workspace\\\\0417 (12일차)\\\\data\\\\input.csv'\n",
    "output_file = 'C:\\\\Users\\\\daily\\\\Desktop\\\\jupiter_workspace\\\\0417 (12일차)\\\\data\\\\output3.csv'\n",
    "\n",
    "#입력파일 오픈\n",
    "with open(input_file,\"r\", newline=\"\") as csv_in_file:\n",
    "    #출력 파일 오픈\n",
    "    with open(output_file, \"w\" , newline=\"\") as csv_out_file:\n",
    "        #csv 파일 로딩(구분자: 쉼표)\n",
    "        filereader = csv.reader(csv_in_file)\n",
    "        filewriter = csv.writer(csv_out_file)\n",
    "        #한 라인을 읽음 (첫 라인)\n",
    "        header = next(filereader)\n",
    "        #한라인을 저장(첫 라인)\n",
    "        filewriter.writerow(header)\n",
    "        for row_list in filereader:\n",
    "        #행의 첫번째 필드\n",
    "            supplier = str(row[0]).strip()\n",
    "        #$ 문자를 제거하고 쉼표를 제거\n",
    "            cost = str(row[3]).strip('$').replace(',','')\n",
    "        #supplier 가 A 이거나 cost가 60만 이상인 행만 선택\n",
    "            if supplier =='A' or float(cost) >=600000.0:\n",
    "                filewriter.writerow(row)\n",
    "        #각 라인을 읽어서 파일에 저장\n",
    "            print(row_list)\n",
    "            #filewriter.writerow(row_list)\n",
    "            "
   ]
  },
  {
   "cell_type": "code",
   "execution_count": null,
   "metadata": {},
   "outputs": [],
   "source": [
    "input_file = 'C:\\\\Users\\\\daily\\\\Desktop\\\\jupiter_workspace\\\\0417 (12일차)\\\\data\\\\input.csv'\n",
    "output_file = 'C:\\\\Users\\\\daily\\\\Desktop\\\\jupiter_workspace\\\\0417 (12일차)\\\\data\\\\output3.csv'\n",
    "\n",
    "df = pd.read_csv(input_file, engine=\"python\") #파일을 읽어서 데이터프레임으로 리턴\n",
    "#print(df)\n",
    "\n",
    "#$제거, float로 형변환\n",
    "df[\"Cost\"] = df[\"Cost\"].str.strip(\"$\").astype(float)\n",
    "print(df[\"Cost\"])\n",
    "#loc[행범위,열범위]\n",
    "\n",
    "#str.contains('')  특정한 문자열이 있는 요소만 검색할때 사용\n",
    "result = df.loc[(df[\"Supplier Name\"].str.contains(\"A\")) |\\\n",
    "               (df[\"Cost\"] > 600000.0), : ]\n",
    "\n",
    "print(result)\n",
    "\n",
    "result.to_csv(output_file,index=True)\n",
    "#데이터프레임을 csv파일로 저장, index 생략 여부를 결정\n"
   ]
  },
  {
   "cell_type": "code",
   "execution_count": null,
   "metadata": {},
   "outputs": [],
   "source": [
    "#구매일자가 1월 20일, 1월 30일 인 데이터만 뽑아내기\n",
    "input_file = 'C:\\\\Users\\\\daily\\\\Desktop\\\\jupiter_workspace\\\\0417 (12일차)\\\\data\\\\input.csv'\n",
    "output_file = 'C:\\\\Users\\\\daily\\\\Desktop\\\\jupiter_workspace\\\\0417 (12일차)\\\\data\\\\OutputDate.csv'\n",
    "\n",
    "df = pd.read_csv(input_file, engine=\"python\") #파일을 읽어서 데이터프레임으로 리턴\n",
    "\n",
    "df[\"Cost\"] = df[\"Cost\"].str.strip(\"$\").astype(float)\n",
    "result = df.loc[(df[\"Purchase Date\"].str.contains(\"01-20\")) |\\\n",
    "               (df[\"Purchase Date\"].str.contains(\"01-30\")), : ]\n",
    "\n",
    "#isin() 함수를 사용하면 내부에 어떤 데이터가 있는지 찾을 수 있다.\n",
    "#ex)dates = [\"2014-01-20\",\"2018-01-30\"]\n",
    "#print(df[\"Purchase Date\"].isin(dates))\n",
    "\n",
    "print(result)\n",
    "result.to_csv(output_file,index=False)"
   ]
  },
  {
   "cell_type": "code",
   "execution_count": null,
   "metadata": {},
   "outputs": [],
   "source": [
    "#구매일자가 1월 20일, 1월 30일 인 데이터만 뽑아내기\n",
    "\n",
    "input_file = 'C:\\\\Users\\\\daily\\\\Desktop\\\\jupiter_workspace\\\\0417 (12일차)\\\\data\\\\input.csv'\n",
    "output_file = 'C:\\\\Users\\\\daily\\\\Desktop\\\\jupiter_workspace\\\\0417 (12일차)\\\\data\\\\outputDate.csv'\n",
    "df = pd.read_csv(input_file, engine=\"python\") #파일을 읽어서 데이터프레임으로 리턴\n",
    "\n",
    "dates = [\"2014-01-20\",\"2018-01-30\"]\n",
    "\n",
    "print(df[\"Purchase Date\"].isin(dates))\n",
    "result = df.loc[ df[\"Purchase Date\"].isin(dates)] \n",
    "    \n",
    "\n",
    "\n",
    "print(result)\n",
    "result.to_csv(output_file,index=False)"
   ]
  },
  {
   "cell_type": "code",
   "execution_count": null,
   "metadata": {},
   "outputs": [],
   "source": [
    "import csv # csv 모듈 로딩\n",
    "input_file = 'C:\\\\Users\\\\daily\\\\Desktop\\\\jupiter_workspace\\\\0417 (12일차)\\\\data\\\\input.csv'\n",
    "output_file = 'C:\\\\Users\\\\daily\\\\Desktop\\\\jupiter_workspace\\\\0417 (12일차)\\\\data\\\\outputDateCsv.csv'\n",
    "#입력파일 오픈\n",
    "with open(input_file,\"r\", newline=\"\") as csv_in_file:\n",
    "    #출력 파일 오픈\n",
    "    with open(output_file, \"w\" , newline=\"\") as csv_out_file:\n",
    "        #csv 파일 로딩(구분자: 쉼표)\n",
    "        filereader = csv.reader(csv_in_file)\n",
    "        filewriter = csv.writer(csv_out_file)\n",
    "        pDate = str(row[4]).str.contains(\"01-20\") | str(row[4]).str.contains(\"01-30\")\n",
    "        print(pDate)\n",
    "        #각 라인을 읽어서 파일에 저장\n",
    "        for row_list in filereader:\n",
    "            #if supplier =='A' or float(cost) >=600000.0:\n",
    "            print(row_list)\n",
    "            #filewriter.writerow(row_list)"
   ]
  },
  {
   "cell_type": "code",
   "execution_count": null,
   "metadata": {},
   "outputs": [],
   "source": [
    "#json 데이터를 판다스의 dataframe으로 변경\n",
    "import pandas as pd\n",
    "import json\n",
    "\n",
    "myobj= \"\"\"{    \"name\" : [\"김길동\", \"이선아\"],    \"age\" : [35 ,25],    \"gender\" : [\"남자\", \"여자\"],    \"address\" : [\"서울시\", \"부천시\"]}\"\"\"\n",
    "data = json.loads(myobj) #json데이터를 dict 타입으로 변환. dataframe으로 변환하기 위한 작업..\n",
    "#dataframe에 값 입력\n",
    "df = pd.DataFrame(data,columns=['name' ,'age', 'gender', 'address']) \n",
    "\n",
    "df\n"
   ]
  },
  {
   "cell_type": "code",
   "execution_count": null,
   "metadata": {},
   "outputs": [],
   "source": [
    "import pandas as pd\n",
    "import numpy as np\n",
    "#2006~2008 데이터 로딩\n",
    "df1 = pd.read_csv(\"C:\\\\Users\\\\KOSTA\\\\jupiter_workspace\\\\0417\\\\data\\\\airline\\\\2006.csv\",sep=\",\")\n",
    "df2 = pd.read_csv(\"C:\\\\Users\\\\KOSTA\\\\jupiter_workspace\\\\0417\\\\data\\\\airline\\\\2007.csv\",sep=\",\")\n",
    "df3 = pd.read_csv(\"C:\\\\Users\\\\KOSTA\\\\jupiter_workspace\\\\0417\\\\data\\\\airline\\\\2008.csv\",sep=\",\")\n",
    "\n",
    "#데이터프레임 합치기\n",
    "\n",
    "#df1 = df1.append(df2)\n",
    "#df1 = df1.append(df3)"
   ]
  },
  {
   "cell_type": "code",
   "execution_count": null,
   "metadata": {},
   "outputs": [],
   "source": [
    "df1.shape"
   ]
  },
  {
   "cell_type": "code",
   "execution_count": null,
   "metadata": {},
   "outputs": [],
   "source": [
    "df1.columns"
   ]
  },
  {
   "cell_type": "code",
   "execution_count": null,
   "metadata": {},
   "outputs": [],
   "source": [
    "df1.head()"
   ]
  },
  {
   "cell_type": "code",
   "execution_count": null,
   "metadata": {},
   "outputs": [],
   "source": [
    "df2 = df1[[\"Year\",\"Month\",\"ArrDelay\",\"DepDelay\"]]"
   ]
  },
  {
   "cell_type": "code",
   "execution_count": null,
   "metadata": {},
   "outputs": [],
   "source": [
    "df2.head() # 처음 5행"
   ]
  },
  {
   "cell_type": "code",
   "execution_count": null,
   "metadata": {},
   "outputs": [],
   "source": [
    "df2.tail() # 마지막 5행"
   ]
  },
  {
   "cell_type": "code",
   "execution_count": null,
   "metadata": {},
   "outputs": [],
   "source": [
    "df2.shape"
   ]
  },
  {
   "cell_type": "code",
   "execution_count": null,
   "metadata": {},
   "outputs": [],
   "source": [
    "df2 = df2.dropna(how=\"any\") #하나의 컬럼이라도 NaN(결측치)이 있으면 제거"
   ]
  },
  {
   "cell_type": "code",
   "execution_count": null,
   "metadata": {},
   "outputs": [],
   "source": [
    "#년도별 그룹바이\n",
    "result2 = df2.groupby(df2.Year).describe().T"
   ]
  },
  {
   "cell_type": "code",
   "execution_count": null,
   "metadata": {},
   "outputs": [],
   "source": [
    "#데이터프레임을 group by 명령어로 집계 처리  as_index=False 인덱스로 지정할 것인지 여부\n",
    "result = df2.groupby([\"Year\",\"Month\"],as_index=False),sum()\n",
    "result"
   ]
  },
  {
   "cell_type": "code",
   "execution_count": null,
   "metadata": {},
   "outputs": [],
   "source": [
    "result.to_csv(\"C:\\\\Users\\\\KOSTA\\\\jupiter_workspace\\\\0417\\\\data\\\\airline\\\\result.csv\",sep=\",\",index=False)"
   ]
  },
  {
   "cell_type": "code",
   "execution_count": null,
   "metadata": {},
   "outputs": [],
   "source": [
    "# sum() 함수 이외에도 pandas에서 DataFrame에 적용되는 함수는 다음의 것들이 있다.\n",
    "\n",
    "# count 전체 성분의 (NaN이 아닌) 값의 갯수를 계산\n",
    "\n",
    "# min, max 전체 성분의 최솟, 최댓값을 계산\n",
    "\n",
    "# argmin, argmax 전체 성분의 최솟값, 최댓값이 위치한 (정수)인덱스를 반환\n",
    "\n",
    "# idxmin, idxmax 전체 인덱스 중 최솟값, 최댓값을 반환\n",
    "\n",
    "# quantile 전체 성분의 특정 사분위수에 해당하는 값을 반환 (0~1 사이)\n",
    "\n",
    "# sum 전체 성분의 합을 계산\n",
    "\n",
    "# mean 전체 성분의 평균을 계산\n",
    "\n",
    "# median 전체 성분의 중간값을 반환\n",
    "\n",
    "# mad 전체 성분의 평균값으로부터의 절대 편차(absolute deviation)의 평균을 계산\n",
    "\n",
    "# std, var 전체 성분의 표준편차, 분산을 계산\n",
    "\n",
    "# cumsum 맨 첫 번째 성분부터 각 성분까지의 누적합을 계산 (0에서부터 계속 더해짐)\n",
    "\n",
    "# cumprod 맨 첫번째 성분부터 각 성분까지의 누적곱을 계산 (1에서부터 계속 곱해짐)\n",
    "\n"
   ]
  },
  {
   "cell_type": "code",
   "execution_count": null,
   "metadata": {},
   "outputs": [],
   "source": [
    "df1.shape"
   ]
  },
  {
   "cell_type": "code",
   "execution_count": null,
   "metadata": {},
   "outputs": [],
   "source": [
    "\n"
   ]
  },
  {
   "cell_type": "code",
   "execution_count": null,
   "metadata": {},
   "outputs": [],
   "source": [
    "# 매직 명렁어 - ipython에서 실행이 됨\n",
    "# 완성된 그래프를 웹브라우저에서 출력\n",
    "# 그래프 출력과정을 확인할 수 있다.\n",
    "\n",
    "# 그래프를 조작이 가능한 모드이다.\n",
    "# %matplotlib nbagg\n",
    "#모둘 로딩\n",
    "\n",
    "\n",
    "%matplotlib inline\n"
   ]
  },
  {
   "cell_type": "code",
   "execution_count": null,
   "metadata": {},
   "outputs": [],
   "source": [
    "\n",
    "import matplotlib\n",
    "import matplotlib.pyplot as plt\n",
    "import pandas as pd\n",
    "import numpy as np\n",
    "\n"
   ]
  },
  {
   "cell_type": "code",
   "execution_count": null,
   "metadata": {},
   "outputs": [],
   "source": [
    "# 50개의 난수를 생성 rand(갯수)\n",
    "# 0.0 ~ 1.0 사이의 값이 나온다.\n",
    "\n",
    "np.random.seed(0)\n",
    "data = np.random.rand(50)\n",
    "print(type(data))\n",
    "print(data)"
   ]
  },
  {
   "cell_type": "code",
   "execution_count": null,
   "metadata": {},
   "outputs": [],
   "source": [
    "# 넘파이 배열을 판다스의 시리즈로 바꿔라.\n",
    "seri = pd.Series(data)\n",
    "print(seri.head(6))\n",
    "\n",
    "#시리즈에서 제공하는 plot()을 제공하고 있다.\n",
    "seri.plot()"
   ]
  },
  {
   "cell_type": "code",
   "execution_count": null,
   "metadata": {},
   "outputs": [],
   "source": [
    "# 누적 합 cumsum() 첫번째, 두번째 이런 식으로 누적해서 합친 값을 나타낸다\n",
    "\n",
    "nums = np.random.randn(10)\n",
    "print(nums)\n",
    "print(nums.cumsum()) # 누적합\n",
    "# 아래의 결과를 보면 첫번째는 같지만 그다음 부터는 누적된 값이 된다."
   ]
  },
  {
   "cell_type": "code",
   "execution_count": null,
   "metadata": {},
   "outputs": [],
   "source": [
    "# 시리즈(1차원 배열) 자료형 생성\n",
    "# randn(n) : n개의 정규분포를 따르는 난수 생성\n",
    "# cumsum() : 누적합을 구해주는 함수\n",
    "# arange(start, end, step) : start ~ end-1, step\n",
    "# 0~90까지 나온다. step이 10이니까.\n",
    "\n",
    "import pandas as pd\n",
    "import numpy as np\n",
    "\n",
    "s = pd.Series(np.random.randn(10).cumsum(),\\\n",
    "             index = np.arange(0,100,10))\n",
    "\n",
    "ss = pd.Series(np.random.randn(100).cumsum(),\\\n",
    "             index = np.arange(0,100,1))\n",
    "\n",
    "ssd = pd.Series(np.random.randn(100),\\\n",
    "             index = np.arange(0,100,1))\n",
    "\n",
    "# print(s)\n",
    "\n",
    "# print(ss)\n",
    "\n",
    "print(ssd)\n",
    "# ss"
   ]
  },
  {
   "cell_type": "code",
   "execution_count": null,
   "metadata": {},
   "outputs": [],
   "source": [
    "# 그래프에서 스타일 변경\n",
    "matplotlib.style.use('ggplot')\n",
    "s.plot()"
   ]
  },
  {
   "cell_type": "code",
   "execution_count": null,
   "metadata": {},
   "outputs": [],
   "source": [
    "# rand(rows, cols)\n",
    "# 10행 3열의 행렬의 난수 생성\n",
    "data_set = np.random.rand(10,3)\n",
    "print(data_set)\n",
    "\n",
    "#행렬의 차원 확인\n",
    "print(data_set.shape)\n",
    "\n",
    "#행렬 데이터\n",
    "print(type(data_set))"
   ]
  },
  {
   "cell_type": "code",
   "execution_count": null,
   "metadata": {},
   "outputs": [],
   "source": []
  },
  {
   "cell_type": "code",
   "execution_count": null,
   "metadata": {},
   "outputs": [],
   "source": [
    "# 넘파이 행렬을 판다스의 데이터 프레임으로 변환\n",
    "# 하는 이유는 데이터 프레임이기 때문에 행과 열 형태로\n",
    "# 데이터를 조회하거나 시각화하기가 좋음\n",
    "\n",
    "df = pd.DataFrame(data_set, columns = [\"A\",\"B\",\"C\"])\n",
    "df\n",
    "df.plot()\n",
    "\n",
    "# 그래프를 보면 행이 인덱스니까, 즉 0~9까지가 x축으로 들어 간다.\n",
    "# 값들이 y축으로 들어 간다.\n",
    "print(\"max : \", df.max())\n",
    "print(\"min : \", df.min())"
   ]
  },
  {
   "cell_type": "code",
   "execution_count": null,
   "metadata": {},
   "outputs": [],
   "source": [
    "# 막대 그래프 출력해 보자\n",
    "# 수직 막대 그래프\n",
    "df.plot(kind=\"bar\")\n",
    "print(type(df.plot(kind=\"bar\")))\n",
    "# 수평 막대 그래프\n",
    "df.plot(kind=\"barh\")"
   ]
  },
  {
   "cell_type": "code",
   "execution_count": null,
   "metadata": {},
   "outputs": [],
   "source": [
    "# 누적 막대 그래프 그려보기\n",
    "df.plot(kind=\"area\")\n",
    "# 그래프 보면 A값과 B의값과 C의값이 합쳐진 것을 볼 수가 있다."
   ]
  },
  {
   "cell_type": "code",
   "execution_count": null,
   "metadata": {},
   "outputs": [],
   "source": []
  },
  {
   "cell_type": "code",
   "execution_count": null,
   "metadata": {},
   "outputs": [],
   "source": [
    "# 연습문제 7번\n",
    "# 평당 분양가격을  bar 그래프로 그려보기\n",
    "import pandas as pd\n",
    "\n",
    "\n",
    "\n",
    "\n",
    "\n",
    "aptData = pd.read_csv('C:\\\\Users\\\\daily\\\\Desktop\\\\jupiter_workspace\\\\2019_apt.csv', encoding=\"cp949\")\n",
    "\n",
    "# aptData = read_csv(\"2019_apt.csv\",encoding=\"euc-kr\")\n",
    "# aptData[\"분양가격(㎡)\"].\n",
    "l = [str(x).strip() for x in aptData[\"분양가격(㎡)\"].values] #str float\n",
    "aptData[\"분양가격\"]=l\n",
    "a=[]\n",
    "for x in l:\n",
    "    x = x.replace(\",\",\"\")\n",
    "    if(x==\"\"):\n",
    "        x=0\n",
    "    x = float(x)*3.3\n",
    "    a.append(x)\n",
    "aptData[\"평당분양가격\"]=a\n",
    "aptData\n",
    "\n",
    "# result2 = df.groupby(df.규모구분).describe().T\n",
    "\n",
    "\n",
    "tmp = np.array(aptData[\"평당분양가격\"].head(50))\n",
    "idx = aptData[\"규모구분\"].head(50)\n",
    "print(type(tmp))\n",
    "\n",
    "df = pd.Series(tmp,idx)\n",
    "df.plot(kind=\"bar\")\n",
    "\n",
    "\n"
   ]
  },
  {
   "cell_type": "code",
   "execution_count": null,
   "metadata": {},
   "outputs": [],
   "source": []
  },
  {
   "cell_type": "code",
   "execution_count": null,
   "metadata": {},
   "outputs": [],
   "source": [
    "# 누적 막대 그래프 그려보기\n",
    "#누적하지 않고 투명하게 보여주는 방법\n",
    "# stacked = False는 층을 쌓을 것인가에 대한 설정\n",
    "# A,B,C의 면적을 겹처서 그린 것\n",
    "df.plot(kind=\"area\", stacked=False)"
   ]
  },
  {
   "cell_type": "code",
   "execution_count": null,
   "metadata": {},
   "outputs": [],
   "source": []
  },
  {
   "cell_type": "code",
   "execution_count": null,
   "metadata": {},
   "outputs": [],
   "source": [
    "# 연습문제 1) 레벨 1.\n",
    "y = [5, 3, 7, 10, 9, 5, 3.5, 8]\n",
    "print(type(y))\n",
    "# 위의 리스트를 np.array로 변환하여 Series의 막대 그래프로 출력하시오.\n",
    "#인덱스는 리스트로 A\n",
    "import pandas as pd\n",
    "import numpy as np\n",
    "import matplotlib.pyplot as plt\n",
    "\n",
    "\n",
    "y = np.array(y)\n",
    "yy = pd.Series(y) \n",
    "print(yy)\n",
    "print(type(yy))\n",
    "yy.index = [\"A\",\"B\",\"C\",\"D\",\"E\",\"F\",\"G\",\"H\"]\n",
    "yy.plot(kind=\"bar\")\n",
    "\n",
    "print(type(yy.plot))\n"
   ]
  },
  {
   "cell_type": "code",
   "execution_count": null,
   "metadata": {},
   "outputs": [],
   "source": [
    "\n",
    "\n",
    "강사님정답\n",
    "\n"
   ]
  },
  {
   "cell_type": "code",
   "execution_count": null,
   "metadata": {},
   "outputs": [],
   "source": [
    "plt.xlabel('Sequence')\n",
    "plt.ylabel('Time(secs)')\n",
    "plt.title('Group Time Result')\n",
    "ay = np.array(y)\n",
    "ay\n",
    "sri = pd.Series(ay,index=list(\"ABCDEFGH\"))\n",
    "sri\n",
    "sri.plot(kind=\"bar\")"
   ]
  },
  {
   "cell_type": "code",
   "execution_count": null,
   "metadata": {},
   "outputs": [],
   "source": [
    "\n",
    "\n",
    "# 연습문제\n",
    "# 데이터프레임 (2차원 배열 형태) 생성\n",
    "# randn(rows,cols) 10행 4열의 난수 생성\n",
    "# arrange(start, end, step)\n",
    "# randn(행, 열)\n",
    "\n",
    "nprandom = np.random.randn(10,4)\n",
    "print(nprandom)\n",
    "\n",
    "df = pd.DataFrame(np.random.randn(10,4),\n",
    "                 columns = [\"A\",\"B\",\"C\",\"D\"],\n",
    "                 index = np.arange(0,100,10))\n",
    "df\n",
    "df.plot()"
   ]
  },
  {
   "cell_type": "code",
   "execution_count": null,
   "metadata": {},
   "outputs": [],
   "source": [
    "\n"
   ]
  },
  {
   "cell_type": "code",
   "execution_count": null,
   "metadata": {},
   "outputs": [],
   "source": [
    "# 데이터프레임의 B,C컬럼만 그래프로 출력됨\n",
    "# df[\"B\"].plot()\n",
    "# df[\"C\"].plot()\n",
    "\n",
    "df[[\"B\",\"C\"]].plot()"
   ]
  },
  {
   "cell_type": "code",
   "execution_count": null,
   "metadata": {},
   "outputs": [],
   "source": []
  },
  {
   "cell_type": "code",
   "execution_count": null,
   "metadata": {},
   "outputs": [],
   "source": [
    "#넘파이의 랜덤값 3개 -> 판다스의 시리즈 자료형으로 변환\n",
    "# 넘파이로 5개 0.0 ~ 1.0 사이의 난수 발생\n",
    "# index는 행의 이름을 A~E이고 시리즈 이름을 부여했다.\n",
    "\n",
    "np.random.seed(0)\n",
    "data = np.random.random(5)\n",
    "print(data)\n",
    "\n",
    "plt.title('Pie Exam')\n",
    "seri2 = pd.Series(\\\n",
    "                 data, index=[\"A\",\"B\",\"C\",\"D\",\"E\"],\n",
    "                 name = \"series pit chart\")\n",
    "\n",
    "# pie 차트에서 autopct를 생략하면 pie안에 글자가 없다\n",
    "# figsize = (가로, 세로) 그림의 사이즈\n",
    "seri2.plot(kind=\"pie\",autopct=\"%.2f\", fontsize=20, figsize=(7,5))"
   ]
  },
  {
   "cell_type": "code",
   "execution_count": null,
   "metadata": {},
   "outputs": [],
   "source": []
  },
  {
   "cell_type": "code",
   "execution_count": null,
   "metadata": {},
   "outputs": [],
   "source": [
    "# 시리즈 자료형 변수 생성\n",
    "# rand(16) 16개의 난수 생성, 0.0 ~ 1.0\n",
    "# list(\"문자열\") 문자열을 리스트로 변환\n",
    "s2 = pd.Series(np.random.rand(16), index = list(\"abcdefghijklmnop\"))\n",
    "s2"
   ]
  },
  {
   "cell_type": "code",
   "execution_count": null,
   "metadata": {},
   "outputs": [],
   "source": [
    "s2.plot()\n",
    "\n",
    "s2.plot(kind=\"bar\") #세로막대그래프"
   ]
  },
  {
   "cell_type": "code",
   "execution_count": 21,
   "metadata": {},
   "outputs": [],
   "source": [
    "#한글처리 폰트 설정해보기\n",
    "from matplotlib import rc, font_manager\n",
    "#한글 폰트 관련 설정 (matplotlib에서 한글을 사용할 수 있도록 설정)\n",
    "font_name = font_manager.FontProperties(fname=\"c:\\\\Windows\\\\Fonts\\\\malgun.ttf\").get_name()\n",
    "rc(\"font\", family=font_name)\n"
   ]
  },
  {
   "cell_type": "code",
   "execution_count": null,
   "metadata": {},
   "outputs": [],
   "source": [
    "df3 = pd.DataFrame(np.random.randn(6,4),\\\n",
    "                   columns=pd.Index([\"사과\",\"배\",\"귤\",\"수박\"], name=\"과일\",\\\n",
    "                                          index =[\"one\",\"two\",\"three\",\"four\",\"five\",\"six\"]))\n",
    "df3"
   ]
  },
  {
   "cell_type": "code",
   "execution_count": null,
   "metadata": {},
   "outputs": [],
   "source": [
    "df3.plot(kind=\"bar\")"
   ]
  },
  {
   "cell_type": "code",
   "execution_count": null,
   "metadata": {},
   "outputs": [],
   "source": []
  },
  {
   "cell_type": "code",
   "execution_count": null,
   "metadata": {},
   "outputs": [],
   "source": [
    "# 가로 방향 막대 그래프, stacked=True 누적시키겠다.\n",
    "# 막대를 하나로 만들고 값을 비율에 맞게 조절한거고\n",
    "df3.plot(kind=\"barh\", stacked=True)"
   ]
  },
  {
   "cell_type": "code",
   "execution_count": null,
   "metadata": {},
   "outputs": [],
   "source": []
  },
  {
   "cell_type": "code",
   "execution_count": null,
   "metadata": {},
   "outputs": [],
   "source": [
    "# 히스토그램 : x변수가 가질 수 있는 값의 구간이라서 갯수를 막대 형태로 출력\n",
    "# 히스토그램은 값만 필요하지 인덱스는 필요하지 않음\n",
    "# normal() 중앙값, 표준편차 가지고 200개의 난수 발생 (정규분포)\n",
    "# rand는 무조건 0에서 1사이에 값만 나오는데, 이건 조절할 수 있다.\n",
    "# 중앙값이 2이고 표준편차 값이 100정도 되는 난수를 200개 출력\n",
    "\n",
    "np.random.seed(0)\n",
    "s3 = pd.Series(np.random.normal(2,100,size=200))\n",
    "#2가 중앙값이고 100이 표준편차. 갯수는 200개\n",
    "print(s3.shape)\n",
    "# s3.head() 첫 5행\n",
    "s3.tail() #마지막 5행\n",
    "\n"
   ]
  },
  {
   "cell_type": "code",
   "execution_count": null,
   "metadata": {},
   "outputs": [],
   "source": [
    "#마이너스 값이 깨질 수 있는데 이렇게 섦정하면 안깨짐.\n",
    "\n",
    "plt.rcParams['axes.unicode_minus'] = False\n",
    "\n",
    "# x축 구간은 기본적으로 10개로 설정이 됨\n",
    "\n",
    "\n",
    "s3.hist() # 히스토그램 출력"
   ]
  },
  {
   "cell_type": "code",
   "execution_count": null,
   "metadata": {},
   "outputs": [],
   "source": [
    "# x축 구간의 막대의 갯수를 지정\n",
    "# 히스토그램을 그리면서 bins값을 조정하면\n",
    "# 막대의 값을 늘일 수 있다.\n",
    "s3.hist(bins=20)"
   ]
  },
  {
   "cell_type": "code",
   "execution_count": null,
   "metadata": {},
   "outputs": [],
   "source": [
    "# normed(놈드) 를 True로 주면 정규분포가 된다.\n",
    "# 정규분포는 종모양\n",
    "\n",
    "s3.hist(bins=10, normed=True)"
   ]
  },
  {
   "cell_type": "code",
   "execution_count": null,
   "metadata": {},
   "outputs": [],
   "source": [
    "#density = True\n",
    "s3.hist(bins=10, density=True)"
   ]
  },
  {
   "cell_type": "code",
   "execution_count": null,
   "metadata": {},
   "outputs": [],
   "source": [
    "s3.hist(bins=10, density=False)"
   ]
  },
  {
   "cell_type": "code",
   "execution_count": null,
   "metadata": {},
   "outputs": [],
   "source": []
  },
  {
   "cell_type": "code",
   "execution_count": null,
   "metadata": {},
   "outputs": [],
   "source": [
    "# 산점도 : 서로 다른 독립변수 x1, x2의 관계를 파악할 때 사용\n",
    "# x,y 축을 기준으로 점을 찍은 것이다.\n",
    "# 점이 모여 있는거 보고 편중됐다 라고 보는 것이다.\n",
    "\n",
    "# ===============================================\n",
    "\n",
    "# normal(mu,sigma, size = (row,cols))\n",
    "# mu : 중앙값(median), sigma : 표준편차\n",
    "\n",
    "# ==============================================\n",
    "\n",
    "# 중앙값이 1이고, 표준편차가 1, 사이즈가 100행 1열이다.\n",
    "# np.random.normal (1,1,size=(100,1))"
   ]
  },
  {
   "cell_type": "code",
   "execution_count": null,
   "metadata": {},
   "outputs": [],
   "source": [
    "x1 = np.random.normal(1,1,size=(100,1))\n",
    "x2 = np.random.normal(-2,4,size=(100,1))\n",
    "\"\"\"\n",
    "리스트 [start:end] start~end-1\n",
    "print(x1[:5])\n",
    "print(x2[:5])\n",
    "\n",
    "concatenate 열방향으로 연결\n",
    "axis = 1 가로방향\n",
    "axis = 0 세로방향\n",
    "x1,x2를 합치니까 100 X 2 즉 100행 2열로 합쳐진 리스트가 생성이 됨\n",
    "\"\"\"\n",
    "\n",
    "X = np.concatenate((x1,x2), axis=1) # 가로 방향으로 합침\n",
    "#X = np.concatenate((x1,x2), axis=0) # 세로 방향으로 합침\n",
    "\n",
    "# 첫행부터 5행 출력\n",
    "print(X[:5])\n",
    "\n",
    "\n",
    "# 결과에서\n",
    "# [[x1 x2]] 로 합쳐진 것이다.\n",
    "# 이걸 가지고 x,y에 맞는 점을 찍겠다는 것"
   ]
  },
  {
   "cell_type": "code",
   "execution_count": null,
   "metadata": {},
   "outputs": [],
   "source": [
    "# 넘파이 배열을 데이터프레임으로 변환\n",
    "df3 = pd.DataFrame(X, columns =[\"x1\",\"x2\"])\n",
    "df3.head() #처음 5행"
   ]
  },
  {
   "cell_type": "code",
   "execution_count": null,
   "metadata": {},
   "outputs": [],
   "source": [
    "# 산점도 그리기 - 자료가 흩어져 있는 정도를 파악하기 위한 그래프\n",
    "# x,y 형태로 산점도를 찍어 봄\n",
    "plt.scatter(df3[\"x1\"],df3[\"x2\"])\n",
    "\n",
    "# ====================================\n",
    "\n",
    "# x1과 x2의 상관관계\n",
    "# x1(x축), x2(y축)\n",
    "# 양의 상관관계 : 산점도가 좌측 하단에서 우측상단으로\n",
    "# 음의 상관관계 : 산점도가 좌측 상단에서 우측 하단으로\n",
    "\n"
   ]
  },
  {
   "cell_type": "code",
   "execution_count": null,
   "metadata": {},
   "outputs": [],
   "source": [
    "\n",
    "try 없을 때\n"
   ]
  },
  {
   "cell_type": "code",
   "execution_count": 6,
   "metadata": {},
   "outputs": [
    {
     "name": "stdout",
     "output_type": "stream",
     "text": [
      "2014-01-01 00:00:00 missing data\n",
      "2014-01-02 00:00:00 missing data\n",
      "2014-01-03 00:00:00 missing data\n",
      "2014-01-04 00:00:00 missing data\n",
      "2014-01-05 00:00:00 missing data\n",
      "2014-01-06 00:00:00 missing data\n",
      "2014-01-07 00:00:00 missing data\n",
      "2014-01-08 00:00:00 missing data\n",
      "2014-01-09 00:00:00 missing data\n",
      "2014-01-10 00:00:00 missing data\n",
      "2014-01-11 00:00:00 missing data\n",
      "2014-01-12 00:00:00 missing data\n",
      "2014-01-13 00:00:00 missing data\n",
      "2014-01-14 00:00:00 missing data\n",
      "2014-01-15 00:00:00 missing data\n",
      "2014-01-16 00:00:00 missing data\n",
      "2014-01-17 00:00:00 missing data\n",
      "2014-01-18 00:00:00 missing data\n",
      "2014-01-19 00:00:00 missing data\n",
      "2014-01-20 00:00:00 missing data\n",
      "2014-01-21 00:00:00 missing data\n",
      "2014-01-22 00:00:00 missing data\n",
      "2014-01-23 00:00:00 missing data\n",
      "2014-01-24 00:00:00 missing data\n",
      "2014-01-25 00:00:00 missing data\n",
      "2014-01-26 00:00:00 missing data\n",
      "2014-01-27 00:00:00 missing data\n",
      "2014-01-28 00:00:00 missing data\n",
      "2014-01-29 00:00:00 missing data\n",
      "2014-01-30 00:00:00 missing data\n",
      "2014-01-31 00:00:00 missing data\n",
      "2014-02-01 00:00:00 missing data\n",
      "2014-02-02 00:00:00 missing data\n",
      "2014-02-03 00:00:00 missing data\n",
      "2014-02-04 00:00:00 missing data\n",
      "2014-02-05 00:00:00 missing data\n",
      "2014-02-06 00:00:00 missing data\n",
      "2014-02-07 00:00:00 missing data\n",
      "2014-02-08 00:00:00 missing data\n",
      "2014-02-09 00:00:00 missing data\n",
      "2014-02-10 00:00:00 missing data\n",
      "2014-02-11 00:00:00 missing data\n",
      "2014-02-12 00:00:00 missing data\n",
      "2014-02-13 00:00:00 missing data\n",
      "2014-02-14 00:00:00 missing data\n",
      "2014-02-15 00:00:00 missing data\n"
     ]
    },
    {
     "ename": "ValueError",
     "evalue": "invalid literal for int() with base 10: ''",
     "output_type": "error",
     "traceback": [
      "\u001b[1;31m---------------------------------------------------------------------------\u001b[0m",
      "\u001b[1;31mValueError\u001b[0m                                Traceback (most recent call last)",
      "\u001b[1;32m<ipython-input-6-c34eee439004>\u001b[0m in \u001b[0;36m<module>\u001b[1;34m\u001b[0m\n\u001b[0;32m     16\u001b[0m         \u001b[0mcurrent_date\u001b[0m \u001b[1;33m=\u001b[0m \u001b[0mdatetime\u001b[0m\u001b[1;33m.\u001b[0m\u001b[0mstrptime\u001b[0m\u001b[1;33m(\u001b[0m\u001b[0mrow\u001b[0m\u001b[1;33m[\u001b[0m\u001b[1;36m0\u001b[0m\u001b[1;33m]\u001b[0m\u001b[1;33m,\u001b[0m\u001b[1;34m\"%Y-%m-%d\"\u001b[0m\u001b[1;33m)\u001b[0m\u001b[1;33m\u001b[0m\u001b[1;33m\u001b[0m\u001b[0m\n\u001b[0;32m     17\u001b[0m         \u001b[1;31m#스트링을 숫자로\u001b[0m\u001b[1;33m\u001b[0m\u001b[1;33m\u001b[0m\u001b[1;33m\u001b[0m\u001b[0m\n\u001b[1;32m---> 18\u001b[1;33m         \u001b[0mhigh\u001b[0m \u001b[1;33m=\u001b[0m \u001b[0mint\u001b[0m\u001b[1;33m(\u001b[0m\u001b[0mrow\u001b[0m\u001b[1;33m[\u001b[0m\u001b[1;36m1\u001b[0m\u001b[1;33m]\u001b[0m\u001b[1;33m)\u001b[0m \u001b[1;31m#최고온도\u001b[0m\u001b[1;33m\u001b[0m\u001b[1;33m\u001b[0m\u001b[0m\n\u001b[0m\u001b[0;32m     19\u001b[0m         \u001b[0mlow\u001b[0m \u001b[1;33m=\u001b[0m \u001b[0mint\u001b[0m\u001b[1;33m(\u001b[0m\u001b[0mrow\u001b[0m\u001b[1;33m[\u001b[0m\u001b[1;36m3\u001b[0m\u001b[1;33m]\u001b[0m\u001b[1;33m)\u001b[0m \u001b[1;31m#최저온도\u001b[0m\u001b[1;33m\u001b[0m\u001b[1;33m\u001b[0m\u001b[0m\n\u001b[0;32m     20\u001b[0m         \u001b[1;31m# print(current_Date)\u001b[0m\u001b[1;33m\u001b[0m\u001b[1;33m\u001b[0m\u001b[1;33m\u001b[0m\u001b[0m\n",
      "\u001b[1;31mValueError\u001b[0m: invalid literal for int() with base 10: ''"
     ]
    }
   ],
   "source": [
    "import csv\n",
    "from datetime import datetime\n",
    "from matplotlib import pyplot as plt\n",
    "filename = \"C:\\\\Users\\\\daily\\\\Desktop\\\\jupiter_workspace\\\\0417 (12일차)\\\\temperature_2014.csv\"\n",
    "with open(filename) as f: #데이터파일 로딩\n",
    "    reader = csv.reader(f) #csv 파일을 읽는 객체\n",
    "    header_row = next(reader) #첫 행을 읽음\n",
    "    #날짜, 최고온도, 최저온드를 저장할 리스트\n",
    "    dates, highs, lows = [], [], []\n",
    "    for row in reader : # 모든 행 반복처리, 한줄씩 읽음\n",
    "        #만약 예외를 처리하지 않고 결측치를 만나면 오류가 난다.\n",
    "        # 그래서 결측치는 처리해주어야 한다.\n",
    "#         try:\n",
    "        # strptime() : 문자열 => 날짜\n",
    "        # strftime() : 날짜 => 문자열\n",
    "        current_date = datetime.strptime(row[0],\"%Y-%m-%d\")\n",
    "        #스트링을 숫자로\n",
    "        high = int(row[1]) #최고온도\n",
    "        low = int(row[3]) #최저온도\n",
    "        # print(current_Date)\n",
    "#         except ValueError : #예외처리\n",
    "        #결측치는 빼겠다?\n",
    "        print(current_date, \"missing data\")\n",
    "#         else: #예외가 발생하지 않으면 리스트에 데이터 추가\n",
    "        dates.append(current_date)\n",
    "        highs.append(high)\n",
    "        lows.append(low)\n",
    "            \n",
    "            \n",
    "#데이터 확인\n",
    "print(dates)\n"
   ]
  },
  {
   "cell_type": "code",
   "execution_count": null,
   "metadata": {},
   "outputs": [],
   "source": [
    "\n",
    "\n",
    "try 있을 때\n",
    "\n"
   ]
  },
  {
   "cell_type": "code",
   "execution_count": 78,
   "metadata": {},
   "outputs": [
    {
     "name": "stdout",
     "output_type": "stream",
     "text": [
      "2014-02-16 00:00:00 missing data\n",
      "<class 'list'>\n"
     ]
    }
   ],
   "source": [
    "import csv\n",
    "from datetime import datetime\n",
    "from matplotlib import pyplot as plt\n",
    "filename = \"C:\\\\Users\\\\daily\\\\Desktop\\\\jupiter_workspace\\\\0417 (12일차)\\\\temperature_2014.csv\"\n",
    "with open(filename) as f: #데이터파일 로딩\n",
    "    reader = csv.reader(f) #csv 파일을 읽는 객체\n",
    "    header_row = next(reader) #첫 행을 읽음\n",
    "    #날짜, 최고온도, 최저온드를 저장할 리스트\n",
    "    dates, highs, lows = [], [], []\n",
    "    for row in reader : # 모든 행 반복처리, 한줄씩 읽음\n",
    "        #만약 예외를 처리하지 않고 결측치를 만나면 오류가 난다.\n",
    "        # 그래서 결측치는 처리해주어야 한다.\n",
    "        try:\n",
    "            # strptime() : 문자열 => 날짜\n",
    "            # strftime() : 날짜 => 문자열\n",
    "            current_date = datetime.strptime(row[0],\"%Y-%m-%d\")\n",
    "            #스트링을 숫자로\n",
    "            high = int(row[1]) #최고온도\n",
    "            low = int(row[3]) #최저온도\n",
    "            # print(current_Date)\n",
    "        except ValueError : #예외처리\n",
    "            #결측치는 빼겠다?\n",
    "            print(current_date, \"missing data\")\n",
    "        else: #예외가 발생하지 않으면 리스트에 데이터 추가\n",
    "            dates.append(current_date)\n",
    "            highs.append(high)\n",
    "            lows.append(low)\n",
    "            \n",
    "            \n",
    "#데이터 확인\n",
    "print(type(dates))"
   ]
  },
  {
   "cell_type": "code",
   "execution_count": null,
   "metadata": {},
   "outputs": [],
   "source": []
  },
  {
   "cell_type": "code",
   "execution_count": 22,
   "metadata": {},
   "outputs": [
    {
     "data": {
      "image/png": "[encoded data removed]",
      "text/plain": [
       "<Figure size 1280x768 with 1 Axes>"
      ]
     },
     "metadata": {
      "needs_background": "light"
     },
     "output_type": "display_data"
    }
   ],
   "source": [
    "# 그래프 생성, dpi는 해상도 픽셀을 얼마나 더 많이 표현하느냐\n",
    "# figsize(가로,세로) 가로세로 화면 비율\n",
    "fig = plt.figure(dpi = 128, figsize=(10,6))\n",
    "# plot(x축 데이터, y축 데이터, 색상)\n",
    "# alpha 투명도 0.0 완전투명 ~1.0 완전불투명\n",
    "plt.plot(dates, highs, c=\"red\", alpha=1.0) #선그래프\n",
    "plt.plot(dates, lows, c=\"blue\", alpha = 0.2) \n",
    "#색상채우기 : fill_between, 중간을 파란색으로 채우겠다. 알파값 조절해봐라.\n",
    "\n",
    "plt.fill_between(dates,highs, lows, facecolor=\"blue\", alpha=1)\n",
    "plt.title(\"온도 통계\", fontsize=20) #그래프 제목\n",
    "plt.xlabel(\"날짜\", fontsize=16) #x축 레이블\n",
    "plt.ylabel(\"온도\", fontsize=16) #y축 레이블\n",
    "\n",
    "#tick_params : 눈금 x,y 모두 표시하는 옵션 both\n",
    "\n",
    "plt.tick_params(axis=\"both\", labelsize=16) # 눈금 표시\n",
    "plt.show() # 그래프를 화면에 표시"
   ]
  },
  {
   "cell_type": "code",
   "execution_count": 194,
   "metadata": {},
   "outputs": [
    {
     "name": "stdout",
     "output_type": "stream",
     "text": [
      "<class 'pandas.core.frame.DataFrame'>\n",
      "PST                             0\n",
      "Max TemperatureF                1\n",
      "Mean TemperatureF               1\n",
      "Min TemperatureF                1\n",
      "Max Dew PointF                  1\n",
      "MeanDew PointF                  1\n",
      "Min DewpointF                   1\n",
      "Max Humidity                    1\n",
      " Mean Humidity                  1\n",
      " Min Humidity                   1\n",
      " Max Sea Level PressureIn       1\n",
      " Mean Sea Level PressureIn      1\n",
      " Min Sea Level PressureIn       1\n",
      " Max VisibilityMiles            5\n",
      " Mean VisibilityMiles           5\n",
      " Min VisibilityMiles            5\n",
      " Max Wind SpeedMPH              1\n",
      " Mean Wind SpeedMPH             1\n",
      " Max Gust SpeedMPH            149\n",
      "PrecipitationIn                 0\n",
      " CloudCover                    17\n",
      " Events                       342\n",
      " WindDirDegrees                 0\n",
      "dtype: int64\n",
      "====================================================================================================\n",
      "Max TemperatureF    0\n",
      "Min TemperatureF    0\n",
      "PST                 0\n",
      "dtype: int64\n"
     ]
    },
    {
     "data": {
      "image/png": "[encoded data removed]",
      "text/plain": [
       "<Figure size 432x288 with 1 Axes>"
      ]
     },
     "metadata": {
      "needs_background": "light"
     },
     "output_type": "display_data"
    }
   ],
   "source": [
    "import pandas as pd\n",
    "import numpy as np\n",
    "\n",
    "from pandas import Series, DataFrame, MultiIndex,to_numeric,merge, isnull,date_range, read_csv\n",
    "\n",
    "import csv\n",
    "from datetime import datetime\n",
    "from matplotlib import pyplot as plt\n",
    "# !pip install --upgrade pandas\n",
    "exam8 = pd.read_csv(\"C:\\\\Users\\\\daily\\\\Desktop\\\\jupiter_workspace\\\\0417 (12일차)\\\\temperature_2014.csv\", engine=\"python\")\n",
    "\n",
    "print(type(exam8))\n",
    "\n",
    "# print(exam8)\n",
    "\n",
    "# x축 = 날짜, y축 = 온도\n",
    "# current_date = datetime.strptime(row[0],\"%Y-%m-%d\")\n",
    "#스트링을 숫자로\n",
    "# high = int(row[1]) #최고온도\n",
    "# low = int(row[3]) #최저온도\n",
    "# print(current_Date)\n",
    "\n",
    "print(exam8.isnull().sum())\n",
    "\n",
    "\n",
    "\n",
    "# print(exam8_after)\n",
    "\n",
    "\n",
    "\n",
    "exam8= exam8[[\"Max TemperatureF\", \"Min TemperatureF\",\"PST\"]].dropna(axis=0)\n",
    "print(\"=\"*100)\n",
    "print(exam8.isnull().sum())\n",
    "# print(exam8_after)\n",
    "\n",
    "# pd.to_datetime(old_df['oldDate'], format='%b %d, %Y')\n",
    "\n",
    "cell_text_date = []\n",
    "for i in exam8[\"PST\"]:\n",
    "    cell_text_date.append(i)\n",
    "\n",
    "# print(cell_text_date)\n",
    "\n",
    "cell_text_max = []\n",
    "for i in exam8[\"Max TemperatureF\"]:\n",
    "    cell_text_max.append(i)\n",
    "    \n",
    "# print(cell_text_max)\n",
    "\n",
    "# print(type(int(exam8[\"Max TemperatureF\"][0])))\n",
    "# cell_text_max.append(exam8[\"Max TemperatureF\"])\n",
    "\n",
    "cell_text_min = []\n",
    "for i in exam8[\"Min TemperatureF\"]:\n",
    "    cell_text_min.append(i)\n",
    "\n",
    "\n",
    "# fig = plt.figure(dpi = 128, figsize=(10,6))\n",
    "\n",
    "plt.plot(cell_text_date, exam8[\"Max TemperatureF\"], c=\"red\", alpha=1.0) #선그래프\n",
    "plt.plot(cell_text_date, exam8[\"Min TemperatureF\"], c=\"blue\", alpha=1.0) \n",
    "plt.tick_params(axis=\"both\", labelsize=16) # 눈금 표시\n",
    "plt.fill_between(cell_text_date,cell_text_max, cell_text_min, facecolor=\"blue\", alpha=0.5)\n",
    "plt.show()"
   ]
  },
  {
   "cell_type": "code",
   "execution_count": 167,
   "metadata": {},
   "outputs": [
    {
     "name": "stdout",
     "output_type": "stream",
     "text": [
      "37.0\n"
     ]
    }
   ],
   "source": [
    "a = list()\n",
    "# type(float(exam8[\"Min TemperatureF\"][0]))\n",
    "# for i in exam8[\"Min TemperatureF\"]:\n",
    "#     a.append(exam8[\"Min TemperatureF\"][i])\n",
    "# print(a)\n",
    "\n",
    "print(exam8[\"Min TemperatureF\"][45])"
   ]
  },
  {
   "cell_type": "code",
   "execution_count": 147,
   "metadata": {},
   "outputs": [
    {
     "name": "stdout",
     "output_type": "stream",
     "text": [
      "63.0\n",
      "<class 'numpy.float64'>\n",
      "<class 'int'>\n",
      "63\n"
     ]
    }
   ],
   "source": [
    "import pandas as pd\n",
    "import numpy as np\n",
    "\n",
    "from pandas import Series, DataFrame, MultiIndex,to_numeric,merge, isnull,date_range, read_csv\n",
    "\n",
    "import csv\n",
    "from datetime import datetime\n",
    "from matplotlib import pyplot as plt\n",
    "# !pip install --upgrade pandas\n",
    "exam8 = pd.read_csv(\"C:\\\\Users\\\\daily\\\\Desktop\\\\jupiter_workspace\\\\0417 (12일차)\\\\temperature_2014.csv\", engine=\"python\")\n",
    "\n",
    "print(type(exam8))\n",
    "\n",
    "# print(exam8)\n",
    "\n",
    "# x축 = 날짜, y축 = 온도\n",
    "# current_date = datetime.strptime(row[0],\"%Y-%m-%d\")\n",
    "#스트링을 숫자로\n",
    "# high = int(row[1]) #최고온도\n",
    "# low = int(row[3]) #최저온도\n",
    "# print(current_Date)\n",
    "\n",
    "print(exam8.isnull().sum())\n",
    "\n",
    "\n",
    "exam8[\"current_date\"] = date_range(start='1-1-2019', periods = len(exam8))\n",
    "# print(exam8_after)\n",
    "# pd.to_datetime(exam8['current_date'], format='%b %d, %Y')\n",
    "\n",
    "exam8= exam8[[\"Max TemperatureF\", \"Min TemperatureF\",\"current_date\"]].dropna(axis=0)\n",
    "print(exam8_after.isnull().sum())\n",
    "# print(exam8_after)\n",
    "\n",
    "# pd.to_datetime(old_df['oldDate'], format='%b %d, %Y')\n",
    "\n",
    "# cell_text_date = []\n",
    "# cell_text_date.append(exam8[\"current_date\"])\n",
    "\n",
    "print(cell_text_date)\n",
    "\n",
    "cell_text_max = []\n",
    "\n",
    "for i in exam8[\"Max TemperatureF\"]:\n",
    "    cell_text_max.append(float(exam8[\"Max TemperatureF\"][i]))\n",
    "\n",
    "print(cell_text_max)\n",
    "\n",
    "print(type(int(exam8[\"Max TemperatureF\"][0])))\n",
    "cell_text_max.append(exam8[\"Max TemperatureF\"])\n",
    "\n",
    "cell_text_min = []\n",
    "cell_text_min.append(exam8[\"Min TemperatureF\"])\n",
    "\n",
    "\n",
    "fig = plt.figure(dpi = 128, figsize=(10,6))\n",
    "\n",
    "plt.plot(cell_text_date, cell_text_max, c=\"red\", alpha=1.0) #선그래프\n",
    "plt.plot(cell_text_date, cell_text_min, c=\"blue\", alpha=1.0) \n",
    "# plt.tick_params(axis=\"both\", labelsize=16) # 눈금 표시\n",
    "# plt.fill_between(cell_text_date,cell_text_max, cell_text_min, facecolor=\"blue\", alpha=1)"
   ]
  },
  {
   "cell_type": "code",
   "execution_count": null,
   "metadata": {},
   "outputs": [],
   "source": []
  }
 ],
 "metadata": {
  "kernelspec": {
   "display_name": "Python 3",
   "language": "python",
   "name": "python3"
  },
  "language_info": {
   "codemirror_mode": {
    "name": "ipython",
    "version": 3
   },
   "file_extension": ".py",
   "mimetype": "text/x-python",
   "name": "python",
   "nbconvert_exporter": "python",
   "pygments_lexer": "ipython3",
   "version": "3.7.1"
  }
 },
 "nbformat": 4,
 "nbformat_minor": 2
}
