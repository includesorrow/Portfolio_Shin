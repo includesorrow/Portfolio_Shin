{
 "cells": [
  {
   "cell_type": "code",
   "execution_count": null,
   "metadata": {},
   "outputs": [],
   "source": [
    "파일 오픈\n",
    "\n",
    "open(filename, mode)\n",
    "\n",
    "r : 읽기전용\n",
    "w : 쓰기전용\n",
    "a : 파일끝에추가\n",
    "rb : 이전 파일 읽기 전용\n",
    "wb : 이전 파일 쓰기 전용\n",
    "ab : 이전 파일 끝에 추가 전용\n",
    "    \n",
    "    \n",
    "    \n",
    "\n",
    "파일 닫기\n",
    "\n",
    "\t* \n",
    "모든 작업이 끝나면 close()를 호출하여 작업 프로세스의 작업 점유 해제\n",
    "\t* \n",
    "프로그램이 종료될 때 자동으로 close()호출됨\n",
    "\n",
    "\n",
    "\n",
    "\n",
    "    "
   ]
  },
  {
   "cell_type": "code",
   "execution_count": null,
   "metadata": {},
   "outputs": [],
   "source": [
    "# 파일 open(파일 이름, 옵션)\n",
    "\n",
    "f = open(\"test1.txt\",\"w\")\n",
    "f.close()\n",
    "\n"
   ]
  },
  {
   "cell_type": "code",
   "execution_count": null,
   "metadata": {},
   "outputs": [],
   "source": [
    "import os\n",
    "os.listdir()"
   ]
  },
  {
   "cell_type": "code",
   "execution_count": null,
   "metadata": {},
   "outputs": [],
   "source": [
    "f = open(\"test1.txt\",\"r\",encoding=\"UTF-8\")\n",
    "f.close()"
   ]
  },
  {
   "cell_type": "code",
   "execution_count": null,
   "metadata": {},
   "outputs": [],
   "source": [
    "print(f)"
   ]
  },
  {
   "cell_type": "code",
   "execution_count": null,
   "metadata": {},
   "outputs": [],
   "source": [
    "# 지정한 디렉토리 설정, 절대, 상대경로\n",
    "f = open(\"C:\\\\Users\\\\daily\\\\Desktop\\\\jupiter_workspace\\\\0409 (6일차)\\\\test2.txt\",\"w\",encoding=\"UTF-8\")\n",
    "f.close()"
   ]
  },
  {
   "cell_type": "code",
   "execution_count": null,
   "metadata": {},
   "outputs": [],
   "source": [
    "# write를 사용해서 문자열을 저장\n",
    "f = open(\"C:\\\\Users\\\\daily\\\\Desktop\\\\jupiter_workspace\\\\0409 (6일차)\\\\test3.txt\",\"w\",encoding=\"UTF-8\")\n",
    "for i in range(1,11):\n",
    "    data =\"%d 번째 줄입니다. \\n\" %i\n",
    "    #파일에 작성하는 메서드는 write\n",
    "    f.write(data)\n",
    "f.close()\n"
   ]
  },
  {
   "cell_type": "code",
   "execution_count": null,
   "metadata": {},
   "outputs": [],
   "source": [
    "# 읽기 모드\n",
    "# readline() : 한 라인씩 읽기\n",
    "\n",
    "f = open(\"C:\\\\Users\\\\daily\\\\Desktop\\\\jupiter_workspace\\\\0409 (6일차)\\\\test3.txt\",\"r\",encoding=\"UTF-8\")\n",
    "\n",
    "# while True:\n",
    "#     #한 라인을 읽어 들이는 메서드\n",
    "#     line = f.readline()\n",
    "#     print(line)\n",
    "#     if(line==\"\"):\n",
    "#         break\n",
    "        \n",
    "\n",
    "while True:\n",
    "    #강사님꺼\n",
    "    line = f.readline()\n",
    "#     print(line)\n",
    "    #파일의 끝, not반복문을 탈출\n",
    "    if not line : break\n",
    "    #줄바꿈을 하지 않고 출력\n",
    "    print(line,end = \" \" )\n",
    "#파일 다음\n",
    "f.close()"
   ]
  },
  {
   "cell_type": "code",
   "execution_count": null,
   "metadata": {},
   "outputs": [],
   "source": [
    "\n",
    "f = open(\"C:\\\\Users\\\\daily\\\\Desktop\\\\jupiter_workspace\\\\0409 (6일차)\\\\test3.txt\",\"r\",encoding=\"UTF-8\")\n",
    "# 리스트로 반환\n",
    "lines = f.readlines()\n",
    "print(type(lines))\n",
    "print(lines)\n",
    "#for문으로 출력 해보기\n",
    "for i in lines:\n",
    "    print(i)\n",
    "\n",
    "f.close()"
   ]
  },
  {
   "cell_type": "code",
   "execution_count": null,
   "metadata": {},
   "outputs": [],
   "source": [
    "# read.scv로 데이터를 저장하기\n",
    "\n",
    "num = [0,1,2,3,4,5,6,7,8,9]\n",
    "numstr = str(num)\n",
    "\n",
    "numlist = \"\".join(numstr)\n",
    "print(numlist)\n",
    "print(type(numlist))\n",
    "numlist1 = numlist[1:]\n",
    "numlist2 = numlist1[:-1]\n",
    "print(numlist2)\n",
    "\n",
    "csvfile = open(\"C:\\\\Users\\\\daily\\\\Desktop\\\\jupiter_workspace\\\\0409 (6일차)\\\\read.csv\", \"w\", encoding=\"UTF-8\")\n",
    "\n",
    "for i in numlist2:\n",
    "    csvfile.write(i)\n",
    "\n",
    "csvfile.close()"
   ]
  },
  {
   "cell_type": "code",
   "execution_count": null,
   "metadata": {},
   "outputs": [],
   "source": [
    "from random import *\n",
    "# read.scv로 데이터를 저장하기\n",
    "\n",
    "num = [0,1,2,3,4,5,6,7,8,9]\n",
    "numstr = str(num)\n",
    "\n",
    "numlist = \"\".join(numstr)\n",
    "print(numlist)\n",
    "print(type(numlist))\n",
    "numlist1 = numlist[1:]\n",
    "numlist2 = numlist1[:-1]\n",
    "print(numlist2)\n",
    "\n",
    "# ii = randint(10,19)\n",
    "# print(i)\n",
    "\n",
    "randomlist = list()\n",
    "randomlist1 = list()\n",
    "randomlist2 = list()\n",
    "randomlist3 = list()\n",
    "randomlist4 = list()\n",
    "\n",
    "for i in range(1,5):\n",
    "    randomlist_i = list()\n",
    "\n",
    "\n",
    "for i in range(1,10):\n",
    "    ii = randint(10,20)\n",
    "    randomlist.append(i + ii)\n",
    "    randomlist1.append(i + ii)\n",
    "    randomlist2.append(i + ii)\n",
    "    randomlist3.append(i + ii)\n",
    "    randomlist4.append(i + ii)\n",
    "\n",
    "print(randomlist)\n",
    "randomliststr = str(randomlist)\n",
    "randomliststr = randomliststr[1:]\n",
    "randomliststr = randomliststr[:-1]\n",
    "print(randomliststr)\n",
    "\n",
    "csvfile = open(\"C:\\\\Users\\\\daily\\\\Desktop\\\\jupiter_workspace\\\\0409 (6일차)\\\\read.csv\", \"w\", encoding=\"UTF-8\")\n",
    "\n",
    "csvfile_a = open(\"C:\\\\Users\\\\daily\\\\Desktop\\\\jupiter_workspace\\\\0409 (6일차)\\\\read.csv\", \"a\", encoding=\"UTF-8\")\n",
    "for i in numlist2:\n",
    "\n",
    "    csvfile.write(i)\n",
    "#     csvfile.writelines(randomliststr)\n",
    "#     csvfile.write(\"\\n\")\n",
    "\n",
    "#     csvfile.write(randomliststr)\n",
    "\n",
    "# for zz in range(1,5):\n",
    "csvfile.write(\"\\n\")\n",
    "csvfile.write(randomliststr)\n",
    "\n",
    "\n",
    "csvfile.close()\n",
    "\n",
    "\n",
    "print(\"randomlist4 : \",randomlist4)\n",
    "\n",
    "for zzz in randomlist4:\n",
    "    csvfile.write(zzz)\n",
    "    csvfile.write(\",\")"
   ]
  },
  {
   "cell_type": "code",
   "execution_count": null,
   "metadata": {},
   "outputs": [],
   "source": []
  },
  {
   "cell_type": "code",
   "execution_count": null,
   "metadata": {},
   "outputs": [],
   "source": [
    "#강사님정답\n",
    "\n",
    "\n",
    "import random\n",
    "nums = list(range(10,20))\n",
    "random.shuffle(nums)\n",
    "count = len(nums)\n",
    "\n",
    "f = open(\"C:\\\\Users\\\\daily\\\\Desktop\\\\jupiter_workspace\\\\0409 (6일차)\\\\read.csv\", \"a\", encoding=\"UTF-8\")\n",
    "\n",
    "for idx in range(count):\n",
    "    if idx < (count-1):\n",
    "        f.write(str(nums[idx])+\",\")\n",
    "    else:\n",
    "        f.write(str(nums[idx])+\"\\n\")\n",
    "f.close()\n",
    "print(\"데이터가 추가되었습니다.\")\n",
    "    \n",
    "    "
   ]
  },
  {
   "cell_type": "code",
   "execution_count": null,
   "metadata": {},
   "outputs": [],
   "source": [
    "\n",
    "########후반전##########\n"
   ]
  },
  {
   "cell_type": "code",
   "execution_count": null,
   "metadata": {},
   "outputs": [],
   "source": [
    "f = open(\"C:\\\\Users\\\\daily\\\\Desktop\\\\jupiter_workspace\\\\0409 (6일차)\\\\read.csv\", \"r\", encoding=\"UTF-8\")\n",
    "# 파일 내용 전체를 하나의 문자열에 저장\n",
    "\n",
    "data = f.read()\n",
    "print(data)\n",
    "print(type(data))\n",
    "f.close()"
   ]
  },
  {
   "cell_type": "code",
   "execution_count": null,
   "metadata": {},
   "outputs": [],
   "source": []
  },
  {
   "cell_type": "code",
   "execution_count": null,
   "metadata": {},
   "outputs": [],
   "source": [
    "\n",
    "\n"
   ]
  },
  {
   "cell_type": "code",
   "execution_count": null,
   "metadata": {},
   "outputs": [],
   "source": [
    "f = open(\"C:\\\\Users\\\\daily\\\\Desktop\\\\jupiter_workspace\\\\0409 (6일차)\\\\read.csv\", \"r\", encoding=\"UTF-8\")\n",
    "#리스트로 반환\n",
    "\n",
    "print(type(f))\n",
    "for line in f:\n",
    "    print(line, end=\"\")\n",
    "f.close()"
   ]
  },
  {
   "cell_type": "code",
   "execution_count": null,
   "metadata": {},
   "outputs": [],
   "source": [
    "f = open(\"C:\\\\Users\\\\daily\\\\Desktop\\\\jupiter_workspace\\\\0409 (6일차)\\\\read.csv\", \"r\", encoding=\"UTF-8\")\n",
    "\n",
    "for line in f:\n",
    "    print(line,end=\"\")\n",
    "\n",
    "    \n",
    "print()\n",
    "print(\"파일 포인터 %d \"%f.tell())\n",
    "\n",
    "\n",
    "# seek(이동할 위치, 기준위치)\n",
    "\n",
    "# 처음 위치로 파일 포인터를 이동\n",
    "f.seek(0,0)\n",
    "print(\"현재 파일 포인터 {}\".format(f.tell()))\n",
    "line = f.readline()\n",
    "print(line)\n",
    "print(\" 마지막 파일 포인터 = {}\".format(f.tell()))\n",
    "f.close()"
   ]
  },
  {
   "cell_type": "code",
   "execution_count": null,
   "metadata": {},
   "outputs": [],
   "source": []
  },
  {
   "cell_type": "code",
   "execution_count": null,
   "metadata": {},
   "outputs": [],
   "source": [
    "# 자동으로 close를 처리해줌\n",
    "with open(\"C:\\\\Users\\\\daily\\\\Desktop\\\\jupiter_workspace\\\\0409 (6일차)\\\\text4.txt\", \"w\", encoding=\"UTF-8\") as f:\n",
    "    f.write(\"안녕하세요 파이썬\")"
   ]
  },
  {
   "cell_type": "code",
   "execution_count": null,
   "metadata": {},
   "outputs": [],
   "source": [
    "with open(\"C:\\\\Users\\\\daily\\\\Desktop\\\\jupiter_workspace\\\\0409 (6일차)\\\\text4.txt\", \"r\", encoding=\"UTF-8\") as f:\n",
    "    lines = f.readlines()\n",
    "    print(lines)"
   ]
  },
  {
   "cell_type": "code",
   "execution_count": null,
   "metadata": {},
   "outputs": [],
   "source": [
    "with open(\"C:\\\\Users\\\\daily\\\\Desktop\\\\jupiter_workspace\\\\0409 (6일차)\\\\pi_million_digits.txt\", \"r\", encoding=\"UTF-8\") as f:\n",
    "    \n",
    "    print(type(f))\n",
    "#     for line in f:\n",
    "#         print(line, end=\"\")\n",
    "#     print()\n",
    "#     print(len(line))\n",
    "#     result = str()\n",
    "    result = line\n",
    "    print()\n",
    "    print(\"=\"*50)\n",
    "#     print(result)\n",
    "    a = input(\"숫자를 입력하세요 :\")\n",
    "    if a in result:\n",
    "        print(\"숫자가 존재합니다\")\n",
    "    else:\n",
    "        print(\"%s 숫자를 찾지 못했습니다.\"%a)\n",
    "    \n",
    "    \n",
    "f.close()\n"
   ]
  },
  {
   "cell_type": "code",
   "execution_count": null,
   "metadata": {},
   "outputs": [],
   "source": [
    "\n",
    "testtext = \"가나다라마바사\"\n",
    "\n",
    "a = input(\"글자를 입력하세요\")\n",
    "\n",
    "if a in testtext:\n",
    "    print(\"있음\")\n",
    "else:\n",
    "    print(\"없음\")\n",
    "    \n",
    "\n",
    "\n",
    "\n"
   ]
  },
  {
   "cell_type": "code",
   "execution_count": null,
   "metadata": {},
   "outputs": [],
   "source": [
    "\n",
    "###################################################\n",
    "\n",
    "예외 처리\n",
    "\n",
    "############################################"
   ]
  },
  {
   "cell_type": "code",
   "execution_count": null,
   "metadata": {},
   "outputs": [],
   "source": [
    "#예외처리\n",
    "\n",
    "try :\n",
    "    #예외가 발생할 코드\n",
    "    4/0\n",
    "    \n",
    "    #예외가 발생했을 때 처리 될 코드\n",
    "except ZeroDivisionError as e:\n",
    "    print(e)\n",
    "    "
   ]
  },
  {
   "cell_type": "code",
   "execution_count": null,
   "metadata": {},
   "outputs": [],
   "source": []
  },
  {
   "cell_type": "code",
   "execution_count": null,
   "metadata": {},
   "outputs": [],
   "source": []
  },
  {
   "cell_type": "code",
   "execution_count": null,
   "metadata": {},
   "outputs": [],
   "source": [
    "\n",
    "print(\"Message : 종료할려면 a 를 입력 :\")\n",
    "while True:\n",
    "    num1 = input(\"\\n 분자 :\")\n",
    "    if num1 == 'a':\n",
    "        break\n",
    "\n",
    "        \n",
    "        \n",
    "    num2 = input(\"분모 : \")\n",
    "    try :\n",
    "        result = int(num1) / int(num2)\n",
    "    except ZeroDivisionError as e:\n",
    "        print(\"분모에는 0이 올 수 없습니다.\")\n",
    "    else : #예외가 발생하지 않는 구간\n",
    "        print(result)\n",
    "        \n",
    "print(\"프로그램이 종료되었습니다.\")"
   ]
  },
  {
   "cell_type": "code",
   "execution_count": null,
   "metadata": {},
   "outputs": [],
   "source": []
  },
  {
   "cell_type": "code",
   "execution_count": null,
   "metadata": {},
   "outputs": [],
   "source": [
    "# traceback 모듈을 로딩\n",
    "import traceback as tb\n",
    "\n",
    "def myExceptionDemo():\n",
    "    print(\"start\")\n",
    "    try:\n",
    "        print(2+\"2\")        \n",
    "    except TypeError as e:\n",
    "        print(\"Message : {}\",format(e))\n",
    "        #stack Trace에 존재하는 메시지를 출력\n",
    "        tb.print_exc()\n",
    "        \n",
    "    print(\"end\")\n",
    "\n",
    "myExceptionDemo()"
   ]
  },
  {
   "cell_type": "code",
   "execution_count": null,
   "metadata": {},
   "outputs": [],
   "source": [
    "import traceback as tb\n",
    "try:\n",
    "    f = open(\"C:\\\\Users\\\\daily\\\\Desktop\\\\jupiter_workspace\\\\0409 (6일차)\\\\test334.txt\",\"r\",encoding=\"UTF-8\")\n",
    "except FileNotFoundError as e:\n",
    "    print(\"해당 파일을 찾을 수 없습니다.\")\n",
    "    print(\"에러내용 : \", tb.print_exc())\n",
    "else:\n",
    "    print(\"해당 파일이 존재합니다.\")\n",
    "#     f.close()\n",
    "    while True:\n",
    "#     #강사님꺼\n",
    "#     line = f.readline()\n",
    "#     print(line)\n",
    "    #파일의 끝, not반복문을 탈출\n",
    "#     if not line : break\n",
    "    #줄바꿈을 하지 않고 출력\n",
    "#     print(line,end = \" \" )\n",
    "# #파일 다음\n",
    "\n",
    "# f.close()\n",
    "    \n",
    "    "
   ]
  },
  {
   "cell_type": "code",
   "execution_count": null,
   "metadata": {},
   "outputs": [],
   "source": [
    "## 다중 예외 구현\n",
    "\n",
    "# def test():\n",
    "#     a = [1,2]\n",
    "#     5/0\n",
    "#     print(a[3])\n",
    "\n",
    "# test()\n",
    "\n",
    "#########################\n",
    "\n",
    "# 예외내용 : 0 못나누는 에러 (ZeroDivisionError)\n",
    "# 예외내용2 : index error\n",
    "\n",
    "\n",
    "def test2():\n",
    "    try:\n",
    "        a=[1,2]\n",
    "        5/0\n",
    "        print(a[2])\n",
    "    except ZeroDivisionError as e:\n",
    "        print(\"0으로 나눌 수 없어요~\")\n",
    "    except IndexError as e:\n",
    "        print(\"잘못된 인덱스 입니다.\")\n",
    "        \n",
    "test2()"
   ]
  },
  {
   "cell_type": "code",
   "execution_count": null,
   "metadata": {},
   "outputs": [],
   "source": [
    "def test3():\n",
    "    try:\n",
    "        a=[1,2]\n",
    "        5/1\n",
    "        print(a[2])\n",
    "    except:\n",
    "        print(\"오류났습니다\")\n",
    "    finally:\n",
    "        print(\"무조건 입니다.\")\n",
    "test3()"
   ]
  },
  {
   "cell_type": "code",
   "execution_count": null,
   "metadata": {},
   "outputs": [],
   "source": [
    "\n",
    "XML / JSON은 차이가 있다.\n",
    "1. Parser차이가 있다.\n",
    "- JSON은 자바스크립트를 기반으로 하고 있다.\n",
    "- XML은 Parser가 따로 있었다. \n",
    "- XML은 돔파서랑 삭스파서가 있다. \n",
    "    - 차이점 : 돔은 한번만 메모리에 올리기가 힘들지 속도는 빠르다\n",
    "            :  삭스파서는 한번 올리기는 쉬운데 로딩이 느리다.\n",
    "\n",
    "                \n",
    "- 간단하게 XML은 XML파서가 있고 JSON은 자바스크립트를 기반으로 하고 있다~\n",
    "- 자바는 파싱이 자동으로 되는데 파이썬이나 이런덴 지원안됨\n",
    "- json쓸려면 일일이 파싱해야함\n",
    "\n",
    "\n"
   ]
  },
  {
   "cell_type": "code",
   "execution_count": null,
   "metadata": {},
   "outputs": [],
   "source": [
    "# json 파일로 쓰고 읽어 보기\n",
    "\n",
    "import json\n",
    "numbers = [2,3,5,7,11,13]\n",
    "# 이걸 json으로 넣고싶어요.\n",
    "\n",
    "filename = 'numbers.json'\n",
    "with open(filename, \"w\") as f:\n",
    "    json.dump(numbers,f)\n",
    "\n",
    "\n",
    "\n"
   ]
  },
  {
   "cell_type": "code",
   "execution_count": null,
   "metadata": {},
   "outputs": [],
   "source": [
    "import os\n",
    "os.listdir()\n",
    "print(os.listdir())\n",
    "# json파일 생성됨\n",
    "\n",
    "os.getcwd()"
   ]
  },
  {
   "cell_type": "code",
   "execution_count": null,
   "metadata": {},
   "outputs": [],
   "source": [
    "import json\n",
    "filename = \"numbers.json\"\n",
    "with open(filename) as f:\n",
    "    numbers = json.load(f)\n",
    "print(numbers)"
   ]
  },
  {
   "cell_type": "code",
   "execution_count": 6,
   "metadata": {},
   "outputs": [
    {
     "ename": "SyntaxError",
     "evalue": "invalid syntax (<ipython-input-6-2cda4a67def6>, line 1)",
     "output_type": "error",
     "traceback": [
      "\u001b[1;36m  File \u001b[1;32m\"<ipython-input-6-2cda4a67def6>\"\u001b[1;36m, line \u001b[1;32m1\u001b[0m\n\u001b[1;33m    파일에 있는 갯수를 전부 불러와서 갯수를 읽음.\u001b[0m\n\u001b[1;37m         ^\u001b[0m\n\u001b[1;31mSyntaxError\u001b[0m\u001b[1;31m:\u001b[0m invalid syntax\n"
     ]
    }
   ],
   "source": [
    "파일에 있는 갯수를 전부 불러와서 갯수를 읽음.\n",
    "단 파일이 2개 3개 그건 모르겠지만 함수로 전달해주면 얘는 전달받은 파일들에게 카운트를 해서 총 데이터 (len) 하는 함수를 만듬\n",
    "\n",
    "나중에 쓸 수 있을것 같아 -> 이걸 모듈로 만드세요.\n",
    "모듈은 소스에 등록해야함.\n",
    "필요할 때 마다 import 할 수 있게 만드세요.\n",
    "\n",
    "\n",
    "--결과--\n",
    "\n",
    "count_words(filename)\n",
    "\n",
    "txt has about 29461 woords.\n",
    "\n",
    "\n",
    "배열로 등록하면 각 파일마다 단어수를 세어주는 역할을 만드시요.\n",
    "\n",
    "\n",
    "\n",
    "\n",
    "\n"
   ]
  },
  {
   "cell_type": "code",
   "execution_count": null,
   "metadata": {},
   "outputs": [],
   "source": [
    "\n",
    "import random\n",
    "nums = list(range(10,20))\n",
    "random.shuffle(nums)\n",
    "count = len(nums)\n",
    "\n",
    "f = open(\"C:\\\\Users\\\\daily\\\\Desktop\\\\jupiter_workspace\\\\0409 (6일차)\\\\read.csv\", \"a\", encoding=\"UTF-8\")\n",
    "\n",
    "for idx in range(count):\n",
    "    if idx < (count-1):\n",
    "        f.write(str(nums[idx])+\",\")\n",
    "    else:\n",
    "        f.write(str(nums[idx])+\"\\n\")\n",
    "f.close()\n",
    "print(\"데이터가 추가되었습니다.\")\n",
    "    \n",
    "    "
   ]
  },
  {
   "cell_type": "code",
   "execution_count": 5,
   "metadata": {},
   "outputs": [
    {
     "ename": "IndentationError",
     "evalue": "expected an indented block (<ipython-input-5-12d1582aa261>, line 8)",
     "output_type": "error",
     "traceback": [
      "\u001b[1;36m  File \u001b[1;32m\"<ipython-input-5-12d1582aa261>\"\u001b[1;36m, line \u001b[1;32m8\u001b[0m\n\u001b[1;33m    filenames = ['MyAlice.txt','siddhartha.txt']\u001b[0m\n\u001b[1;37m            ^\u001b[0m\n\u001b[1;31mIndentationError\u001b[0m\u001b[1;31m:\u001b[0m expected an indented block\n"
     ]
    }
   ],
   "source": [
    "path = \"C:\\\\Users\\\\daily\\\\Desktop\\\\jupiter_workspace\\\\0409 (6일차)\\\\\"\n",
    "\n",
    "def count_words(filename):\n",
    "    for i in filenames:    \n",
    "        f = open(path+filenames[i])\n",
    "    \n",
    "    \n",
    "\n",
    "filenames = ['MyAlice.txt','siddhartha.txt']\n",
    "for filename in filenames:\n",
    "    count_words(filename)\n"
   ]
  },
  {
   "cell_type": "code",
   "execution_count": 20,
   "metadata": {},
   "outputs": [],
   "source": [
    "path = \"C:\\\\Users\\\\daily\\\\Desktop\\\\jupiter_workspace\\\\0409 (6일차)\\\\\"\n",
    "\n",
    "filenames = ['MyAlice.txt','siddhartha.txt']\n",
    "def count_words(filename):\n",
    "    for i in filenames:    \n",
    "        f = open(path+\"{0}\".format(i))\n",
    "        \n",
    "        \n",
    "    \n",
    "for filename in filenames:\n",
    "    count_words(filename)\n",
    "        \n"
   ]
  },
  {
   "cell_type": "code",
   "execution_count": 30,
   "metadata": {},
   "outputs": [
    {
     "name": "stdout",
     "output_type": "stream",
     "text": [
      "<class 'str'>\n"
     ]
    }
   ],
   "source": [
    "with open(\"C:\\\\Users\\\\daily\\\\Desktop\\\\jupiter_workspace\\\\0409 (6일차)\\\\myAlice.txt\", \"r\", encoding=\"UTF-8\") as f:\n",
    "    data = f.read()\n",
    "#     print(data)\n",
    "    print(type(data))\n",
    "    if data in \" \":\n",
    "        print(\"gg\")\n",
    "    \n",
    "f.close()"
   ]
  },
  {
   "cell_type": "code",
   "execution_count": 33,
   "metadata": {},
   "outputs": [
    {
     "name": "stdout",
     "output_type": "stream",
     "text": [
      "<class 'list'>\n",
      "3735\n"
     ]
    }
   ],
   "source": [
    "with open(\"C:\\\\Users\\\\daily\\\\Desktop\\\\jupiter_workspace\\\\0409 (6일차)\\\\myAlice.txt\", \"r\", encoding=\"UTF-8\") as f:\n",
    "    data = f.readlines()\n",
    "#     print(data)\n",
    "    print(type(data))\n",
    "    print(len(data))\n",
    "    \n",
    "    \n",
    "f.close()"
   ]
  }
 ],
 "metadata": {
  "kernelspec": {
   "display_name": "Python 3",
   "language": "python",
   "name": "python3"
  },
  "language_info": {
   "codemirror_mode": {
    "name": "ipython",
    "version": 3
   },
   "file_extension": ".py",
   "mimetype": "text/x-python",
   "name": "python",
   "nbconvert_exporter": "python",
   "pygments_lexer": "ipython3",
   "version": "3.7.1"
  }
 },
 "nbformat": 4,
 "nbformat_minor": 2
}
