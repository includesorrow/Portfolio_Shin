{
 "cells": [
  {
   "cell_type": "code",
   "execution_count": 1,
   "metadata": {},
   "outputs": [
    {
     "data": {
      "text/plain": [
       "'\\n\\n교재 : 134p\\n함수로 구현\\n\\n'"
      ]
     },
     "execution_count": 1,
     "metadata": {},
     "output_type": "execute_result"
    }
   ],
   "source": [
    "\n",
    "\"\"\"\n",
    "\n",
    "교재 : 134p\n",
    "함수로 구현\n",
    "\n",
    "\"\"\"\n",
    "\n",
    "\n",
    "\n"
   ]
  },
  {
   "cell_type": "code",
   "execution_count": 2,
   "metadata": {},
   "outputs": [
    {
     "name": "stdout",
     "output_type": "stream",
     "text": [
      "3\n"
     ]
    }
   ],
   "source": [
    "# 절대값\n",
    "print(abs(-3))"
   ]
  },
  {
   "cell_type": "code",
   "execution_count": 12,
   "metadata": {},
   "outputs": [
    {
     "name": "stdout",
     "output_type": "stream",
     "text": [
      "True\n",
      "False\n",
      "True\n",
      "False\n",
      "True\n",
      "True\n",
      "False\n",
      "True\n",
      "False\n",
      "False\n",
      "False\n"
     ]
    },
    {
     "ename": "TypeError",
     "evalue": "hello2() missing 1 required positional argument: 'name'",
     "output_type": "error",
     "traceback": [
      "\u001b[1;31m---------------------------------------------------------------------------\u001b[0m",
      "\u001b[1;31mTypeError\u001b[0m                                 Traceback (most recent call last)",
      "\u001b[1;32m<ipython-input-12-5ced6877308b>\u001b[0m in \u001b[0;36m<module>\u001b[1;34m\u001b[0m\n\u001b[0;32m     21\u001b[0m \u001b[1;33m\u001b[0m\u001b[0m\n\u001b[0;32m     22\u001b[0m \u001b[1;33m\u001b[0m\u001b[0m\n\u001b[1;32m---> 23\u001b[1;33m \u001b[0mhello2\u001b[0m\u001b[1;33m(\u001b[0m\u001b[1;33m)\u001b[0m\u001b[1;33m\u001b[0m\u001b[1;33m\u001b[0m\u001b[0m\n\u001b[0m\u001b[0;32m     24\u001b[0m \u001b[1;31m#아래와 같이 입력매개변수의 값이 없을 경우에 None\u001b[0m\u001b[1;33m\u001b[0m\u001b[1;33m\u001b[0m\u001b[1;33m\u001b[0m\u001b[0m\n",
      "\u001b[1;31mTypeError\u001b[0m: hello2() missing 1 required positional argument: 'name'"
     ]
    }
   ],
   "source": [
    "# all 함수, 모든 요소가 참이면 True, 아니면 False\n",
    "print(all([1,2,3]))\n",
    "print(all([1,2,3,0]))\n",
    "\n",
    "# any함수, 하나라도 참이면 True, 모두 거짓이면 False\n",
    "print(any([0,1,2]))\n",
    "print(any([0,\"\"]))\n",
    "# 0때문에 false가 나오는거에요\n",
    "print(any([1,\"\"]))\n",
    "\n",
    "print(any([\"0\"]))\n",
    "\n",
    "print(any([ ]))\n",
    "\n",
    "\n",
    "######\n",
    "print(any([1,2,0]))\n",
    "print(any([\"\",0]))\n",
    "print(any([0,0]))\n",
    "print(any([\"\"]))\n",
    "\n",
    "\n",
    "\n",
    "#아래와 같이 입력매개변수의 값이 없을 경우에 None"
   ]
  },
  {
   "cell_type": "code",
   "execution_count": 23,
   "metadata": {},
   "outputs": [
    {
     "name": "stdout",
     "output_type": "stream",
     "text": [
      "이름을 입력하세요\n",
      "Hello,  kim\n"
     ]
    }
   ],
   "source": [
    "\n",
    "\n",
    "# 아래와 같이 입력매개변수의 값이 없을 경우애 None을 활용하여 체크할 수 있음\n",
    "def hello2(name=None):\n",
    "    if name==None:\n",
    "        print('이름을 입력하세요')\n",
    "        return\n",
    "    print('Hello, ',name)\n",
    "\n",
    "#매개변수 값이 없는 경우\n",
    "hello2()\n",
    "hello2('kim')"
   ]
  },
  {
   "cell_type": "code",
   "execution_count": 25,
   "metadata": {},
   "outputs": [
    {
     "name": "stdout",
     "output_type": "stream",
     "text": [
      "<class 'tuple'>\n",
      "6\n",
      "<class 'tuple'>\n",
      "151\n"
     ]
    }
   ],
   "source": [
    "#가변사이즈 매개변수\n",
    "#여러 개의 입력값을 받는 함수 만들기\n",
    "# *변수 -> 입력값들을 모두 모아서 튜플로 만들어 준다.\n",
    "def sum(*args):\n",
    "    print(type(args)) #tuple\n",
    "    result = 0\n",
    "    for i in args:\n",
    "        result = result + i\n",
    "    return result\n",
    "# 함수 호출\n",
    "result = sum(1,2,3)\n",
    "print(result)\n",
    "# 함수 호출\n",
    "result = sum(1,2,3,45,6,7,87)\n",
    "print(result)"
   ]
  },
  {
   "cell_type": "code",
   "execution_count": null,
   "metadata": {},
   "outputs": [],
   "source": [
    "res = add_mul(\"add\",1,2,3,4,5,6,7,8,9,10)\n",
    "print(\"1부터 10까지의 합 : \",res1)\n",
    "res1 = add_mul(\"mul\",1,2,3,4,5,6,7,8,9,10)\n",
    "print(\"1부터 10까지의 곱 :\" , res1)\n",
    "출력결과 :\n",
    "1부터 10까지의 합 : 15\n",
    "1부터 10까지의 합 : 120\n"
   ]
  },
  {
   "cell_type": "code",
   "execution_count": 63,
   "metadata": {},
   "outputs": [
    {
     "name": "stdout",
     "output_type": "stream",
     "text": [
      "55\n",
      "i는 1\n",
      "1\n",
      "i는 2\n",
      "1\n",
      "i는 3\n",
      "2\n",
      "i는 4\n",
      "6\n",
      "i는 5\n",
      "24\n",
      "i는 6\n",
      "120\n",
      "i는 7\n",
      "720\n",
      "i는 8\n",
      "5040\n",
      "i는 9\n",
      "40320\n",
      "i는 10\n",
      "362880\n",
      "3628800\n"
     ]
    }
   ],
   "source": [
    "def add_mul(check,*args):\n",
    "    result = 0\n",
    "    if(check == \"add\"):\n",
    "        for i in args:\n",
    "            result = result + i\n",
    "    elif(check==\"mul\"):\n",
    "        result = 1\n",
    "        for i in args:\n",
    "            print(\"i는\",i)\n",
    "            print(result)\n",
    "            result = result*i\n",
    "    return result\n",
    "\n",
    "res = add_mul(\"add\",1,2,3,4,5,6,7,8,9,10)\n",
    "print(res)\n",
    "res1 = add_mul(\"mul\",1,2,3,4,5,6,7,8,9,10)\n",
    "print(res1)"
   ]
  },
  {
   "cell_type": "code",
   "execution_count": null,
   "metadata": {},
   "outputs": [],
   "source": [
    "orderPizz(\"medium\", \"파인애플\", \"버섯\", \"토마토\")\n",
    "print(\"=\"*50)\n",
    "orderPizz(\"large\",\"크런치새우\",\"쇠고기\")\n",
    "<출력> 함수명 : orderPizz()\n",
    "medium피자를 주문하셨습니다\n",
    "토핑 : 파인애플, 버섯, 토마토\n",
    "--------------------------\n",
    "large피자를 주문하셨습니다.\n",
    "토핑 : 크런치새우, 쇠고기"
   ]
  },
  {
   "cell_type": "code",
   "execution_count": 93,
   "metadata": {},
   "outputs": [
    {
     "ename": "SyntaxError",
     "evalue": "unexpected EOF while parsing (<ipython-input-93-a982edabb881>, line 12)",
     "output_type": "error",
     "traceback": [
      "\u001b[1;36m  File \u001b[1;32m\"<ipython-input-93-a982edabb881>\"\u001b[1;36m, line \u001b[1;32m12\u001b[0m\n\u001b[1;33m    print(type(*args)\u001b[0m\n\u001b[1;37m                     ^\u001b[0m\n\u001b[1;31mSyntaxError\u001b[0m\u001b[1;31m:\u001b[0m unexpected EOF while parsing\n"
     ]
    }
   ],
   "source": [
    "def orderPizz(size, *args):\n",
    "    if(size==\"medium\"):\n",
    "        print(\"medium피자를 주문하셨습니다.\")\n",
    "    elif(size==\"large\"):\n",
    "        print(\"large피자를 주문하셨습니다.\")\n",
    "    print(\"토핑 :\",*args)\n",
    "#     print(args)\n",
    "    \n",
    "orderPizz(\"medium\", \"파인애플\", \"버섯\", \"토마토\")\n",
    "print(\"=\"*50)\n",
    "orderPizz(\"large\",\"크런치새우\",\"쇠고기\")"
   ]
  },
  {
   "cell_type": "code",
   "execution_count": 89,
   "metadata": {},
   "outputs": [
    {
     "name": "stdout",
     "output_type": "stream",
     "text": [
      "1 2 3 4 5\n"
     ]
    }
   ],
   "source": [
    "# 함수의 리턴 값은 여러 개가 될 수 있다.\n",
    "def a():\n",
    "    return 1,2,3,4,5\n",
    "a,b,c,d,e = a()\n",
    "print(a,b,c,d,e)"
   ]
  },
  {
   "cell_type": "code",
   "execution_count": 90,
   "metadata": {},
   "outputs": [
    {
     "name": "stdout",
     "output_type": "stream",
     "text": [
      "(7, 12)\n",
      "합 7\n",
      "곱 12\n"
     ]
    }
   ],
   "source": [
    "# 튜플을 리턴하는 함수\n",
    "def sum_and_mul(a,b):\n",
    "    return a+b, a*b\n",
    "result = sum_and_mul(3,4)\n",
    "print(result)\n",
    "\n",
    "#하나의 튜플값을 2개의 결과값으로 받고 싶을 경우\n",
    "sum,mul = sum_and_mul(3,4)\n",
    "print(\"합\",sum)\n",
    "print(\"곱\",mul)"
   ]
  },
  {
   "cell_type": "code",
   "execution_count": 92,
   "metadata": {},
   "outputs": [
    {
     "name": "stdout",
     "output_type": "stream",
     "text": [
      "medium 피자를 주문하셨습니다. 토핑 : ('파인애플', '버섯', '토마토') \n",
      "large 피자를 주문하셨습니다. 토핑 : ('크런치새우', '소고기') \n"
     ]
    }
   ],
   "source": [
    "def orderPizz(size,*args):\n",
    "    print(\"{} 피자를 주문하셨습니다. 토핑 : {} \".format(size,args))\n",
    "orderPizz(\"medium\", \"파인애플\",\"버섯\",\"토마토\")\n",
    "orderPizz(\"large\",\"크런치새우\",\"소고기\")"
   ]
  }
 ],
 "metadata": {
  "kernelspec": {
   "display_name": "Python 3",
   "language": "python",
   "name": "python3"
  },
  "language_info": {
   "codemirror_mode": {
    "name": "ipython",
    "version": 3
   },
   "file_extension": ".py",
   "mimetype": "text/x-python",
   "name": "python",
   "nbconvert_exporter": "python",
   "pygments_lexer": "ipython3",
   "version": "3.7.1"
  }
 },
 "nbformat": 4,
 "nbformat_minor": 2
}
