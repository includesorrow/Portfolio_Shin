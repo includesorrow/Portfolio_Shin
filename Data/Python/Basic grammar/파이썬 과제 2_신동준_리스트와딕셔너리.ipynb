{
 "cells": [
  {
   "cell_type": "code",
   "execution_count": null,
   "metadata": {},
   "outputs": [],
   "source": [
    "#1. ['HOW','are,'you'] 리스트를 join함수를 이용하여\n",
    "\n",
    "#\"How are you\" 란 문자열로 구성해서 출력하시오.\n",
    "\n",
    "ex1 = list()\n",
    "ex1 = [\"HOW\", 'are', 'you']\n",
    "print(ex1)\n",
    "\n",
    "\n",
    "\n",
    "ex1_1 = \" \".join(ex1)\n",
    "print (ex1_1)\n",
    "ex1_1 = ex1_1.lower()\n",
    "print(ex1_1)\n",
    "ex1_2 = ex1_1[0].upper()\n",
    "print(ex1_2 + ex1_1[1:])"
   ]
  },
  {
   "cell_type": "code",
   "execution_count": null,
   "metadata": {},
   "outputs": [],
   "source": [
    "#2. Change the value from \"apple\" to \"kiwi\", in the fruits list.\n",
    "\n",
    "#리스트에서 apple 의 값을 인지해서 kiwi로 변경하시오.\n",
    "\n",
    "ex2 = 'Change the value from \"apple\" to \"kiwi\", in the fruits list.'\n",
    "\n",
    "ex2 = ex2.replace(\"apple\",\"kiwi\")\n",
    "print(ex2)\n"
   ]
  },
  {
   "cell_type": "code",
   "execution_count": 81,
   "metadata": {},
   "outputs": [
    {
     "name": "stdout",
     "output_type": "stream",
     "text": [
      "apple,lemon,cherry\n"
     ]
    }
   ],
   "source": [
    "#3. Use the insert method to add \"lemon\" as the second item in the fruits list.\n",
    "\n",
    "fruits = [\"apple\", \"banana\", \"cherry\"]\n",
    "\n",
    "fruits = \",\".join(fruits)\n",
    "\n",
    "print(fruits.replace(\"banana\", \"lemon\"))\n"
   ]
  },
  {
   "cell_type": "code",
   "execution_count": 80,
   "metadata": {},
   "outputs": [
    {
     "name": "stdout",
     "output_type": "stream",
     "text": [
      "['apple', 'cherry']\n"
     ]
    }
   ],
   "source": [
    "#4.Use the remove method to remove \"banana\" from the fruits list.\n",
    "\n",
    "fruits = [\"apple\", \"banana\", \"cherry\"]\n",
    "\n",
    "del fruits[1]\n",
    "\n",
    "print(fruits)"
   ]
  },
  {
   "cell_type": "code",
   "execution_count": 87,
   "metadata": {},
   "outputs": [
    {
     "data": {
      "text/plain": [
       "[90, 80, 30, 20, 10]"
      ]
     },
     "execution_count": 87,
     "metadata": {},
     "output_type": "execute_result"
    }
   ],
   "source": [
    "\n",
    "\n",
    "\n",
    "#5.[90,30,80,20,10] 리스트를  내림차순으로 정렬해서 출력\n",
    "\n",
    "\n",
    "# ex5 = list()\n",
    "ex5 = [90,30,80,20,10]\n",
    "\n",
    "ex5.sort(reverse=True)\n",
    "ex5"
   ]
  },
  {
   "cell_type": "code",
   "execution_count": 78,
   "metadata": {},
   "outputs": [
    {
     "name": "stdout",
     "output_type": "stream",
     "text": [
      "brand\n",
      "model\n",
      "year\n",
      "['brand', 'model', 'year']\n",
      "Ford\n",
      "Mustang\n",
      "1964\n",
      "['Ford', 'Mustang', 1964]\n"
     ]
    }
   ],
   "source": [
    "\n",
    "#7. 딕셔너리의 값을 for in 문으로 출력해보기\n",
    "\n",
    "thisdict = {\n",
    "\n",
    "  \"brand\": \"Ford\",\n",
    "\n",
    "  \"model\": \"Mustang\",\n",
    "\n",
    "  \"year\": 1964\n",
    "\n",
    "}\n",
    "\n",
    "##key 출력\n",
    "for k in thisdict:\n",
    "    print(k)\n",
    "\n",
    "print(list(thisdict.keys()))\n",
    "\n",
    "##value 출력\n",
    "for k in thisdict.values():\n",
    "    print(k)\n",
    "    \n",
    "print(list(thisdict.values()))"
   ]
  },
  {
   "cell_type": "code",
   "execution_count": 2,
   "metadata": {},
   "outputs": [
    {
     "name": "stdout",
     "output_type": "stream",
     "text": [
      "*\n",
      "**\n",
      "***\n",
      "****\n",
      "*****\n",
      "******\n",
      "*******\n",
      "********\n",
      "*********\n",
      "*\n",
      "**\n",
      "***\n",
      "****\n",
      "*****\n",
      "******\n",
      "*******\n",
      "********\n",
      "*********\n"
     ]
    }
   ],
   "source": [
    "#8. join과 for문을 사용해서 아래의 별을 출력하시오\n",
    "\n",
    "#단 Comprehension 으로 적용해서 구현하기 )\n",
    "star = list()\n",
    "# for i in range(0,10):\n",
    "#     star = star.append('*'*i)\n",
    "#     print(star)\n",
    "\n",
    "star = [((\"*\")*i) for i in range(1,10)]\n",
    "star = \"\\n\".join(star)\n",
    "\n",
    "print(star)\n",
    "\n",
    "star2 = \"\\n\".join([((\"*\")*i) for i in range(1,10)])\n",
    "print(star2)\n",
    "\n",
    "\n",
    "# ev = [(vals[e]/sum(vals))+1for e in range(10)]\n",
    "\n",
    "\n",
    "    \n",
    "    "
   ]
  },
  {
   "cell_type": "code",
   "execution_count": 76,
   "metadata": {},
   "outputs": [
    {
     "name": "stdout",
     "output_type": "stream",
     "text": [
      "210\n",
      "60\n",
      "150\n",
      "[210, 60, 150]\n"
     ]
    }
   ],
   "source": [
    "#9 .리스트 내부의 값에 3을 곱한 값을 저장하는 코드를 작성하시오.\n",
    "\n",
    "score=[70,20,50]\n",
    "\n",
    "multiply = 3\n",
    "\n",
    "#1)일반적인 for문 구현\n",
    "\n",
    "# scorelist = list()\n",
    "# scorelist = \" \".join(score)\n",
    "\n",
    "\n",
    "for e in range(0,3):\n",
    "    print(score[e]*multiply)\n",
    "\n",
    "    \n",
    "#2)List Comprehension(리스트 내포) 형태로 구현\n",
    "score = [70,20,50]\n",
    "score = [(score[e]*multiply) for e in range(3)]\n",
    "\n",
    "print(score)\n",
    "\n"
   ]
  },
  {
   "cell_type": "code",
   "execution_count": 75,
   "metadata": {},
   "outputs": [
    {
     "name": "stdout",
     "output_type": "stream",
     "text": [
      "71.66666666666667\n",
      "6\n",
      "[50, 30]\n",
      "{90, 75, 100, 85}\n",
      "87.5\n"
     ]
    }
   ],
   "source": [
    "# 10. score=[75,50,90,30,100,85]에 저장된 값중 60점 이상에 해당되는 점수들의 평균을 구하시오.\n",
    "\n",
    "score=list()\n",
    "score=[75,50,90,30,100,85]\n",
    "\n",
    "\n",
    "scoreaverage = sum(score)/len(score)\n",
    "\n",
    "\n",
    "print(scoreaverage)\n",
    "\n",
    "print(len(score))\n",
    "    \n",
    "scoredel = list()\n",
    "for e in range(0,len(score)):\n",
    "    if(score[e]<=scoreaverage):\n",
    "        scoredel.append(score[e])\n",
    "    \n",
    "    \n",
    "print(scoredel)\n",
    "\n",
    "# for e in score:\n",
    "#     if(score[e])\n",
    "\n",
    "s1 = set(score)\n",
    "s2 = set(scoredel)\n",
    "\n",
    "print(s1 - s2)\n",
    "s3 = (s1-s2)\n",
    "\n",
    "s3average = sum(s3)/len(s3)\n",
    "print(s3average)"
   ]
  },
  {
   "cell_type": "code",
   "execution_count": 86,
   "metadata": {},
   "outputs": [
    {
     "name": "stdout",
     "output_type": "stream",
     "text": [
      "별 갯수 입력5\n",
      "['*']\n",
      "['**']\n",
      "['***']\n",
      "['****']\n",
      "['*****']\n",
      "*****\n",
      "*****\n",
      "*****\n",
      "*****\n",
      "*****\n",
      "*\n",
      "\n",
      "***\n",
      "\n",
      "*****\n",
      "['*', '***', '*****']\n",
      "*\n",
      "***\n",
      "*****\n"
     ]
    }
   ],
   "source": [
    "##### 11. \n",
    "\n",
    "# 출력(for 중첩)\n",
    "# 별 갯수 출력 : 5\n",
    "      \n",
    "\n",
    "# 추가 문제  위의 결과를 아래처럼 리스트에 저장하시오.\n",
    "\n",
    "a = input(\"별 갯수 입력\")\n",
    "i = int(a)\n",
    "\n",
    "star= list()\n",
    "startemp = list()\n",
    "for e in range(1,i+1):\n",
    "    del star[:]\n",
    "    star = [((\"*\")*e)]\n",
    "    startemp.append(\",\".join(star))\n",
    "    print(star)\n",
    "\n",
    "    \n",
    "    \n",
    "    \n",
    "    \n",
    "#     print(startemp)\n",
    "\n",
    "# print(len(startemp[0]))\n",
    "# for z in range(0,len(startemp))\n",
    "#     if(len(startemp)\n",
    "\n",
    "\n",
    "\n",
    "for z in range(0,len(startemp)):\n",
    "    if(len(startemp[z])%2 == 0):\n",
    "        print()\n",
    "    elif(len(startemp[z])%2==1):\n",
    "        print(startemp[z])\n",
    "\n",
    "        \n",
    "\n",
    "result = [startemp[z] for z in range(0,len(startemp)) if len(startemp[z])%2==1]\n",
    "print(result)    \n",
    "result = \"\\n\".join(result)\n",
    "print(result)\n",
    "\n",
    "# >>> a = [1,2,3,4]\n",
    "# >>> result = [num * 3 for num in a if num % 2 == 0]\n",
    "# >>> print(result)\n",
    "# [6, 12]\n",
    "\n",
    "    \n",
    "# print(startemp)\n",
    "\n",
    "#ev = [(vals[e]/sum(vals))+1for e in range(10)]"
   ]
  },
  {
   "cell_type": "code",
   "execution_count": 101,
   "metadata": {},
   "outputs": [
    {
     "name": "stdout",
     "output_type": "stream",
     "text": [
      "별 갯수 입력5\n",
      "['*']\n",
      "['**']\n",
      "['***']\n",
      "['****']\n",
      "['*****']\n",
      "*\n",
      "**\n",
      "***\n",
      "****\n",
      "*****\n",
      "    *     \n",
      "\n",
      "   ***    \n",
      "\n",
      "  *****   \n",
      "['*', '***', '*****']\n",
      "*\n",
      "***\n",
      "*****\n"
     ]
    }
   ],
   "source": [
    "\n",
    "\n",
    "# 출력(for 중첩)\n",
    "# 별 갯수 출력 : 5\n",
    "      \n",
    "\n",
    "# 추가 문제  위의 결과를 아래처럼 리스트에 저장하시오.\n",
    "\n",
    "a = input(\"별 갯수 입력\")\n",
    "i = int(a)\n",
    "\n",
    "star= list()\n",
    "startemp = list()\n",
    "for e in range(1,i+1):\n",
    "    del star[:]\n",
    "    star = [((\"*\")*e)]\n",
    "    startemp.append(\",\".join(star))\n",
    "    print(star)\n",
    "\n",
    "    \n",
    "starii = str()\n",
    "\n",
    "for ii in range(1,i+1):\n",
    "    starii.replace(\"*\", \"\")\n",
    "    starii = (\"*\"*ii)\n",
    "    print(starii)\n",
    "    \n",
    "#     print(startemp)\n",
    "\n",
    "# print(len(startemp[0]))\n",
    "# for z in range(0,len(startemp))\n",
    "#     if(len(startemp)\n",
    "\n",
    "\n",
    "\n",
    "for z in range(0,len(startemp)):\n",
    "    if(len(startemp[z])%2 == 0):\n",
    "        print()\n",
    "    elif(len(startemp[z])%2==1):\n",
    "        print(\"{0:^10}\".format(startemp[z]))\n",
    "\n",
    "        \n",
    "\n",
    "result = [startemp[z] for z in range(0,len(startemp)) if len(startemp[z])%2==1]\n",
    "print(result)    \n",
    "result = \"\\n\".join(result)\n",
    "print(\"{0:^10}\".format(result))\n",
    "\n",
    "\n",
    "# >>> a = [1,2,3,4]\n",
    "# >>> result = [num * 3 for num in a if num % 2 == 0]\n",
    "# >>> print(result)\n",
    "# [6, 12]\n",
    "\n",
    "    \n",
    "# print(startemp)\n",
    "\n",
    "#ev = [(vals[e]/sum(vals))+1for e in range(10)]"
   ]
  },
  {
   "cell_type": "code",
   "execution_count": null,
   "metadata": {},
   "outputs": [],
   "source": []
  }
 ],
 "metadata": {
  "kernelspec": {
   "display_name": "Python 3",
   "language": "python",
   "name": "python3"
  },
  "language_info": {
   "codemirror_mode": {
    "name": "ipython",
    "version": 3
   },
   "file_extension": ".py",
   "mimetype": "text/x-python",
   "name": "python",
   "nbconvert_exporter": "python",
   "pygments_lexer": "ipython3",
   "version": "3.7.1"
  }
 },
 "nbformat": 4,
 "nbformat_minor": 2
}
