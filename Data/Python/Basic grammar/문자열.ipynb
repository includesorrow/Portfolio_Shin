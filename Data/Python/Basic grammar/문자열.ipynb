{
 "cells": [
  {
   "cell_type": "code",
   "execution_count": null,
   "metadata": {},
   "outputs": [],
   "source": []
  },
  {
   "cell_type": "code",
   "execution_count": null,
   "metadata": {},
   "outputs": [],
   "source": []
  },
  {
   "cell_type": "code",
   "execution_count": 4,
   "metadata": {},
   "outputs": [
    {
     "name": "stdout",
     "output_type": "stream",
     "text": [
      "나이 : 15세\n",
      "이름 : 김철수\n",
      "김철수님의 나이는 15 세 입니다.\n",
      "김철수 님의 나이는 20세 입니다.\n",
      "15\n"
     ]
    }
   ],
   "source": [
    "#문자열 포매팅\n",
    "#숫자대입\n",
    "age = 15\n",
    "result = \"나이 : {0}세\".format(age)\n",
    "print(result)\n",
    "\n",
    "#문자열 대입\n",
    "name = \"김철수\"\n",
    "result= \"이름 : {0}\".format(name)\n",
    "print(result)\n",
    "\n",
    "#2개 이상의 값 넣기\n",
    "result = \"{0}님의 나이는 {1} 세 입니다.\".format(name,age)\n",
    "print(result)\n",
    "\n",
    "#변수 이름으로 입력\n",
    "result = \"{name} 님의 나이는 {age}세 입니다.\".format(age = 20, name = \"김철수\")\n",
    "print(result)\n",
    "print(age)"
   ]
  },
  {
   "cell_type": "code",
   "execution_count": 5,
   "metadata": {},
   "outputs": [
    {
     "name": "stdout",
     "output_type": "stream",
     "text": [
      "hi        \n",
      "문자열의 길이 :  10\n",
      "==================================================\n",
      "                                                     hi\n",
      "문자열의 길이 :  55\n",
      "==================================================\n",
      "    hi    \n",
      "문자열의 길이 :  10\n",
      "i    \n",
      "==================================================\n",
      "====hi====\n",
      "hi--------\n",
      "hi========\n"
     ]
    }
   ],
   "source": [
    "# 왼쪽 정렬\n",
    "# 전체 자리수는 10으로 설정\n",
    "result = \"{0:<10}\".format(\"hi\")\n",
    "print(result)\n",
    "print(\"문자열의 길이 : \",len(result))\n",
    "print(\"=\"*50)\n",
    "# 오른쪽정렬\n",
    "result = \"{0:>55}\".format(\"hi\")\n",
    "print(result)\n",
    "print(\"문자열의 길이 : \",len(result))\n",
    "print(\"=\"*50)\n",
    "#가운데 정렬\n",
    "result=\"{0:^10}\".format(\"hi\")\n",
    "print(result)\n",
    "print(\"문자열의 길이 : \",len(result))\n",
    "print(result[5:])\n",
    "print(\"=\"*50)\n",
    "## 1234 공백 56 hi 78910 공백\n",
    "#공백 채우기 - 공백문자 대신 =로 채움, 공백문자는 정렬 문자 앞에 넣어야 함\n",
    "result = \"{0:=^10}\".format(\"hi\")\n",
    "print(result)\n",
    "result = \"{0:-<10}\".format(\"hi\")\n",
    "print(result)\n",
    "\n",
    "testresult=\"{0:=<10}\".format(\"hi\")\n",
    "print(testresult)"
   ]
  },
  {
   "cell_type": "code",
   "execution_count": 6,
   "metadata": {},
   "outputs": [
    {
     "name": "stdout",
     "output_type": "stream",
     "text": [
      "나의 이름은 김철수 입니다. 나이는 한국나이로 31 입니다.\n"
     ]
    }
   ],
   "source": [
    "# f문자열 포맷팅\n",
    "# 파이썬 3.6부터 사용 가능\n",
    "age = 30\n",
    "fv = f'나의 이름은 {name} 입니다. \\\n",
    "나이는 한국나이로 {age+1} 입니다.'\n",
    "print(fv)"
   ]
  },
  {
   "cell_type": "code",
   "execution_count": 7,
   "metadata": {},
   "outputs": [
    {
     "name": "stdout",
     "output_type": "stream",
     "text": [
      "{'name': '김길동', 'age': 30}\n",
      "당신의 이름은 김길동 입니다.당신의 나이는 31세 입니다.\n"
     ]
    }
   ],
   "source": [
    "#JsonObject와 비슷. 자바에서는 Map구조와 비슷\n",
    "data = {'name' : '김길동' , 'age' : 30}\n",
    "print(data)\n",
    "data_format = f'당신의 이름은 {data[\"name\"]} 입니다.\\\n",
    "당신의 나이는 {data[\"age\"]+1}세 입니다.'\n",
    "print(data_format)"
   ]
  },
  {
   "cell_type": "code",
   "execution_count": 8,
   "metadata": {},
   "outputs": [
    {
     "name": "stdout",
     "output_type": "stream",
     "text": [
      "2\n"
     ]
    }
   ],
   "source": [
    "#문자 갯수 세기\n",
    "a = \"hobby\"\n",
    "print(a.count('b'))\n"
   ]
  },
  {
   "cell_type": "code",
   "execution_count": 9,
   "metadata": {},
   "outputs": [
    {
     "name": "stdout",
     "output_type": "stream",
     "text": [
      "7\n",
      "-1\n",
      "1\n",
      "5\n",
      "7\n"
     ]
    },
    {
     "ename": "ValueError",
     "evalue": "substring not found",
     "output_type": "error",
     "traceback": [
      "\u001b[1;31m---------------------------------------------------------------------------\u001b[0m",
      "\u001b[1;31mValueError\u001b[0m                                Traceback (most recent call last)",
      "\u001b[1;32m<ipython-input-9-3e447ca080bf>\u001b[0m in \u001b[0;36m<module>\u001b[1;34m\u001b[0m\n\u001b[0;32m     15\u001b[0m \u001b[1;31m# index() 문자열의 위치\u001b[0m\u001b[1;33m\u001b[0m\u001b[1;33m\u001b[0m\u001b[1;33m\u001b[0m\u001b[0m\n\u001b[0;32m     16\u001b[0m \u001b[0mprint\u001b[0m\u001b[1;33m(\u001b[0m\u001b[0ma\u001b[0m\u001b[1;33m.\u001b[0m\u001b[0mindex\u001b[0m\u001b[1;33m(\u001b[0m\u001b[1;34m'nice'\u001b[0m\u001b[1;33m)\u001b[0m\u001b[1;33m)\u001b[0m\u001b[1;33m\u001b[0m\u001b[1;33m\u001b[0m\u001b[0m\n\u001b[1;32m---> 17\u001b[1;33m \u001b[0mprint\u001b[0m\u001b[1;33m(\u001b[0m\u001b[0ma\u001b[0m\u001b[1;33m.\u001b[0m\u001b[0mindex\u001b[0m\u001b[1;33m(\u001b[0m\u001b[1;34m'bb'\u001b[0m\u001b[1;33m)\u001b[0m\u001b[1;33m)\u001b[0m\u001b[1;33m\u001b[0m\u001b[1;33m\u001b[0m\u001b[0m\n\u001b[0m\u001b[0;32m     18\u001b[0m \u001b[1;31m##bb를 못찾아서 오류 반환.\u001b[0m\u001b[1;33m\u001b[0m\u001b[1;33m\u001b[0m\u001b[1;33m\u001b[0m\u001b[0m\n\u001b[0;32m     19\u001b[0m \u001b[1;33m\u001b[0m\u001b[0m\n",
      "\u001b[1;31mValueError\u001b[0m: substring not found"
     ]
    }
   ],
   "source": [
    "# 문자열의 위치\n",
    "\"\"\"\n",
    "위치 반환(index)\n",
    "index(x) 함수는 리스트에 x라는 값이 있으면 x의 위치값을 리턴한다.\n",
    "\n",
    "\n",
    "\"\"\"\n",
    "\n",
    "a = \"Have a nice day.\"\n",
    "print(a.find('nice'))\n",
    "#문자열을 찾지 못하면 -1을 리턴\n",
    "print(a.find('bb'))\n",
    "print(a.find('a'))\n",
    "print(a.find('a',3))\n",
    "# index() 문자열의 위치\n",
    "print(a.index('nice'))\n",
    "print(a.index('bb'))\n",
    "##bb를 못찾아서 오류 반환.\n",
    "\n"
   ]
  },
  {
   "cell_type": "code",
   "execution_count": 10,
   "metadata": {},
   "outputs": [
    {
     "name": "stdout",
     "output_type": "stream",
     "text": [
      "a,b,c,d,e,f\n"
     ]
    }
   ],
   "source": [
    "# join()\n",
    "# abcdef라는 문자열의 각각의 문자 사이에 \",\"를 연결\n",
    "str = \",\".join('abcdef')\n",
    "print(str)"
   ]
  },
  {
   "cell_type": "code",
   "execution_count": 79,
   "metadata": {},
   "outputs": [
    {
     "name": "stdout",
     "output_type": "stream",
     "text": [
      "a/b/c/d/e/f\n",
      "<class 'str'>\n",
      "upper 대문자로 변경 A/B/C/D/E/F\n"
     ]
    }
   ],
   "source": [
    "str = \"/\".join(['a','b','c','d','e','f'])\n",
    "print(str)\n",
    "print(type(str))\n",
    "str = str.upper();\n",
    "print('upper','대문자로 변경',str)"
   ]
  },
  {
   "cell_type": "code",
   "execution_count": 74,
   "metadata": {},
   "outputs": [
    {
     "name": "stdout",
     "output_type": "stream",
     "text": [
      "upper 대문자 변경 :  A/B/C/D/E/F\n",
      "lower 소문자로 변경 :  a/b/c/d/e/f\n"
     ]
    }
   ],
   "source": [
    "str = str.upper()\n",
    "print(\"upper 대문자 변경 : \",str)\n",
    "\n",
    "str = str.lower()\n",
    "print(\"lower 소문자로 변경 : \",str)\n"
   ]
  },
  {
   "cell_type": "code",
   "execution_count": 33,
   "metadata": {},
   "outputs": [
    {
     "name": "stdout",
     "output_type": "stream",
     "text": [
      "        hi\n",
      "len :  10\n",
      "hi\n",
      "len :  10\n",
      "len :  2\n"
     ]
    }
   ],
   "source": [
    "# 오른쪽 정렬\n",
    "result = \"{0:>10}\".format(\"hi\")\n",
    "print(result)\n",
    "print(\"len : \",len(result))\n",
    "\n",
    "\n",
    "# rstrip, lstrip, strip\n",
    "# 공백제거 (오른쪽, 왼쪽, 양쪽)\n",
    "print (result.strip())\n",
    "print(\"len : \",len(result))\n",
    "\n",
    "#-----------------------\n",
    "result = result.strip()\n",
    "print(\"len : \",len(result))\n"
   ]
  },
  {
   "cell_type": "code",
   "execution_count": 38,
   "metadata": {},
   "outputs": [
    {
     "name": "stdout",
     "output_type": "stream",
     "text": [
      "['a', 'b', 'c', 'd', 'E', 'F']\n",
      "['a b c d E F']\n",
      "<class 'list'>\n",
      "<class 'list'>\n",
      "a\n",
      "b\n",
      "c\n",
      "d\n",
      "E\n",
      "F\n"
     ]
    }
   ],
   "source": [
    "str = \"a:b:c:d:E:F\"\n",
    "str = \"a b c d E F\"\n",
    "str2 = str.split() #스플릿은 기본이 스페이스임.\n",
    "str3 = str.split(\":\") #구분자를 넣을 수 있다.\n",
    "print(str2)\n",
    "print(str3)\n",
    "##자동으로 list로 변경되었음.\n",
    "print(type(str2))\n",
    "print(type(str3))\n",
    "for e in str2:\n",
    "    print(e)\n",
    "\n",
    "    ##세트로 기억해둘것\n",
    "    \n"
   ]
  },
  {
   "cell_type": "code",
   "execution_count": 39,
   "metadata": {},
   "outputs": [
    {
     "name": "stdout",
     "output_type": "stream",
     "text": [
      "a*b*c*d*e*f\n"
     ]
    }
   ],
   "source": [
    "#문자열 변경\n",
    "\n",
    "str = \"a:b:c:d:e:f\"\n",
    "res = str.replace(\":\",\"*\")\n",
    "print(res)"
   ]
  },
  {
   "cell_type": "code",
   "execution_count": null,
   "metadata": {},
   "outputs": [],
   "source": []
  },
  {
   "cell_type": "code",
   "execution_count": 131,
   "metadata": {},
   "outputs": [
    {
     "name": "stdout",
     "output_type": "stream",
     "text": [
      "문자 입력:나는 싫어 몰라 피곤해\n",
      "나는 좋아 알아 기뻐\n",
      "['나는', '좋아', '알아', '기뻐']\n",
      "ssn3나는 좋아 알아 기뻐\n",
      "ssn3출력 : 나는 좋아 알아 기뻐\n",
      "<class 'str'>\n",
      "['나는', '좋아', '알아', '기뻐']\n",
      "나는 좋아 알아 기뻐\n"
     ]
    }
   ],
   "source": [
    "# 문제) 사용자로부터 아무 글이나 입력을 받도록 한다.\n",
    "# 싫어 => 좋아. 졸려 => 피곤해. 이런식으로 글을 변경해주는 프로그램을 만들어보자.\n",
    "\n",
    "\"\"\"\n",
    "#문자열 대입\n",
    "name = \"김철수\"\n",
    "result= \"이름 : {0}\".format(name)\n",
    "print(result)\n",
    "\"\"\"\n",
    "\n",
    "ssn = input(\"문자 입력:\")\n",
    "\n",
    "ssn = ssn.replace(\"싫어\",\"좋아\")\n",
    "ssn = ssn.replace(\"나빠\",\"좋아\")\n",
    "ssn = ssn.replace(\"몰라\",\"알아\")\n",
    "ssn = ssn.replace(\"피곤해\",\"기뻐\")\n",
    "print(ssn)\n",
    "\n",
    "\n",
    "ssnlist = ssn.split()\n",
    "print(ssnlist)\n",
    "\n",
    "for e in ssnlist:\n",
    "    ssn3 = ssn.replace(\"싫어\",\"좋아\")\n",
    "    ssn3 = ssn.replace(\"싫어\",\"좋아\")\n",
    "    ssn3 = ssn.replace(\"나빠\",\"좋아\")\n",
    "    ssn3 = ssn.replace(\"몰라\",\"알아\")\n",
    "    ssn3 = ssn.replace(\"피곤해\",\"기뻐\")\n",
    "\n",
    "    \n",
    "print(\"ssn3\"+ssn3)\n",
    "print(\"ssn3출력 : \"+\"\".join(ssn3))\n",
    "\n",
    "\n",
    "\n",
    "\n",
    "print(type(ssn))\n",
    "\n",
    "print(ssnlist)\n",
    "\n",
    "\n",
    "\n",
    "print (\" \".join(ssnlist))\n",
    "\n",
    "#for e in ssnlist:\n",
    "#    if(ssnlist==\"싫어\"):\n",
    "#        ssnlist.replace(\"좋아\")\n",
    "#        print(\"싫어태그입니다\"+ssnlist)\n",
    "#    else:\n",
    "#        print(ssnlist)\n",
    "\n",
    "\n",
    "\n",
    "\n",
    "\n",
    "\n",
    "#문자 입력:python 싫어 몰라 피곤해\n",
    "#python 좋아 몰라 피곤해\n",
    "\n",
    "\n",
    "#        if(\"싫어\" in ssn):\n",
    "#            print(\"좋아\")\n",
    "#        if(\"졸려\" in ssn):\n",
    "#            print(\"피곤해\")\n",
    "#        else:\n",
    "#            print(ssn)\n",
    "\n",
    "#강사님꺼\n",
    "#글자를 입력하세요 : python 싫어 몰라 피곤해\n",
    "#['python','싫어','몰라','피곤해']\n",
    "#python 좋아 알아 기뻐"
   ]
  },
  {
   "cell_type": "code",
   "execution_count": 116,
   "metadata": {},
   "outputs": [],
   "source": [
    "#연습문제 2)\n"
   ]
  },
  {
   "cell_type": "code",
   "execution_count": null,
   "metadata": {},
   "outputs": [],
   "source": [
    "\n"
   ]
  }
 ],
 "metadata": {
  "kernelspec": {
   "display_name": "Python 3",
   "language": "python",
   "name": "python3"
  },
  "language_info": {
   "codemirror_mode": {
    "name": "ipython",
    "version": 3
   },
   "file_extension": ".py",
   "mimetype": "text/x-python",
   "name": "python",
   "nbconvert_exporter": "python",
   "pygments_lexer": "ipython3",
   "version": "3.7.1"
  }
 },
 "nbformat": 4,
 "nbformat_minor": 2
}
