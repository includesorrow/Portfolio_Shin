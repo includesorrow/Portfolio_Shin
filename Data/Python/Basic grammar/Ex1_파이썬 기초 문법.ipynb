{
 "cells": [
  {
   "cell_type": "code",
   "execution_count": 5,
   "metadata": {},
   "outputs": [
    {
     "name": "stdout",
     "output_type": "stream",
     "text": [
      "[1, 3, 5, 7, 9]\n",
      "<class 'list'>\n",
      "1\n",
      "<class 'int'>\n",
      "9\n",
      "1\n",
      "3\n",
      "5\n",
      "7\n",
      "9\n"
     ]
    }
   ],
   "source": [
    "\"\"\"\n",
    "    리스트 : [] 감싸고 쉼표로 요소를 구분\n",
    "    \n",
    "\"\"\"\n",
    "\n",
    "a = [1,3,5,7,9]\n",
    "print(a)\n",
    "print(type(a))\n",
    "\n",
    "\n",
    "#리스트의 첫번째 요소를 출력\n",
    "print(a[0])\n",
    "print(type(a[0]))\n",
    "\n",
    "\n",
    "#뒤에서 첫번째 요소를 출력\n",
    "print(a[-1])\n",
    "\n",
    "#for문을 사용해서 출력\n",
    "for e in a:\n",
    "    print(e)"
   ]
  },
  {
   "cell_type": "code",
   "execution_count": 6,
   "metadata": {},
   "outputs": [
    {
     "name": "stdout",
     "output_type": "stream",
     "text": [
      "a\n"
     ]
    }
   ],
   "source": [
    "a = [1,2,3,['a','b','c']]\n",
    "#마지막 요소 1차원 배열의 첫번째 값을 출력\n",
    "\n",
    "print(a[-1][0])\n"
   ]
  },
  {
   "cell_type": "code",
   "execution_count": 11,
   "metadata": {},
   "outputs": [
    {
     "data": {
      "text/plain": [
       "6"
      ]
     },
     "execution_count": 11,
     "metadata": {},
     "output_type": "execute_result"
    }
   ],
   "source": [
    "#리스트끼리는 연산이 가능하다\n",
    "a=[1,3,5,7,9]\n",
    "a[0]+a[2]\n"
   ]
  },
  {
   "cell_type": "code",
   "execution_count": 13,
   "metadata": {},
   "outputs": [
    {
     "name": "stdout",
     "output_type": "stream",
     "text": [
      "[1, 3]\n"
     ]
    },
    {
     "data": {
      "text/plain": [
       "'13'"
      ]
     },
     "execution_count": 13,
     "metadata": {},
     "output_type": "execute_result"
    }
   ],
   "source": [
    "#리스트의 슬라이싱\n",
    "a[0:2]\n",
    "print(a[0:2])\n",
    "\n",
    "b=\"13579\"\n",
    "b[0:2]"
   ]
  },
  {
   "cell_type": "code",
   "execution_count": null,
   "metadata": {},
   "outputs": [],
   "source": []
  },
  {
   "cell_type": "code",
   "execution_count": 51,
   "metadata": {},
   "outputs": [
    {
     "name": "stdout",
     "output_type": "stream",
     "text": [
      "slice(None, ['가', '나', '다', ['라', '마']], None)\n",
      "가\n",
      "나\n",
      "다\n",
      "라\n",
      "마\n",
      "가\n",
      "나\n",
      "다\n",
      "라\n",
      "마\n"
     ]
    }
   ],
   "source": [
    "#다음 데이터를 for문으로 출력해보기\n",
    "a = ['가','나','다',['라','마']]\n",
    "\n",
    "#for e in a :\n",
    "#print(a[e][e])\n",
    " \n",
    "print(slice(a))\n",
    "\n",
    "\n",
    "\n",
    "a = ['가', '나', '다', ['라', '마']]\n",
    "for e in a:\n",
    "    if type(e) == list:\n",
    "        for p in e:\n",
    "            print(p)\n",
    "    else:\n",
    "        print(e)\n",
    "    \n",
    "##정답\n",
    "a = ['가','나','다',['라','마']]\n",
    "for e in a:\n",
    "    for j in e:\n",
    "        print(j)"
   ]
  },
  {
   "cell_type": "code",
   "execution_count": 54,
   "metadata": {},
   "outputs": [
    {
     "name": "stdout",
     "output_type": "stream",
     "text": [
      "[10, 20, 30, 40, 50, 60]\n",
      "[10, 20, 30, [40, 50], 40, 50, 60, [70, 80]]\n",
      "[10, 20, 30, 10, 20, 30]\n"
     ]
    }
   ],
   "source": [
    "\n",
    "#리스트간의 + 연산은 리스트를 합치는 기능 (주의)\n",
    "X = [10,20,30]\n",
    "Y = [40,50,60]\n",
    "print(X + Y)\n",
    "xx = [10,20,30,[40,50]]\n",
    "yy = [40,50,60,[70,80]]\n",
    "print(xx + yy)\n",
    "\n",
    "#리스트 * 는 반복하는 기능\n",
    "print(X * 2)"
   ]
  },
  {
   "cell_type": "code",
   "execution_count": 55,
   "metadata": {},
   "outputs": [
    {
     "name": "stdout",
     "output_type": "stream",
     "text": [
      "<class 'list'>\n"
     ]
    }
   ],
   "source": [
    "a = []\n",
    "print(type(a))"
   ]
  },
  {
   "cell_type": "code",
   "execution_count": 83,
   "metadata": {},
   "outputs": [
    {
     "name": "stdout",
     "output_type": "stream",
     "text": [
      "<class 'list'>\n",
      "[70]\n",
      "1\n",
      "[0, 1, 2, 3, 4, 5, 6, 7, 8, 9]\n",
      "None\n",
      "[70, [0, 1, 2, 3, 4, 5, 6, 7, 8, 9]]\n",
      "<class 'list'>\n",
      "[70, [0, 1, 2, 3, 4, 5, 6, 7, 8, 9, 10, 11, 12, 13, 14, 15, 16, 17, 18, 19, 20, 21, 22, 23, 24, 25, 26, 27, 28, 29, 30, 31, 32, 33, 34, 35, 36, 37, 38, 39, 40, 41, 42, 43, 44, 45, 46, 47, 48, 49, 50, 51, 52, 53, 54, 55, 56, 57, 58, 59, 60, 61, 62, 63, 64, 65, 66, 67, 68, 69, 70, 71, 72, 73, 74, 75, 76, 77, 78, 79, 80, 81, 82, 83, 84, 85, 86, 87, 88, 89, 90, 91, 92, 93, 94, 95, 96, 97, 98, 99]]\n",
      "2\n"
     ]
    }
   ],
   "source": [
    "# append() 리스트의 마지막에 데이터를 추가\n",
    "a = list()\n",
    "c = list()\n",
    "print(type(a))\n",
    "a.append(70)\n",
    "print(a)\n",
    "print(len(a))\n",
    "\n",
    "\n",
    "\n",
    "for i in range(0,10):\n",
    "    c.append(i)\n",
    "    \n",
    "print(c)\n",
    "\n",
    "# for i in range(0,10):\n",
    "#     b = a.append([i])\n",
    "    \n",
    "\n",
    "print(a.append(c))\n",
    "    \n",
    "    \n",
    "print(a)\n",
    "\n",
    "\n",
    "#강사님꺼\n",
    "\n",
    "aa = list()\n",
    "print(type(a))\n",
    "aa.append(70)\n",
    "aa.append([x for x in range (100)])\n",
    "print(aa)\n",
    "print(len(aa))"
   ]
  },
  {
   "cell_type": "code",
   "execution_count": 84,
   "metadata": {},
   "outputs": [
    {
     "name": "stdout",
     "output_type": "stream",
     "text": [
      "[1, 2, 3, 5, 8]\n",
      "[8, 5, 3, 2, 1]\n"
     ]
    }
   ],
   "source": [
    "# 데이터 수집을 했다면 데이터는 정렬이 되지 않을 것인데\n",
    "# 이것을 정렬하는 것도 일종에 전처리에 해당이 된다.\n",
    "x = [5,1,8,2,3]\n",
    "#리스트의 오름차순\n",
    "x.sort()\n",
    "print(x)\n",
    "#리스트의 내림차순\n",
    "x.reverse()\n",
    "print(x)\n"
   ]
  },
  {
   "cell_type": "code",
   "execution_count": 133,
   "metadata": {},
   "outputs": [
    {
     "name": "stdout",
     "output_type": "stream",
     "text": [
      "k.o.s.t.a\n",
      "['k', 'o', 's', 't', 'a']\n",
      "['k', 'o', 's', 't', 'a']\n",
      "['a', 'k', 'o', 's', 't']\n",
      "['a', 'k', 'o', 's', 't']\n"
     ]
    }
   ],
   "source": [
    "#문제) 한번 해보기\n",
    "#'kosta' 각 단어를 배열로 저장한 후\n",
    "#내림차순으로 정렬하기\n",
    "\"\"\"\n",
    "['k','o','s','t','a']\n",
    "['a','k','o','s','t']\n",
    "\"\"\"\n",
    "\n",
    "kk = ['k','o','s','t','a']\n",
    "\n",
    "kka = \".\".join(kk)\n",
    "print(kka)\n",
    "#kka.split('.')\n",
    "print(kka.split('.'))\n",
    "c = kka.split('.')\n",
    "print(c)\n",
    "c.sort()\n",
    "print(c)\n",
    "\n",
    "\n",
    "\n",
    "\n",
    "\n",
    "kk.sort()\n",
    "print(kk)\n",
    "\n",
    "\n",
    "\n",
    "# print(kk[:2])\n",
    "# k = list()\n",
    "# k.append(['k','o','s','t','a'])\n",
    "# k.sort()\n",
    "\n",
    "\n",
    "# print(kka)\n",
    "# ass = list()\n",
    "# ass.append(kka)\n",
    "# print(ass)\n",
    "# ass.sort()\n",
    "# print(ass)\n",
    "# ass.reverse()\n",
    "# print(ass)\n",
    "\n",
    "\n"
   ]
  },
  {
   "cell_type": "code",
   "execution_count": 134,
   "metadata": {},
   "outputs": [
    {
     "name": "stdout",
     "output_type": "stream",
     "text": [
      "o\n",
      "1\n",
      "['my', 'k', 'o', 's', 't', 'a']\n",
      "['my', 'k', 'o', 's', 't', 'a']\n"
     ]
    },
    {
     "ename": "NameError",
     "evalue": "name 'x' is not defined",
     "output_type": "error",
     "traceback": [
      "\u001b[1;31m---------------------------------------------------------------------------\u001b[0m",
      "\u001b[1;31mNameError\u001b[0m                                 Traceback (most recent call last)",
      "\u001b[1;32m<ipython-input-134-7087ea15ae2c>\u001b[0m in \u001b[0;36m<module>\u001b[1;34m\u001b[0m\n\u001b[0;32m     10\u001b[0m \u001b[0mprint\u001b[0m\u001b[1;33m(\u001b[0m\u001b[0mx\u001b[0m\u001b[1;33m)\u001b[0m\u001b[1;33m\u001b[0m\u001b[1;33m\u001b[0m\u001b[0m\n\u001b[0;32m     11\u001b[0m \u001b[1;32mdel\u001b[0m \u001b[0mx\u001b[0m\u001b[1;33m\u001b[0m\u001b[1;33m\u001b[0m\u001b[0m\n\u001b[1;32m---> 12\u001b[1;33m \u001b[0mprint\u001b[0m\u001b[1;33m(\u001b[0m\u001b[0mx\u001b[0m\u001b[1;33m)\u001b[0m\u001b[1;33m\u001b[0m\u001b[1;33m\u001b[0m\u001b[0m\n\u001b[0m",
      "\u001b[1;31mNameError\u001b[0m: name 'x' is not defined"
     ]
    }
   ],
   "source": [
    "\n",
    "y = ['k','o','s','t','a']\n",
    "print(y[1])\n",
    "#문자열의 인덱스 번호를 반환\n",
    "print(y.index('o'))\n",
    "#인덱스에 값을 추가할 때\n",
    "y.insert(0,'my')\n",
    "print(y)\n",
    "x = y\n",
    "print(x)\n",
    "del x\n",
    "#del = 객체를 삭제. 그래서 에러뜸.\n",
    "print(x)"
   ]
  },
  {
   "cell_type": "code",
   "execution_count": 138,
   "metadata": {},
   "outputs": [
    {
     "name": "stdout",
     "output_type": "stream",
     "text": [
      "[5, 1, 8, 9, 2, 3, 9]\n",
      "[5, 1, 8, 2, 3, 9]\n",
      "[5, 1, 8, 2, 3]\n"
     ]
    }
   ],
   "source": [
    "x = [5,1,8,9,2,3]\n",
    "x.append(9)\n",
    "print(x)\n",
    "#첫번째 요소의 값부터 삭제한다\n",
    "x.remove(9)\n",
    "#이렇게 하면 처음 나오는 9를 삭제\n",
    "print(x)\n",
    "#두번째 요소의 값 삭제\n",
    "x.remove(9)\n",
    "print(x)\n"
   ]
  },
  {
   "cell_type": "code",
   "execution_count": 143,
   "metadata": {},
   "outputs": [
    {
     "name": "stdout",
     "output_type": "stream",
     "text": [
      "[1, 3, 5, 7]\n"
     ]
    }
   ],
   "source": [
    "\n",
    "\n",
    "# remove를 사용해서 홀수만 출력하시오.\n",
    "\n",
    "list_ez =[1,2,3,4,5,6,7,8]\n",
    "\n",
    "for e in list_ez:\n",
    "    if(e%2==0):\n",
    "        list_ez.remove(e)\n",
    "        \n",
    "print(list_ez)"
   ]
  },
  {
   "cell_type": "code",
   "execution_count": 144,
   "metadata": {},
   "outputs": [
    {
     "name": "stdout",
     "output_type": "stream",
     "text": [
      "[0, 2, 3, 2, 1, 4, 6, 5]\n",
      "[0, 2, 3, 2, 1, 6, 5]\n"
     ]
    }
   ],
   "source": [
    "#pop method\n",
    "#pop()은 리스트의 맨 마지막 요소를 돌려 주고 그 요소는 삭제하는 함수이다.\n",
    "\n",
    "a = [0,2,3,2,1,4,6,5,7]\n",
    "# pop() => from end of list\n",
    "a.pop()\n",
    "print(a)\n",
    "# pop#index\n",
    "a.pop(5)\n",
    "print(a)\n"
   ]
  },
  {
   "cell_type": "code",
   "execution_count": 161,
   "metadata": {},
   "outputs": [
    {
     "name": "stdout",
     "output_type": "stream",
     "text": [
      "cat\n"
     ]
    }
   ],
   "source": [
    "list1 = [1,2,3,('cat','dog'),7]\n",
    "#pop을 사용해서 고양이를 출력하거나 강아지를 출력\n",
    "\n",
    "#print(list1.pop(3)[0])\n",
    "\n",
    "# if((list1.pop(3)[0])==\"cat\"):\n",
    "#     print(\"고양이\")\n",
    "# elif((list1.pop(3)[1])==\"dog\"):\n",
    "#     print(\"강아지\")\n",
    "    \n",
    "    \n",
    "\n",
    "list1.pop(4)\n",
    "print(list1[3][0])"
   ]
  },
  {
   "cell_type": "code",
   "execution_count": 131,
   "metadata": {},
   "outputs": [
    {
     "name": "stdout",
     "output_type": "stream",
     "text": [
      "2\n"
     ]
    },
    {
     "data": {
      "text/plain": [
       "[1, 2, 3, 4, 5]"
      ]
     },
     "execution_count": 131,
     "metadata": {},
     "output_type": "execute_result"
    }
   ],
   "source": [
    "a = [0,2,3,2,1,4,6,5,7]\n",
    "print(a.count(2))\n",
    "\n",
    "#리스트확장(extend)\n",
    "a = [1,2,3]\n",
    "a.extend([4,5])\n",
    "a"
   ]
  },
  {
   "cell_type": "code",
   "execution_count": 181,
   "metadata": {},
   "outputs": [
    {
     "name": "stdout",
     "output_type": "stream",
     "text": [
      "[0, 1, 2, 3, 4, 5, 6, 7, 8, 9, 10, 11, 12, 13, 14, 15, 16, 17, 18, 19]\n",
      "[1]\n",
      "1\n",
      "[1, 2, 3, 5, 8, 13, 21, 34, 55, 89, 144, 233, 377, 610, 987, 1597, 2584, 4181, 6765, 10946, 17711]\n"
     ]
    }
   ],
   "source": [
    "# 연습문제) 리스트로 옮기기\n",
    "# n = 1 ~ n = 20 까지의 피보나치 수열 값을 리스트로 출력하시오.\n",
    "\n",
    "p = list()\n",
    "pp1 = list()\n",
    "pp2 = list()\n",
    "for e in range(0,20):\n",
    "    p.append(e)\n",
    "    \n",
    "print(p)\n",
    "\n",
    "pp1.append(1)\n",
    "pp2.append(1)\n",
    "print(pp1)\n",
    "print(pp2[0])\n",
    "\n",
    "\n",
    "# ## 3 ##\n",
    "# pp1.append(pp2[0])\n",
    "# print(pp1)\n",
    "\n",
    "# ## 4 ##\n",
    "# pp2.append(pp1[0]+pp1[1])\n",
    "# print(pp2)\n",
    "\n",
    "# ## 5 ##\n",
    "# pp1.append(pp2[1])\n",
    "# print(pp1)\n",
    "\n",
    "# ## 6 ##\n",
    "# pp2.append(pp1[1]+pp1[2])\n",
    "# print(pp2)\n",
    "\n",
    "\n",
    "\n",
    "\n",
    "for e in range(0,20):\n",
    "    pp1.append(pp2[e])\n",
    "    pp2.append(pp1[e]+pp1[e+1])\n",
    "\n",
    "print(pp2)"
   ]
  },
  {
   "cell_type": "code",
   "execution_count": null,
   "metadata": {},
   "outputs": [],
   "source": [
    "#<연습문제1> : ['인생은', '너무', '아름답다']의 리스트를 join을 사용해서 문자열로 출력하기"
   ]
  },
  {
   "cell_type": "code",
   "execution_count": 2,
   "metadata": {},
   "outputs": [
    {
     "data": {
      "text/plain": [
       "['굿바이', '고마워요']"
      ]
     },
     "execution_count": 2,
     "metadata": {},
     "output_type": "execute_result"
    }
   ],
   "source": [
    "str = \"하이 반가워요. 굿바이 고마워요 잘가요\".split()\n",
    "str\n",
    "\n",
    "# 잘가요 만 출력\n",
    "# 굿바이 고마워요 만 출력\n",
    "\n",
    "# 잘가요 만 출력\n",
    "str[-1]\n",
    "\n",
    "# 굿바이 고마워요 만 출력\n",
    "str[-3:-1]\n"
   ]
  },
  {
   "cell_type": "code",
   "execution_count": 4,
   "metadata": {},
   "outputs": [
    {
     "ename": "TypeError",
     "evalue": "'tuple' object does not support item assignment",
     "output_type": "error",
     "traceback": [
      "\u001b[1;31m---------------------------------------------------------------------------\u001b[0m",
      "\u001b[1;31mTypeError\u001b[0m                                 Traceback (most recent call last)",
      "\u001b[1;32m<ipython-input-4-9ed49db12ca6>\u001b[0m in \u001b[0;36m<module>\u001b[1;34m\u001b[0m\n\u001b[0;32m      4\u001b[0m \u001b[1;33m\u001b[0m\u001b[0m\n\u001b[0;32m      5\u001b[0m \u001b[0mt1\u001b[0m \u001b[1;33m=\u001b[0m \u001b[1;33m(\u001b[0m\u001b[1;36m1\u001b[0m\u001b[1;33m,\u001b[0m \u001b[1;36m2\u001b[0m\u001b[1;33m,\u001b[0m \u001b[1;34m'a'\u001b[0m\u001b[1;33m,\u001b[0m \u001b[1;34m'b'\u001b[0m\u001b[1;33m)\u001b[0m\u001b[1;33m\u001b[0m\u001b[1;33m\u001b[0m\u001b[0m\n\u001b[1;32m----> 6\u001b[1;33m \u001b[0mt1\u001b[0m\u001b[1;33m[\u001b[0m\u001b[1;36m0\u001b[0m\u001b[1;33m]\u001b[0m \u001b[1;33m=\u001b[0m \u001b[1;34m\"c\"\u001b[0m\u001b[1;33m\u001b[0m\u001b[1;33m\u001b[0m\u001b[0m\n\u001b[0m\u001b[0;32m      7\u001b[0m \u001b[1;33m\u001b[0m\u001b[0m\n",
      "\u001b[1;31mTypeError\u001b[0m: 'tuple' object does not support item assignment"
     ]
    }
   ],
   "source": [
    "# 튜플 자료형\n",
    "# 리스트는 대괄호 [ ] 로 감싸고 튜플은 소괄호 ( ) 로 감싼다.\n",
    "# 리스트는 수정, 삭제가 되지만, 튜플은 수정,삭제가 안됨.\n",
    "\n",
    "t1 = (1, 2, 'a', 'b')\n",
    "t1[0] = \"c\"\n",
    "\n"
   ]
  },
  {
   "cell_type": "code",
   "execution_count": 5,
   "metadata": {},
   "outputs": [
    {
     "data": {
      "text/plain": [
       "tuple"
      ]
     },
     "execution_count": 5,
     "metadata": {},
     "output_type": "execute_result"
    }
   ],
   "source": [
    "# 튜플은 리스트와 거의 비슷\n",
    "# 튜플은 소괄호 ( ) 사용, 자료의 변경 및 삭제가 불가능. 읽기전용\n",
    "\n",
    "tp = ()\n",
    "tp2 = tuple()\n",
    "type(tp2)"
   ]
  },
  {
   "cell_type": "code",
   "execution_count": 11,
   "metadata": {},
   "outputs": [
    {
     "name": "stdout",
     "output_type": "stream",
     "text": [
      "5\n",
      "<class 'int'>\n",
      "(10,)\n",
      "<class 'tuple'>\n"
     ]
    }
   ],
   "source": [
    "# tuple에서는 데이터 하나만을 지정했을 때\n",
    "# ,를 지정하지 않으면 int형이 된다.\n",
    "\n",
    "tp3 = (5)\n",
    "print(tp3)\n",
    "print(type(tp3))\n",
    "\n",
    "\n",
    "tp3 = (10,)\n",
    "print(tp3)\n",
    "print(type(tp3))"
   ]
  },
  {
   "cell_type": "code",
   "execution_count": 14,
   "metadata": {},
   "outputs": [
    {
     "name": "stdout",
     "output_type": "stream",
     "text": [
      "(10, 20)\n",
      "<class 'tuple'>\n"
     ]
    }
   ],
   "source": [
    "# tuple은 소괄호를 생략 할 수 있다.\n",
    "tp4 = 10,20\n",
    "print(tp4)\n",
    "print(type(tp4))\n",
    "\n",
    "# 좋은 방법이 아니므로 미리 튜플을 선언해두자."
   ]
  },
  {
   "cell_type": "code",
   "execution_count": 16,
   "metadata": {},
   "outputs": [
    {
     "name": "stdout",
     "output_type": "stream",
     "text": [
      "(1, 2, 3, (10, 20))\n"
     ]
    }
   ],
   "source": [
    "# tuple 안에 tuple을 넣을 수 있다.\n",
    "tp5 = (1,2,3,tp4)\n",
    "print(tp5)"
   ]
  },
  {
   "cell_type": "code",
   "execution_count": 18,
   "metadata": {},
   "outputs": [
    {
     "name": "stdout",
     "output_type": "stream",
     "text": [
      "(1, 2, 3, [10, 20, 30])\n"
     ]
    },
    {
     "ename": "TypeError",
     "evalue": "'tuple' object doesn't support item deletion",
     "output_type": "error",
     "traceback": [
      "\u001b[1;31m---------------------------------------------------------------------------\u001b[0m",
      "\u001b[1;31mTypeError\u001b[0m                                 Traceback (most recent call last)",
      "\u001b[1;32m<ipython-input-18-5933773a31f6>\u001b[0m in \u001b[0;36m<module>\u001b[1;34m\u001b[0m\n\u001b[0;32m      3\u001b[0m \u001b[0mprint\u001b[0m\u001b[1;33m(\u001b[0m\u001b[0mtp6\u001b[0m\u001b[1;33m)\u001b[0m\u001b[1;33m\u001b[0m\u001b[1;33m\u001b[0m\u001b[0m\n\u001b[0;32m      4\u001b[0m \u001b[1;31m# tuple 원소 삭제 X\u001b[0m\u001b[1;33m\u001b[0m\u001b[1;33m\u001b[0m\u001b[1;33m\u001b[0m\u001b[0m\n\u001b[1;32m----> 5\u001b[1;33m \u001b[1;32mdel\u001b[0m \u001b[0mtp5\u001b[0m\u001b[1;33m[\u001b[0m\u001b[1;36m1\u001b[0m\u001b[1;33m]\u001b[0m\u001b[1;33m\u001b[0m\u001b[1;33m\u001b[0m\u001b[0m\n\u001b[0m",
      "\u001b[1;31mTypeError\u001b[0m: 'tuple' object doesn't support item deletion"
     ]
    }
   ],
   "source": [
    "# tuple 안에 list도 넣을 수 있다.\n",
    "tp6 = (1,2,3,[10,20,30])\n",
    "print(tp6)\n",
    "# tuple 원소 삭제 X\n",
    "del tp5[1]"
   ]
  },
  {
   "cell_type": "code",
   "execution_count": 19,
   "metadata": {},
   "outputs": [
    {
     "name": "stdout",
     "output_type": "stream",
     "text": [
      "[1, 2, 3, 4, 5, 6, 7, 10]\n",
      "(1, 2, 3, 4, 5, 6, 7, 10)\n"
     ]
    }
   ],
   "source": [
    "# tuple의 데이터 추가하기\n",
    "tp7 = (1,2,3,4,5,6,7)\n",
    "tmpList = list(tp7)\n",
    "type(tmpList)\n",
    "tmpList.append(10)\n",
    "print(tmpList)\n",
    "tp7 = tuple(tmpList)\n",
    "print(tp7)"
   ]
  },
  {
   "cell_type": "code",
   "execution_count": 22,
   "metadata": {},
   "outputs": [
    {
     "name": "stdout",
     "output_type": "stream",
     "text": [
      "{1, 2, 3}\n",
      "{'e', 'l', 'H', 'o'}\n"
     ]
    }
   ],
   "source": [
    "# set 구조 : 중복을 허용하지 않고 순서가 무작위인 것이다.\n",
    "\n",
    "# 집합 자료형\n",
    "# 중복값을 허용하지 않음. 순서가 없음.\n",
    "\n",
    "s1 = set([1,2,3])\n",
    "print(s1)\n",
    "s2 = set(\"Helloooooooo\")\n",
    "print(s2)\n"
   ]
  },
  {
   "cell_type": "code",
   "execution_count": 25,
   "metadata": {},
   "outputs": [
    {
     "ename": "TypeError",
     "evalue": "'set' object does not support indexing",
     "output_type": "error",
     "traceback": [
      "\u001b[1;31m---------------------------------------------------------------------------\u001b[0m",
      "\u001b[1;31mTypeError\u001b[0m                                 Traceback (most recent call last)",
      "\u001b[1;32m<ipython-input-25-8b3c606605a7>\u001b[0m in \u001b[0;36m<module>\u001b[1;34m\u001b[0m\n\u001b[0;32m      1\u001b[0m \u001b[1;31m# set 자료형에 저장된 값을 인덱싱으로 접근하려면 다음과 같이 리스트나 튜플로 변환한 후 해야 한다.\u001b[0m\u001b[1;33m\u001b[0m\u001b[1;33m\u001b[0m\u001b[1;33m\u001b[0m\u001b[0m\n\u001b[0;32m      2\u001b[0m \u001b[0ms1\u001b[0m \u001b[1;33m=\u001b[0m \u001b[0mset\u001b[0m\u001b[1;33m(\u001b[0m\u001b[1;33m[\u001b[0m\u001b[1;36m1\u001b[0m\u001b[1;33m,\u001b[0m\u001b[1;36m2\u001b[0m\u001b[1;33m,\u001b[0m\u001b[1;36m3\u001b[0m\u001b[1;33m]\u001b[0m\u001b[1;33m)\u001b[0m\u001b[1;33m\u001b[0m\u001b[1;33m\u001b[0m\u001b[0m\n\u001b[1;32m----> 3\u001b[1;33m \u001b[0ms1\u001b[0m\u001b[1;33m[\u001b[0m\u001b[1;36m0\u001b[0m\u001b[1;33m]\u001b[0m\u001b[1;33m\u001b[0m\u001b[1;33m\u001b[0m\u001b[0m\n\u001b[0m\u001b[0;32m      4\u001b[0m \u001b[1;33m\u001b[0m\u001b[0m\n\u001b[0;32m      5\u001b[0m \u001b[1;31m#순번이 없으므로 에~~러\u001b[0m\u001b[1;33m\u001b[0m\u001b[1;33m\u001b[0m\u001b[1;33m\u001b[0m\u001b[0m\n",
      "\u001b[1;31mTypeError\u001b[0m: 'set' object does not support indexing"
     ]
    }
   ],
   "source": [
    "# set 자료형에 저장된 값을 인덱싱으로 접근하려면 다음과 같이 리스트나 튜플로 변환한 후 해야 한다.\n",
    "s1 = set([1,2,3])\n",
    "s1[0]\n",
    "\n",
    "#순번이 없으므로 에~~러\n"
   ]
  },
  {
   "cell_type": "code",
   "execution_count": 26,
   "metadata": {},
   "outputs": [
    {
     "name": "stdout",
     "output_type": "stream",
     "text": [
      "1\n",
      "==============================\n"
     ]
    }
   ],
   "source": [
    "\n",
    "\n",
    "l1 = list(s1)\n",
    "print(l1[0])\n",
    "print(\"=\"*30)"
   ]
  },
  {
   "cell_type": "code",
   "execution_count": 98,
   "metadata": {},
   "outputs": [
    {
     "name": "stdout",
     "output_type": "stream",
     "text": [
      "{'r', 'c', 'd', 'b', 'a'}\n",
      "['r', 'c', 'd', 'b', 'a']\n",
      "['r', 'd']\n",
      "a.b.r.a.c.a.d.a.b.r.a\n",
      "{'r', 'c', 'd', 'b', 'a'}\n",
      "r\n",
      "d\n"
     ]
    }
   ],
   "source": [
    "\n",
    "# set 문제\n",
    "# abracadabra 문자열이 있는데, 중복을 알아서 제거하고\n",
    "#아래의 조건처럼\n",
    "#문자열에서 a b c가 포함되지 않는 문자들을 출력하시오.\n",
    "a11 = list()\n",
    "a11 = \"abracadabra\"\n",
    "s11 = set(a11)\n",
    "print(s11)\n",
    "a12 = list(s11)\n",
    "print(a12)\n",
    "\n",
    "a12.remove(\"a\")\n",
    "a12.remove(\"b\")\n",
    "a12.remove(\"c\")\n",
    "\n",
    "# 내가 실수한거\n",
    "# for e in a12:\n",
    "#     if(a12[e]==\"a\"):\n",
    "#         a12.remove(\"a\")\n",
    "#     elif(a12[e]==\"b\"):\n",
    "#         a12.remove(\"b\")\n",
    "#     elif(a12[e]==\"c\"):\n",
    "#         a12.remove(\"c\")\n",
    "# keyword = set, for \n",
    "# 순번 : 문자열을 전부 list로 출력 -> set하면은 중복값들이 필터링 -> a,b,c만 제거하면 \n",
    "\n",
    "\n",
    "    \n",
    "print(a12)\n",
    "\n",
    "\n",
    "\n",
    "str = '.'.join(\"abracadabra\")\n",
    "print(str)\n",
    "str_set = set(str.split(\".\"))\n",
    "print(str_set)\n",
    "for e in str_set:\n",
    "    if e not in 'abc':\n",
    "        print(e)\n"
   ]
  },
  {
   "cell_type": "code",
   "execution_count": 91,
   "metadata": {},
   "outputs": [
    {
     "name": "stdout",
     "output_type": "stream",
     "text": [
      "Hi\n"
     ]
    }
   ],
   "source": [
    "a = \"HI\"\n",
    "a = a[0]+a[1].lower()\n",
    "print(a)"
   ]
  },
  {
   "cell_type": "code",
   "execution_count": 124,
   "metadata": {},
   "outputs": [
    {
     "name": "stdout",
     "output_type": "stream",
     "text": [
      "[0, 2, 4, 6, 8, 10, 12, 14, 16, 18, 20]\n",
      "55\n",
      "[1.018181818181818, 1.0363636363636364, 1.0545454545454545, 1.0727272727272728, 1.0909090909090908, 1.1090909090909091, 1.1272727272727272, 1.1454545454545455, 1.1636363636363636, 1.1818181818181819]\n",
      "==================================================\n",
      "[1.018181818181818, 1.0363636363636364, 1.0545454545454545, 1.0727272727272728, 1.0909090909090908, 1.1090909090909091, 1.1272727272727272, 1.1454545454545455, 1.1636363636363636, 1.1818181818181819]\n",
      "==================================================\n",
      "[1.018181818181818, 1.0363636363636364, 1.0545454545454545, 1.0727272727272728, 1.0909090909090908, 1.1090909090909091, 1.1272727272727272, 1.1454545454545455, 1.1636363636363636, 1.1818181818181819]\n",
      "==================================================\n",
      "{'r', 'd'}\n"
     ]
    }
   ],
   "source": [
    "#Comprehension 이란 iterable 한 오브젝트를 생성하기 위한 방법 중\n",
    "# 하나로 파이썬에서 사용할 수 있는 유용한 기능중 하나이다.\n",
    "\n",
    "\n",
    "\n",
    "\n",
    "#20까지의 짝수를 출력하기 위해 다음과 같은 LC를 사용할 수 있따.\n",
    "events = [x * 2 for x in range(11)]\n",
    "print(events)\n",
    "\n",
    "#리시트의 모든 원소값을 더하는 LC\n",
    "vals = [1,2,3,4,5,6,7,8,9,10]\n",
    "total = sum(vals)\n",
    "print(total)\n",
    "\n",
    "nm = list()\n",
    "for e in vals:\n",
    "    nm.append((e/total)+1)\n",
    "print(nm)\n",
    "\n",
    "print(\"=\"*50)\n",
    "\n",
    "ev = [(vals[e]/sum(vals))+1for e in range(10)]\n",
    "print(ev)\n",
    "print(\"=\"*50)\n",
    "test = list()\n",
    "for e in range(10):\n",
    "    test.append((vals[e]/sum(vals))+1)\n",
    "\n",
    "print(test)\n",
    "        \n",
    "print(\"=\"*50)\n",
    "        \n",
    "#setter (내가못한거)\n",
    "\n",
    "a = { x for x in 'abracadabra' if x not in 'abc'}\n",
    "print(a)"
   ]
  },
  {
   "cell_type": "code",
   "execution_count": 130,
   "metadata": {},
   "outputs": [
    {
     "name": "stdout",
     "output_type": "stream",
     "text": [
      "{3, 4, 5, 6}\n",
      "{3, 4, 5, 6}\n",
      "{1, 2, 3, 4, 5, 6, 7, 8}\n",
      "{1, 2}\n"
     ]
    }
   ],
   "source": [
    "# 교집합 - &  intersection\n",
    "# 합집합 - l union\n",
    "# 차집합 - difference\n",
    "#> 반드시 set구조여야 함\n",
    "\n",
    "s1 = set([1,2,3,4,5,6])\n",
    "s2 = set([3,4,5,6,7,8])\n",
    "\n",
    "s3 = s1 & s2\n",
    "print(s3)\n",
    "s3 = s1.intersection(s2)\n",
    "print(s3)\n",
    "\n",
    "s3 = s1 | s2\n",
    "print(s3)\n",
    "\n",
    "s3 = s1.difference(s2)\n",
    "print(s3)"
   ]
  },
  {
   "cell_type": "code",
   "execution_count": null,
   "metadata": {},
   "outputs": [],
   "source": []
  }
 ],
 "metadata": {
  "kernelspec": {
   "display_name": "Python 3",
   "language": "python",
   "name": "python3"
  },
  "language_info": {
   "codemirror_mode": {
    "name": "ipython",
    "version": 3
   },
   "file_extension": ".py",
   "mimetype": "text/x-python",
   "name": "python",
   "nbconvert_exporter": "python",
   "pygments_lexer": "ipython3",
   "version": "3.7.1"
  }
 },
 "nbformat": 4,
 "nbformat_minor": 2
}
