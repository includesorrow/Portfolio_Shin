{
 "cells": [
  {
   "cell_type": "code",
   "execution_count": 2,
   "metadata": {},
   "outputs": [
    {
     "name": "stdout",
     "output_type": "stream",
     "text": [
      "[0, 1, 2, 3, 4, 5, 6, 7, 8, 9, 10, 11, 12, 13, 14, 15, 16, 17, 18, 19]\n",
      "[1]\n",
      "1\n",
      "[1, 2, 3, 5, 8, 13, 21, 34, 55, 89, 144, 233, 377, 610, 987, 1597, 2584, 4181, 6765]\n"
     ]
    }
   ],
   "source": [
    "# 연습문제) 리스트로 옮기기\n",
    "# n = 1 ~ n = 20 까지의 피보나치 수열 값을 리스트로 출력하시오.\n",
    "\n",
    "p = list()\n",
    "pp1 = list()\n",
    "pp2 = list()\n",
    "for e in range(0,20):\n",
    "    p.append(e)\n",
    "    \n",
    "print(p)\n",
    "\n",
    "pp1.append(1)\n",
    "pp2.append(1)\n",
    "print(pp1)\n",
    "print(pp2[0])\n",
    "\n",
    "\n",
    "# ## 3 ##\n",
    "# pp1.append(pp2[0])\n",
    "# print(pp1)\n",
    "\n",
    "# ## 4 ##\n",
    "# pp2.append(pp1[0]+pp1[1])\n",
    "# print(pp2)\n",
    "\n",
    "# ## 5 ##\n",
    "# pp1.append(pp2[1])\n",
    "# print(pp1)\n",
    "\n",
    "# ## 6 ##\n",
    "# pp2.append(pp1[1]+pp1[2])\n",
    "# print(pp2)\n",
    "\n",
    "\n",
    "\n",
    "\n",
    "for e in range(0,18):\n",
    "    pp1.append(pp2[e])\n",
    "    pp2.append(pp1[e]+pp1[e+1])\n",
    "\n",
    "print(pp2)"
   ]
  }
 ],
 "metadata": {
  "kernelspec": {
   "display_name": "Python 3",
   "language": "python",
   "name": "python3"
  },
  "language_info": {
   "codemirror_mode": {
    "name": "ipython",
    "version": 3
   },
   "file_extension": ".py",
   "mimetype": "text/x-python",
   "name": "python",
   "nbconvert_exporter": "python",
   "pygments_lexer": "ipython3",
   "version": "3.7.1"
  }
 },
 "nbformat": 4,
 "nbformat_minor": 2
}
