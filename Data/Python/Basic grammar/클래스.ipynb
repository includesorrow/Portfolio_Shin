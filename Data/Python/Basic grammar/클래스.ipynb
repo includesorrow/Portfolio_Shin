{
 "cells": [
  {
   "cell_type": "code",
   "execution_count": 110,
   "metadata": {},
   "outputs": [],
   "source": [
    "class Person:\n",
    "    # Properties\n",
    "    # Setter / Getter 개념 -> 캡슐화\n",
    "    nation = \"한국\"\n",
    "    name = str()\n",
    "    age = int()\n",
    "    height = float()\n",
    "    weight = float()\n",
    "    \n",
    "    \n",
    "    \n",
    "# Methods\n",
    "# self : 인스턴스의 시작 번지값을 지정하는 변수 (자바의 this)\n",
    "\n",
    "    def display(self):\n",
    "        print(\"국적 : \" , self.nation, end = ' ' )\n",
    "        print(\", 이름 : \" , self.name, end = ' ' )\n",
    "        print(\", 나이 : \" , self.age, end = ' ' )\n",
    "        print(\", 신장 : \" , self.height, end = ' ' )\n",
    "        print(\", 체중 : \" , self.weight, end = ' ' )\n",
    "            \n",
    "            \n"
   ]
  },
  {
   "cell_type": "code",
   "execution_count": 111,
   "metadata": {},
   "outputs": [
    {
     "name": "stdout",
     "output_type": "stream",
     "text": [
      "['__class__', '__delattr__', '__dict__', '__dir__', '__doc__', '__eq__', '__format__', '__ge__', '__getattribute__', '__gt__', '__hash__', '__init__', '__init_subclass__', '__le__', '__lt__', '__module__', '__ne__', '__new__', '__reduce__', '__reduce_ex__', '__repr__', '__setattr__', '__sizeof__', '__str__', '__subclasshook__', '__weakref__', 'age', 'display', 'height', 'name', 'nation', 'weight']\n"
     ]
    }
   ],
   "source": [
    "# Person 클래스의 모든 인스턴스 확인\n",
    "# dir(자료형)\n",
    "print(dir(Person))\n"
   ]
  },
  {
   "cell_type": "code",
   "execution_count": 112,
   "metadata": {},
   "outputs": [
    {
     "name": "stdout",
     "output_type": "stream",
     "text": [
      "국적 :  한국 , 이름 :   , 나이 :  0 , 신장 :  0.0 , 체중 :  0.0 \n",
      "한국\n"
     ]
    }
   ],
   "source": [
    "p1 = Person()\n",
    "p1.display()\n",
    "print()\n",
    "print(p1.nation)"
   ]
  },
  {
   "cell_type": "code",
   "execution_count": 113,
   "metadata": {},
   "outputs": [
    {
     "name": "stdout",
     "output_type": "stream",
     "text": [
      "국적 :  한국 , 이름 :  홍길동 , 나이 :  30 , 신장 :  177 , 체중 :  70.5 \n",
      "<__main__.Person object at 0x0000028484929C18>\n",
      "<__main__.Person object at 0x0000028484955C18>\n",
      "<class '__main__.Person'>\n",
      "False\n"
     ]
    }
   ],
   "source": [
    "p2 = Person()\n",
    "p2.name = \"홍길동\"\n",
    "p2.age = 30\n",
    "p2.height = 177\n",
    "p2.weight = 70.5\n",
    "\n",
    "p2.display()\n",
    "print()\n",
    "\n",
    "print(p1)\n",
    "print(p2)\n",
    "print(Person)\n",
    "print(p1==p2)\n",
    "#주소값이 다르다.\n"
   ]
  },
  {
   "cell_type": "code",
   "execution_count": 114,
   "metadata": {},
   "outputs": [
    {
     "name": "stdout",
     "output_type": "stream",
     "text": [
      "국적 :  America , 이름 :   , 나이 :  0 , 신장 :  0.0 , 체중 :  0.0 \n",
      "국적 :  한국 , 이름 :  홍길동 , 나이 :  30 , 신장 :  177 , 체중 :  70.5 "
     ]
    }
   ],
   "source": [
    "#인스턴스 변수 (해당 인스턴스의 값만 바뀜)\n",
    "\n",
    "p1.nation = \"America\"\n",
    "p1.display()\n",
    "print()\n",
    "p2.display()"
   ]
  },
  {
   "cell_type": "code",
   "execution_count": 116,
   "metadata": {},
   "outputs": [],
   "source": [
    "\n",
    "#생성자와 소멸자\n",
    "#생성자 : __init__()\n",
    "#소멸자 : __del__()\n",
    "#초기화를 목적으로 만든게 생성자\n",
    "\n",
    "\n",
    "# 생성자 (중복 생성자는 허용이 안됨.)\n",
    "# 입력매게변수값이 없을 경우 None으로 작성\n",
    "\n",
    "class Person2:\n",
    "    # 생성자 정의\n",
    "    \n",
    "    def __init__(self,name = None, age = None, height=None, weight=None):\n",
    "        #self.인스턴스변수 = 지역변수\n",
    "        #self = this\n",
    "        #self 빠지면 절때안됨~~\n",
    "        self.name=name\n",
    "        self.age = age\n",
    "        self.height = height\n",
    "        self.weight = weight\n",
    "    #생성자에서 멤버로 등록한 변수값을 불러와서 사용할 함수(Method)\n",
    "    def display(self):\n",
    "        print(\"이름 : \" , self.name , end = '  ')\n",
    "        print(', 나이 : ', self.age , end = '  ' )\n",
    "        print(', 키 : ', self.height, end = '  ')\n",
    "        print(', 몸무게 : ', self.weight, end = '  ' )\n",
    "        print()\n",
    "\n",
    "    \n",
    "pa = Person2()\n",
    "    \n",
    "    \n"
   ]
  },
  {
   "cell_type": "code",
   "execution_count": null,
   "metadata": {},
   "outputs": [],
   "source": [
    "강사님 정리\n",
    "Person 클래스 생성\n",
    "- 속성값 줄 수 있음\n",
    "def function 정의(   )\n",
    "\n",
    "Person <- this (파이썬에선 self)\n",
    "\n",
    "\n",
    "def function (self) : \n",
    "**현재 객체에 주소값을 가지고 정의해야 한다.\n",
    "\n",
    "\n",
    "init를 사용했을 경우\n",
    "def __init__(self)\n",
    "\n",
    "어떻게 __init__가 생성이 됐는가?\n",
    "\n",
    "\n",
    "ex. self n = 10;\n",
    "Person클래스생성 \n",
    "-> 객체를 외부에서 new Person이 될 때야 비로소 생성됨.\n",
    "-> 필요한 인자값에 대해서는 None처리를 해야 함\n",
    "-> n이라는 값이 생성이 되는건 default 생성ㅈ를 생성할 때 된다. \n"
   ]
  },
  {
   "cell_type": "code",
   "execution_count": 117,
   "metadata": {},
   "outputs": [
    {
     "name": "stdout",
     "output_type": "stream",
     "text": [
      "['__class__', '__delattr__', '__dict__', '__dir__', '__doc__', '__eq__', '__format__', '__ge__', '__getattribute__', '__gt__', '__hash__', '__init__', '__init_subclass__', '__le__', '__lt__', '__module__', '__ne__', '__new__', '__reduce__', '__reduce_ex__', '__repr__', '__setattr__', '__sizeof__', '__str__', '__subclasshook__', '__weakref__', 'age', 'display', 'height', 'name', 'nation', 'weight']\n",
      "====================================================================================================\n",
      "['__class__', '__delattr__', '__dict__', '__dir__', '__doc__', '__eq__', '__format__', '__ge__', '__getattribute__', '__gt__', '__hash__', '__init__', '__init_subclass__', '__le__', '__lt__', '__module__', '__ne__', '__new__', '__reduce__', '__reduce_ex__', '__repr__', '__setattr__', '__sizeof__', '__str__', '__subclasshook__', '__weakref__', 'age', 'display', 'height', 'name', 'weight']\n"
     ]
    }
   ],
   "source": [
    "p = Person()\n",
    "print(dir(p))\n",
    "print(\"=\"*100)\n",
    "p = Person2()\n",
    "print(dir(p))"
   ]
  },
  {
   "cell_type": "code",
   "execution_count": 118,
   "metadata": {},
   "outputs": [
    {
     "name": "stdout",
     "output_type": "stream",
     "text": [
      "['__class__', '__delattr__', '__dict__', '__dir__', '__doc__', '__eq__', '__format__', '__ge__', '__getattribute__', '__gt__', '__hash__', '__init__', '__init_subclass__', '__le__', '__lt__', '__module__', '__ne__', '__new__', '__reduce__', '__reduce_ex__', '__repr__', '__setattr__', '__sizeof__', '__str__', '__subclasshook__', '__weakref__', 'age', 'display', 'height', 'name', 'ttt', 'weight']\n",
      "\n",
      "이름 :  None  , 나이 :  None  , 키 :  0.0  , 몸무게 :  0.0  100\n",
      "\n",
      "이름 :  None  , 나이 :  None  , 키 :  0.0  , 몸무게 :  0.0  100\n",
      "\n",
      "['__bool__', '__class__', '__delattr__', '__dir__', '__doc__', '__eq__', '__format__', '__ge__', '__getattribute__', '__gt__', '__hash__', '__init__', '__init_subclass__', '__le__', '__lt__', '__ne__', '__new__', '__reduce__', '__reduce_ex__', '__repr__', '__setattr__', '__sizeof__', '__str__', '__subclasshook__']\n"
     ]
    }
   ],
   "source": [
    "class Person3:\n",
    "    #Properties\n",
    "    height = float()\n",
    "    weight = float()\n",
    "    def __init__(self,name=None,age=None,height=None,weight=None):\n",
    "        #self. 인스턴스 변수 = 지역변수\n",
    "        self.name=name\n",
    "        self.age=age\n",
    "        \n",
    "        #생성자에서 멤버로 등록한 변수값을 불러와서 사용할 함수 (Method)\n",
    "        #self하면 없던얘도 멤버에 잡힌다.\n",
    "        \n",
    "        #init == 초기화하는 역할임. 잘 써먹으세용\n",
    "        \n",
    "        \n",
    "        self.ttt = 10\n",
    "        \n",
    "        \n",
    "    def display(self):\n",
    "        #사용할때어야 사용\n",
    "        self.val = 100\n",
    "        print(\"이름 : \" , self.name , end = '  ')\n",
    "        print(', 나이 : ', self.age , end = '  ' )\n",
    "        print(', 키 : ', self.height, end = '  ')\n",
    "        print(', 몸무게 : ', self.weight, end = '  ' )\n",
    "        print(self.val)\n",
    "        print()\n",
    "\n",
    "p3 = Person3()\n",
    "print(dir(p3))\n",
    "print()\n",
    "p3.display()\n",
    "print(dir(p3.display()))"
   ]
  },
  {
   "cell_type": "code",
   "execution_count": 119,
   "metadata": {},
   "outputs": [
    {
     "name": "stdout",
     "output_type": "stream",
     "text": [
      "first 입력 : 5\n",
      "second 입력 : 5\n",
      "합계는 :  10\n",
      "곱셉은 :  25\n",
      "빼기는 :  0\n",
      "몫은 1.0 입니다.\n",
      "['__class__', '__delattr__', '__dict__', '__dir__', '__doc__', '__eq__', '__format__', '__ge__', '__getattribute__', '__gt__', '__hash__', '__init__', '__init_subclass__', '__le__', '__lt__', '__module__', '__ne__', '__new__', '__reduce__', '__reduce_ex__', '__repr__', '__setattr__', '__sizeof__', '__str__', '__subclasshook__', '__weakref__', 'addmethod', 'divmethod', 'mulmethod', 'submethod']\n"
     ]
    }
   ],
   "source": [
    "\n",
    "# 연습문제 : 사칙연산 기능이 있는 Class를 만드시오.\n",
    "\"\"\"\n",
    "first 입력 : 5\n",
    "second 입력 : 5\n",
    "<결과>\n",
    "add 10\n",
    "mul 25\n",
    "sub 0\n",
    "div 1.0\n",
    "\n",
    "\"\"\"\n",
    "\n",
    "class Calculate:\n",
    "    \n",
    "    def __init__(self, first = None, second = None):\n",
    "        self.first = first\n",
    "        self.second = second\n",
    "        \n",
    "    def addmethod(self,*args):\n",
    "        add_list = list(args)\n",
    "        result = sum(add_list)\n",
    "        return result\n",
    "    \n",
    "    def mulmethod(self,*args):\n",
    "        result = input_first * input_second\n",
    "        return result\n",
    "    \n",
    "    \n",
    "    def submethod(self,*args):\n",
    "        result = input_first - input_second\n",
    "        return result\n",
    "    \n",
    "    def divmethod(self,*args):\n",
    "        result = input_first / input_second\n",
    "        return result\n",
    "        \n",
    "first = input(\"first 입력 : \")\n",
    "input_first = int(first)\n",
    "\n",
    "second = input(\"second 입력 : \")\n",
    "input_second = int(second)\n",
    "        \n",
    "c1 = Calculate()\n",
    "print(\"합계는 : \",c1.addmethod(input_first, input_second))\n",
    "print(\"곱셉은 : \",c1.mulmethod(input_first, input_second))\n",
    "print(\"빼기는 : \",c1.submethod(input_first, input_second))\n",
    "print(\"몫은 %0.1f 입니다.\"%c1.divmethod(input_first, input_second))\n",
    "print(dir(Calculate))\n"
   ]
  },
  {
   "cell_type": "code",
   "execution_count": 122,
   "metadata": {},
   "outputs": [
    {
     "name": "stdout",
     "output_type": "stream",
     "text": [
      "name Xman\n",
      "num 10\n",
      "['_EncapsulationDemo__name', '_EncapsulationDemo__num', '__class__', '__delattr__', '__dict__', '__dir__', '__doc__', '__eq__', '__format__', '__ge__', '__getattribute__', '__gt__', '__hash__', '__init__', '__init_subclass__', '__le__', '__lt__', '__module__', '__ne__', '__new__', '__reduce__', '__reduce_ex__', '__repr__', '__setattr__', '__sizeof__', '__str__', '__subclasshook__', '__weakref__', 'myFunc', 'printData']\n",
      "man\n",
      "{'_EncapsulationDemo__name': 'Xman'}\n",
      "num 10\n"
     ]
    }
   ],
   "source": [
    "\n",
    "# 캡슐화 (encapsulation)\n",
    "# POJO개념으로 설명 : 상속도 아니고 생성자도 기본으로 쓰고 자원은 외부에서 접근이 불가능.\n",
    "# 자원 = 멤버필드 = SETTER, GETTER로 가능\n",
    "# 캡슐화 이유 : 정보를 은닉하겠다.\n",
    "\n",
    "class EncapsulationDemo :\n",
    "    #파이썬에서는 접근제한자 private가 없다.\n",
    "    __num = 10 ##인스턴스 속성임\n",
    "    #이렇게 하면 외부에서 접근이 안됨. 근데 private는 없다.\n",
    "    #클래스의 기본 속성에 포함이 된다.\n",
    "    #인스턴스 속성\n",
    "    \n",
    "    #Camelcase __ : static의 생성 없이 접근이 가능하다. 즉, static같은거다.\n",
    "    \n",
    "    def __init__(self,name):\n",
    "        self.__name = name ##인스턴스 속성임\n",
    "    def myFunc(self):\n",
    "        print(\"name\",self.__name)\n",
    "        ##외부에서 접근할 때 __ 쓰면 private개념.\n",
    "    def printData(self):\n",
    "        print(\"num\",self.__num)\n",
    "    \n",
    "ed = EncapsulationDemo(\"Xman\")\n",
    "#객체가 생성. 100번지를 ed가 가지고 있다. ed를 가지고 myFunc, printdata 호출. \n",
    "ed.myFunc()\n",
    "ed.printData()\n",
    "print(dir(ed))\n",
    "# 인스턴스 영역에 들어온 멤버 변수가 된다. \n",
    "\n",
    "print(ed.__dict__)    \n",
    "#이게 메모리에 올라온 주소임. \n",
    "#dict에서 나온 값이 Xman임.\n",
    "\n",
    "    \n",
    "ed.printData()"
   ]
  },
  {
   "cell_type": "code",
   "execution_count": null,
   "metadata": {},
   "outputs": [],
   "source": [
    "\n",
    "    ########################################\n",
    "    ########기존###########\n",
    "    class\n",
    "    num 생성\n",
    "    name 초기화\n",
    "    ----------------------\n",
    "    그 안에 operation들이 들어옴.\n",
    "    \n",
    "    \n",
    "    ####\n",
    "    \n",
    "    \n",
    "    Person3 인스턴스 2개, 3개 5개. (display + 1개)\n",
    "    \n",
    "    인스턴스영역에 height, weight가 들어옴\n",
    "    \n",
    "    "
   ]
  },
  {
   "cell_type": "code",
   "execution_count": 123,
   "metadata": {},
   "outputs": [
    {
     "name": "stdout",
     "output_type": "stream",
     "text": [
      "\n",
      "10\n",
      "\n",
      "TestMan\n",
      "\n",
      "['__class__', '__delattr__', '__dict__', '__dir__', '__doc__', '__eq__', '__format__', '__ge__', '__getattribute__', '__gt__', '__hash__', '__init__', '__init_subclass__', '__le__', '__lt__', '__module__', '__ne__', '__new__', '__reduce__', '__reduce_ex__', '__repr__', '__setattr__', '__sizeof__', '__str__', '__subclasshook__', '__weakref__', 'msg', 'num', 'printMyTest']\n",
      "\n",
      "10\n"
     ]
    }
   ],
   "source": [
    "class MyTestDemo:\n",
    "    num = 10\n",
    "    def __init__(self,msg):\n",
    "        self.msg=msg\n",
    "    def printMyTest(self):\n",
    "        print(\"num:\", self.num, \", msg\", self.msg)\n",
    "        #self를 하는 이유는 이 펑션에 지역변수가 아무것도 없음.\n",
    "#객체를 생성한 후의 주소를 aa가 기억.       \n",
    "\n",
    "aa = MyTestDemo(\"TestMan\")\n",
    "print()\n",
    "print(aa.num)\n",
    "print()\n",
    "print(aa.msg)\n",
    "print()\n",
    "\n",
    "\n",
    "\n",
    "\n",
    "print(dir(aa))\n",
    "##얘는 인스턴스 정보만 보여줌.\n",
    "\n",
    "\n",
    "\n",
    "print()\n",
    "\n",
    "\n",
    "print(MyTestDemo.num)\n",
    "\n",
    "\n",
    "##\n"
   ]
  },
  {
   "cell_type": "code",
   "execution_count": null,
   "metadata": {},
   "outputs": [],
   "source": [
    "클래스를 정의함.\n",
    "이 안에서 주소를 참조할 수 있는건 self\n",
    "모듈이 있고 클래스가 있고 인스턴스가 있음\n",
    "(이게 3개만 구분할 수 있으면 패스임)\n",
    "\n",
    "인스턴스는 MyTestDemo(\"Testman\")\n",
    "\n",
    "클래스에 멤버 \": num\"\n",
    "근데 객체 생성하면서 클래스에 멤버는 num, msg\n",
    "\n",
    "\n",
    "클래스에 생성이 됐을 때 자원이 접근할 수 있는 개념이 static개념임\n",
    "print(MyTestDemo.num) << 이게 바로 스태틱임\n",
    "\n",
    "msg는 스태틱이 아니고 인스턴스 변수임.\n"
   ]
  },
  {
   "cell_type": "code",
   "execution_count": null,
   "metadata": {},
   "outputs": [],
   "source": [
    "class MyTestDemo2:\n",
    "    num = 10\n",
    "    def __init__(self,msg):\n",
    "        self.msg=msg\n",
    "    def printMyTest(self):\n",
    "        print(\"num:\", self.num, \", msg\", self.msg)\n",
    "        #self를 하는 이유는 이 펑션에 지역변수가 아무것도 없음.\n",
    "        #객체를 생성한 후의 주소를 aa가 기억.       \n",
    "        #생성된 이후의 멤버  변수나 메서드를 사용할 수 있다.\n",
    "print()\n",
    "\n",
    "\n",
    "#클래스로 접근한 값 - 생성되기 전에 접근이 가능하다. num = 10\n",
    "print(MyTestDemo2.num) #접근이 불가능하다.\n",
    "##이게 스태틱임~~~\n"
   ]
  },
  {
   "cell_type": "code",
   "execution_count": null,
   "metadata": {},
   "outputs": [],
   "source": [
    "################################\n"
   ]
  },
  {
   "cell_type": "code",
   "execution_count": null,
   "metadata": {},
   "outputs": [],
   "source": [
    "\n",
    "class EncapsulationDemo :\n",
    "    __num = 10 ##인스턴스 속성임\n",
    "    \n",
    "    def __init__(self,name):\n",
    "        self.__name = name ##인스턴스 속성임\n",
    "    def myFunc(self):\n",
    "        print(\"name\",self.__name)\n",
    "    def printData(self):\n",
    "        print(\"num\",self.__num)\n",
    "    \n",
    "    \n",
    "# 클래스를 생성한다는 의미는 인스턴스로 생성해서 사용하겠다는 의미임.\n",
    "ed = EncapsulationDemo(\"Xman\")\n",
    "# 이 레퍼런스를 가지고 사용하는거임.\n",
    "\n",
    "ed.myFunc()\n",
    "ed.printData()\n",
    "\n",
    "print(dir(ed))\n",
    "print(ed.__dict__)    \n",
    "\n",
    "ed.__num = 30\n",
    "print(\"ed_num 30 저장 후 출력\")\n",
    "ed.printData()\n",
    "#이건 클래스에서 호출\n",
    "print()\n",
    "print(ed.__dict__)\n",
    "# 여기서 30이 클래스 dig\n",
    "#EncapsulationDemo 클래스영억\n",
    "print()\n",
    "print()\n",
    "\n",
    "print(dir(ed))\n",
    "#인스턴스영역\n",
    "\n",
    "print()\n",
    "print()\n",
    "print(dir(EncapsulationDemo))"
   ]
  },
  {
   "cell_type": "code",
   "execution_count": null,
   "metadata": {},
   "outputs": [],
   "source": []
  },
  {
   "cell_type": "code",
   "execution_count": null,
   "metadata": {},
   "outputs": [],
   "source": [
    "다시설명\n",
    "\n",
    "__Name = 10 << 클래스영역 static영역 (생성 없이도 사용)\n",
    "\n",
    "def putNmae(self, n):\n",
    "    self.n = n (인스턴스영역 <- 생성할 때 사용 가능)\n",
    "    self.n = __n (인스턴스. )\n",
    "    \n",
    "    파이썬은 컴파일 단계가 없음. 컴파일 에러가 인터프린터 단계에서 에러가 난다는 의미임. \n",
    "    self.n = n << \n",
    "    낙타영역 : 클래스영역\n",
    "        \n",
    "        \n",
    "        \n",
    "\n",
    "[객체와 인스턴스의 차이]\n",
    "\n",
    "클래스에 의해서 만들어진 객체를 인스턴스라고도 한다. \n",
    "그렇다면 객체와 인스턴스의 차이는 무엇일까? \n",
    "\n",
    "이렇게 생각해 보자. \n",
    "\n",
    "a = Cookie() 이렇게 만들어진 a는 객체이다. \n",
    "그리고 a라는 객체는 Cookie의 인스턴스이다.\n",
    "즉, 인스턴스라는 말은 특정 객체(a)가 어떤 클래스(Cookie)의 객체인지를 관계 위주로 설명할 때 사용된다. \n",
    "즉, \"a는 인스턴스\" 보다는 \"a는 객체\"라는 표현이 어울리며, \n",
    "\"a는 Cookie의 객체\" 보다는 \"a는 Cookie의 인스턴스\"라는 표현이 훨씬 잘 어울린다."
   ]
  },
  {
   "cell_type": "code",
   "execution_count": null,
   "metadata": {},
   "outputs": [],
   "source": []
  },
  {
   "cell_type": "code",
   "execution_count": null,
   "metadata": {},
   "outputs": [],
   "source": []
  },
  {
   "cell_type": "code",
   "execution_count": null,
   "metadata": {},
   "outputs": [],
   "source": []
  },
  {
   "cell_type": "code",
   "execution_count": null,
   "metadata": {},
   "outputs": [],
   "source": [
    "#연습문제 - 다름 아래의 속성을 private로 만들고 stter / getter를 정의해서 사용하시오\n",
    "#나라 (country)\n",
    "#사용자 (name)\n",
    "#가격(age)\n",
    "\n",
    "class EncapsulExam:\n",
    "    msg='hi'\n",
    "    def setName(self,name):\n",
    "        self.name = name\n",
    "    def setCountry(self,country):\n",
    "        self.__country = country\n",
    "    def getCountry(self):\n",
    "        return self.__country, self.name\n",
    "    \n",
    "ref = EncapsulExam()\n",
    "ref.setCountry('한국')\n",
    "ref.setName('xman')\n",
    "print(ref.getCountry())\n",
    "print(\"==\"*50)\n",
    "print(dir(ref))\n",
    "print('=='*50)\n",
    "#print(ref.country)\n",
    "print(ref.getCountry())\n",
    "\n",
    "print(ref.msg)\n",
    "print(ref.name)\n",
    "\n",
    "\n",
    "print('=='*50)\n",
    "print(dir(ref))\n",
    "print('=='*50)\n",
    "##클래스의 속성을 삭제\n",
    "del EncapsulExam.msg\n",
    "print(EncapsulExam.msg)\n"
   ]
  },
  {
   "cell_type": "code",
   "execution_count": null,
   "metadata": {},
   "outputs": [],
   "source": [
    "del ref.msg\n",
    " -> 클래스의 속성도 삭제 할 수 잇고, 인스턴스에 올라와있는 속성도 제거할 수 있따.\n",
    " -> 에러나는데 이거 self.msg하면 삭제가능\n",
    " -> 결론 : del은 클래스 영역과 인스턴스 영역을 구분할 수 있다.\n",
    "    del은 클래스 영역 뿐만 아니라 인스턴스 영역도 삭제를 하는 명령어이다.\n",
    "    \n",
    "del : del은 소멸자. 객체가 삭제 될 때 호출이 되는 메서드가 destroy가 있따. \n",
    "    클래스 자체의 라이프사이클중에서 초기화 된 값이 있따면 delete할 때 마무리할때 써도 된다.\n",
    "    "
   ]
  },
  {
   "cell_type": "code",
   "execution_count": null,
   "metadata": {},
   "outputs": [],
   "source": [
    "# del ref.name\n",
    "# 가능~~~\n",
    "#인스턴스 영역에 선언한 name을 삭제 후 출력해보기\n",
    "print(ref.msg)\n",
    "# print(ref.name) <- 출력안됨\n",
    "\n"
   ]
  },
  {
   "cell_type": "code",
   "execution_count": null,
   "metadata": {},
   "outputs": [],
   "source": [
    "class DelDemo :\n",
    "    def __init__(self, first=None, second=None):\n",
    "        self.first = first\n",
    "        self.second = second\n",
    "        print(\"생성자 호출\")\n",
    "    def __del__(self):\n",
    "        print(\"소멸자 호출\")\n",
    "#         ref = DelDemo() #좀비\n",
    "    def mytest(self):\n",
    "        print(self.first + self.second)\n",
    "\n",
    "        \n",
    "        \n",
    "        \n",
    "d1 = DelDemo(10,10)\n",
    "d1.mytest()\n",
    "#인스턴스 객체의 자원\n",
    "print(d1.__dict__)\n",
    "print(\"=\"*50)\n",
    "\n",
    "#클래스 내의 자원\n",
    "print(DelDemo.__dict__)\n",
    "# 현재 객체의 주소를 삭제\n",
    "del d1"
   ]
  },
  {
   "cell_type": "code",
   "execution_count": 19,
   "metadata": {},
   "outputs": [
    {
     "name": "stdout",
     "output_type": "stream",
     "text": [
      "first 입력 : 5\n",
      "second 입력 : 5\n",
      "합계는 :  10\n",
      "곱셉은 :  25\n",
      "빼기는 :  0\n",
      "몫은 1.0 입니다.\n",
      "['__class__', '__delattr__', '__dict__', '__dir__', '__doc__', '__eq__', '__format__', '__ge__', '__getattribute__', '__gt__', '__hash__', '__init__', '__init_subclass__', '__le__', '__lt__', '__module__', '__ne__', '__new__', '__reduce__', '__reduce_ex__', '__repr__', '__setattr__', '__sizeof__', '__str__', '__subclasshook__', '__weakref__', 'addmethod', 'divmethod', 'mulmethod', 'submethod']\n"
     ]
    }
   ],
   "source": [
    "\n",
    "# # 연습문제 : 사칙연산 기능이 있는 Class를 만드시오.\n",
    "# \"\"\"\n",
    "# first 입력 : 5\n",
    "# second 입력 : 5\n",
    "# <결과>\n",
    "# add 10\n",
    "# mul 25\n",
    "# sub 0\n",
    "# div 1.0\n",
    "\n",
    "# \"\"\"\n",
    "\n",
    "class Calculate:\n",
    "    \n",
    "    def __init__(self, first = None, second = None):\n",
    "        self.first = first\n",
    "        self.second = second\n",
    "        \n",
    "    def addmethod(self,*args):\n",
    "        add_list = list(args)\n",
    "        result = sum(add_list)\n",
    "        return result\n",
    "    \n",
    "    def mulmethod(self,*args):\n",
    "        result = input_first * input_second\n",
    "        return result\n",
    "    \n",
    "    \n",
    "    def submethod(self,*args):\n",
    "        result = input_first - input_second\n",
    "        return result\n",
    "    \n",
    "    def divmethod(self,*args):\n",
    "        result = input_first / input_second\n",
    "        return result\n",
    "        \n",
    "first = input(\"first 입력 : \")\n",
    "input_first = int(first)\n",
    "\n",
    "second = input(\"second 입력 : \")\n",
    "input_second = int(second)\n",
    "        \n",
    "c1 = Calculate()\n",
    "print(\"합계는 : \",c1.addmethod(input_first, input_second))\n",
    "print(\"곱셉은 : \",c1.mulmethod(input_first, input_second))\n",
    "print(\"빼기는 : \",c1.submethod(input_first, input_second))\n",
    "print(\"몫은 %0.1f 입니다.\"%c1.divmethod(input_first, input_second))\n",
    "print(dir(Calculate))"
   ]
  },
  {
   "cell_type": "code",
   "execution_count": 15,
   "metadata": {},
   "outputs": [],
   "source": [
    "class cal:\n",
    "    \n",
    "    def __init__(self,first=None,second=None):\n",
    "        self.first = first\n",
    "        self.second = second\n",
    "        \n",
    "    def add(self):\n",
    "        return self.first+self.second\n",
    "    \n",
    "    def mul(self):\n",
    "        return self.first*self.second\n",
    "    \n",
    "    def sub(self):\n",
    "        return self.first-self.second\n",
    "    \n",
    "    def div(self):\n",
    "        return self.first/self.second"
   ]
  },
  {
   "cell_type": "code",
   "execution_count": 29,
   "metadata": {},
   "outputs": [
    {
     "name": "stdout",
     "output_type": "stream",
     "text": [
      "first :5\n",
      "second : 5\n",
      "sum : 20\n",
      "poe :  3125\n"
     ]
    }
   ],
   "source": [
    "## 클래스 상속\n",
    "# class 클래스명 (쌍속할 부모클래스명) <- extends\n",
    "class Calc2(cal):\n",
    "    #메소드 오버라이딩 : 부모의 메서드를 자식이 재정의 하는 개념\n",
    "    def add(self):\n",
    "        return self.first + self.second + 10\n",
    "    \n",
    "    def pow(self):\n",
    "        result =  self.first ** self.second\n",
    "        return result\n",
    "\n",
    "first = input(\"first :\")\n",
    "second = input(\"second : \")\n",
    "#자식 클래스를 생성한다.\n",
    "\n",
    "a = Calc2(int(first), int(second))\n",
    "print(\"sum :\" , a.add())\n",
    "print(\"poe : \", a.pow())"
   ]
  },
  {
   "cell_type": "code",
   "execution_count": null,
   "metadata": {},
   "outputs": [],
   "source": [
    "# 부모의 클래스에서 div 경우에는 0이 들어오면 오류가 난다.\n",
    "# 분모에 0이 올 경우 0을 리턴하는 기능을 갖춘 형태로 오버라이딩을 구현하시오\n",
    "# Calc3"
   ]
  },
  {
   "cell_type": "code",
   "execution_count": 48,
   "metadata": {},
   "outputs": [
    {
     "name": "stdout",
     "output_type": "stream",
     "text": [
      "first :1\n",
      "second : 0\n",
      "sum : 11\n",
      "poe :  1\n",
      "div :  0\n"
     ]
    }
   ],
   "source": [
    "class Calc3(Calc2):\n",
    "    #메소드 오버라이딩 : 부모의 메서드를 자식이 재정의 하는 개념\n",
    "    def add(self):\n",
    "        return self.first + self.second + 10\n",
    "    \n",
    "    #################\n",
    "    ## 오버라이딩 ##\n",
    "    def div(self):\n",
    "        if((self.second)==0 or (self.first)==0):\n",
    "            return 0\n",
    "        else:\n",
    "            return self.first/self.second\n",
    "    def pow(self):\n",
    "        result =  self.first ** self.second\n",
    "        return result\n",
    "first = input(\"first :\")\n",
    "second = input(\"second : \")\n",
    "#자식 클래스를 생성한다.\n",
    "\n",
    "a = Calc3(int(first), int(second))\n",
    "print(\"sum :\" , a.add())\n",
    "print(\"poe : \", a.pow())\n",
    "print(\"div : \", a.div())"
   ]
  },
  {
   "cell_type": "code",
   "execution_count": null,
   "metadata": {},
   "outputs": [],
   "source": []
  },
  {
   "cell_type": "code",
   "execution_count": 53,
   "metadata": {},
   "outputs": [
    {
     "name": "stdout",
     "output_type": "stream",
     "text": [
      "2\n",
      "2\n"
     ]
    }
   ],
   "source": [
    "## 부모의 주소 super\n",
    "\n",
    "\n",
    "class Parent:\n",
    "    _one=2\n",
    "    def __init__(self,one):\n",
    "        self._one = one\n",
    "\n",
    "        \n",
    "class Child(Parent):\n",
    "    def __init__(self):\n",
    "#         super().__init__(1)\n",
    "        #super().__init__() 부모의 정의된 생성자 호출\n",
    "        \n",
    "        self._child = 2\n",
    "    def childMethod(self):\n",
    "        print(self._one)\n",
    "        print(self._child)\n",
    "        \n",
    "ch = Child()\n",
    "ch.childMethod()\n"
   ]
  },
  {
   "cell_type": "code",
   "execution_count": null,
   "metadata": {},
   "outputs": [],
   "source": []
  },
  {
   "cell_type": "code",
   "execution_count": null,
   "metadata": {},
   "outputs": [],
   "source": []
  },
  {
   "cell_type": "code",
   "execution_count": 76,
   "metadata": {},
   "outputs": [
    {
     "name": "stdout",
     "output_type": "stream",
     "text": [
      "전화 기능\n",
      "열기기능\n",
      "카메라 찍기 기능\n",
      "App기능\n",
      "\n",
      "카메라 찍기 기능\n"
     ]
    }
   ],
   "source": [
    "# 상속 복습\n",
    "class Phone:\n",
    "    def call(self):\n",
    "        print(\"전화 기능\")\n",
    "        \n",
    "\n",
    "class FolderPhone(Phone):\n",
    "    def call(self):\n",
    "        print(\"열기기능\")\n",
    "        \n",
    "        \n",
    "class CameraPhone(Phone):\n",
    "    def call(self):\n",
    "        print(\"카메라 찍기 기능\")\n",
    "\n",
    "class SmartPhone(Phone):\n",
    "    def call(self):\n",
    "        print(\"App기능\")\n",
    "# 폴더폰, 카메라폰, 스마트폰\n",
    "\n",
    "ph = Phone()\n",
    "# ph.CameraPhone(picture)\n",
    "\n",
    "ph.call()\n",
    "\n",
    "\n",
    "listv = [FolderPhone(), CameraPhone(), SmartPhone()]\n",
    "for e in listv:\n",
    "    e.call()\n",
    "    \n",
    "print()\n",
    "CameraPhone().call()"
   ]
  },
  {
   "cell_type": "code",
   "execution_count": 77,
   "metadata": {},
   "outputs": [
    {
     "ename": "SyntaxError",
     "evalue": "invalid syntax (<ipython-input-77-d576235be821>, line 2)",
     "output_type": "error",
     "traceback": [
      "\u001b[1;36m  File \u001b[1;32m\"<ipython-input-77-d576235be821>\"\u001b[1;36m, line \u001b[1;32m2\u001b[0m\n\u001b[1;33m    abc 안에 ABCMeta < abstract 상속\u001b[0m\n\u001b[1;37m         ^\u001b[0m\n\u001b[1;31mSyntaxError\u001b[0m\u001b[1;31m:\u001b[0m invalid syntax\n"
     ]
    }
   ],
   "source": [
    "\n",
    "abc 안에 ABCMeta < abstract 상속\n",
    "\n"
   ]
  },
  {
   "cell_type": "code",
   "execution_count": 87,
   "metadata": {},
   "outputs": [
    {
     "name": "stdout",
     "output_type": "stream",
     "text": [
      "test\n",
      "재정의한 메서드\n"
     ]
    }
   ],
   "source": [
    "\n",
    "from abc import ABCMeta,abstractmethod\n",
    "#Abstrace Base Class\n",
    "\n",
    "class AbstraceDemo(metaclass = ABCMeta):\n",
    "    def __init__(self):\n",
    "        self.point = 100\n",
    "        self.name = 'xman'\n",
    "    def printTest(self):\n",
    "        print(self.point, self.name)\n",
    "    @abstractmethod\n",
    "    def getMessage(self):\n",
    "        pass\n",
    "    \n",
    "    \n",
    "\n",
    "    #  추상메서드\n",
    "    #  추상 메서드와 추상 클래스를 만들 수 있기 때문에 자바에서의 멋진 클래스들을 가지고 이용할 수 있다.\n",
    "    ##########\n",
    "    # 1. 추상클래스 (추상메서드를 가진 클래스) = new로 생성할 수 없다. \n",
    "    # 2. 사용법 : 추상클래스는 자식을 통해서 상속으로 생성될 수 밖에없다.\n",
    "    # 파이썬도 똑같다. 상속을 해야 한다. \n",
    "    # 3. abstractmethod : 어노테이션을 이렇게 주면 추상 메서드로 된다.4\n",
    "    # 4. implement같은거 탭으로 추천해주진 않는다. \n",
    "    \n",
    "\n",
    "#테스트 코드\n",
    "# a = AbstraceDemo()\n",
    "#  TypeError: Can't instantiate abstract class AbstraceDemo with abstract methods getMessage\n",
    "\n",
    "\n",
    "class MyTestDemo1(AbstraceDemo):\n",
    "    def myMessage(self):\n",
    "        print(\"test\")\n",
    "    #추상메서드를 가진 클래스를 상속했으면 추상메서들 재정의 해야한다.\n",
    "    def getMessage(self):\n",
    "        print(\"재정의한 메서드\")\n",
    "ref = MyTestDemo1()\n",
    "ref.myMessage()\n",
    "ref.getMessage()"
   ]
  },
  {
   "cell_type": "code",
   "execution_count": 124,
   "metadata": {},
   "outputs": [
    {
     "name": "stdout",
     "output_type": "stream",
     "text": [
      "test\n",
      "one :  1\n",
      "two :  2\n",
      "three :  3\n",
      "One 1\n"
     ]
    }
   ],
   "source": [
    "\n",
    "#다중 상속\n",
    "class PrentOne:\n",
    "    def __init__(self):\n",
    "        self._one = 1\n",
    "\n",
    "class ParentTwo:\n",
    "    def __init__(self):\n",
    "        self._two = 2\n",
    "\n",
    "#다중 상속을 구현한 자식클래스\n",
    "class Child(PrentOne, ParentTwo):\n",
    "    def __init__(self):\n",
    "#         super().__init__()\n",
    "        print(\"test\")\n",
    "        #부모의 주소.__init__(self)\n",
    "        PrentOne.__init__(self)\n",
    "        ParentTwo.__init__(self)\n",
    "        self._three = 3\n",
    "        #super().__init__()\n",
    "    def display(self):\n",
    "        print(\"one : \",self._one)\n",
    "        print(\"two : \",self._two)\n",
    "        print(\"three : \" ,self._three)\n",
    "#         print(\"two : \".self._two)\n",
    "    def display2(self):\n",
    "        return self._one, self._two, self._three\n",
    "chr = Child()\n",
    "chr.display()\n",
    "chr.display2()\n",
    "\n",
    "one, two, three = chr.display2()\n",
    "print(\"One\",one)\n",
    "\n",
    "#다중상속에 부모가 하나이상일때는 14번째 라인처럼 호출하면 안됨."
   ]
  },
  {
   "cell_type": "code",
   "execution_count": null,
   "metadata": {},
   "outputs": [],
   "source": []
  },
  {
   "cell_type": "code",
   "execution_count": 126,
   "metadata": {},
   "outputs": [
    {
     "name": "stdout",
     "output_type": "stream",
     "text": [
      "(1, 2, 3)\n"
     ]
    }
   ],
   "source": [
    "\n",
    "print(_)"
   ]
  }
 ],
 "metadata": {
  "kernelspec": {
   "display_name": "Python 3",
   "language": "python",
   "name": "python3"
  },
  "language_info": {
   "codemirror_mode": {
    "name": "ipython",
    "version": 3
   },
   "file_extension": ".py",
   "mimetype": "text/x-python",
   "name": "python",
   "nbconvert_exporter": "python",
   "pygments_lexer": "ipython3",
   "version": "3.7.1"
  }
 },
 "nbformat": 4,
 "nbformat_minor": 2
}
