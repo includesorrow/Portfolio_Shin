{
 "cells": [
  {
   "cell_type": "code",
   "execution_count": null,
   "metadata": {},
   "outputs": [],
   "source": [
    "# 딕셔너리 자료형\n",
    "# key와 value를 한 쌍으로 갖는 자료형(자바의 map이랑 비슷함)\n",
    "# {key : value}\n",
    "a = {1 : 'a'}\n",
    "\n",
    "a[2]=\"b\"\n",
    "print(a)\n",
    "\n"
   ]
  },
  {
   "cell_type": "code",
   "execution_count": 2,
   "metadata": {},
   "outputs": [
    {
     "name": "stdout",
     "output_type": "stream",
     "text": [
      "김길동\n",
      "김길동\n",
      "01022231113\n",
      "01022231113\n",
      "990123\n",
      "990123\n"
     ]
    }
   ],
   "source": [
    "a = {'name' : '김길동', 'phone' : '01022231113', 'birth' : '990123'}\n",
    "print(a['name'])\n",
    "print(a.get('name'))\n",
    "print(a['phone'])\n",
    "print(a.get('phone'))\n",
    "print(a['birth'])\n",
    "print(a.get('birth'))"
   ]
  },
  {
   "cell_type": "code",
   "execution_count": 3,
   "metadata": {},
   "outputs": [
    {
     "name": "stdout",
     "output_type": "stream",
     "text": [
      "True\n",
      "False\n",
      "True\n",
      "True\n"
     ]
    }
   ],
   "source": [
    "# 해당 key가 딕셔너리 안에 있는지 조사하기(in)\n",
    "a = {'name' : '김길동', 'phone' : '01022231113', 'birth' : '990123'}\n",
    "b = 'name' in a\n",
    "print(b)\n",
    "b = 'email' in a\n",
    "print(b)\n",
    "b = 'births' not in a\n",
    "print(b)\n",
    "\n",
    "b = 'name' in a.keys()\n",
    "print(b)\n",
    "\n",
    "\n"
   ]
  },
  {
   "cell_type": "code",
   "execution_count": null,
   "metadata": {},
   "outputs": [],
   "source": [
    "a.values()"
   ]
  },
  {
   "cell_type": "code",
   "execution_count": null,
   "metadata": {},
   "outputs": [],
   "source": [
    "a.keys()"
   ]
  },
  {
   "cell_type": "code",
   "execution_count": null,
   "metadata": {},
   "outputs": [],
   "source": [
    "#a.clear()\n",
    "## a.clear()  < - 안에 있는 구성요소들을 전부 제거"
   ]
  },
  {
   "cell_type": "code",
   "execution_count": null,
   "metadata": {},
   "outputs": [],
   "source": [
    "#print(a)"
   ]
  },
  {
   "cell_type": "code",
   "execution_count": 40,
   "metadata": {},
   "outputs": [
    {
     "name": "stdout",
     "output_type": "stream",
     "text": [
      "dict_keys(['name', 'phone', 'birth'])\n",
      "dict_values(['김길동', '01022231113', '990123'])\n",
      "dict_items([('name', '김길동'), ('phone', '01022231113'), ('birth', '990123')])\n",
      "김길동\n",
      "01022231113\n",
      "990123\n"
     ]
    }
   ],
   "source": [
    "val = a.values()\n",
    "print(a.keys())\n",
    "print(a.values())\n",
    "print(a.items())\n",
    "\n",
    "print(a.get('name'))\n",
    "print(a.get('phone'))\n",
    "print(a.get('birth'))\n",
    "\n"
   ]
  },
  {
   "cell_type": "code",
   "execution_count": 25,
   "metadata": {},
   "outputs": [
    {
     "name": "stdout",
     "output_type": "stream",
     "text": [
      "김길동\n",
      "01022231113\n",
      "990123\n"
     ]
    }
   ],
   "source": [
    "for e in a.values():\n",
    "    print(e)"
   ]
  },
  {
   "cell_type": "code",
   "execution_count": 39,
   "metadata": {},
   "outputs": [
    {
     "name": "stdout",
     "output_type": "stream",
     "text": [
      "dict_keys(['name', 'phone', 'birth'])\n",
      "dict_values(['김길동', '01022231113', '990123'])\n",
      "dict_keys(['name', 'phone', 'birth'])\n"
     ]
    },
    {
     "data": {
      "text/plain": [
       "'name/phone/birth'"
      ]
     },
     "execution_count": 39,
     "metadata": {},
     "output_type": "execute_result"
    }
   ],
   "source": [
    "print(a.keys())\n",
    "print(a.values())\n",
    "\n",
    "kv = list()\n",
    "kv = a.keys()\n",
    "\n",
    "print(kv)\n",
    "kv = [ a for a in a.keys()]\n",
    "\n",
    "\"/\".join(kv)\n",
    "\n"
   ]
  },
  {
   "cell_type": "code",
   "execution_count": null,
   "metadata": {},
   "outputs": [],
   "source": []
  }
 ],
 "metadata": {
  "kernelspec": {
   "display_name": "Python 3",
   "language": "python",
   "name": "python3"
  },
  "language_info": {
   "codemirror_mode": {
    "name": "ipython",
    "version": 3
   },
   "file_extension": ".py",
   "mimetype": "text/x-python",
   "name": "python",
   "nbconvert_exporter": "python",
   "pygments_lexer": "ipython3",
   "version": "3.7.1"
  }
 },
 "nbformat": 4,
 "nbformat_minor": 2
}
