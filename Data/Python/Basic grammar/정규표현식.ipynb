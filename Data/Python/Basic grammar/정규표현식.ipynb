{
 "cells": [
  {
   "cell_type": "code",
   "execution_count": 9,
   "metadata": {},
   "outputs": [
    {
     "name": "stdout",
     "output_type": "stream",
     "text": [
      "['k', 'k', 'k']\n",
      "['kk']\n",
      "['m']\n",
      "[' ', ' ', ' ', ' ']\n"
     ]
    }
   ],
   "source": [
    "#정규표현식\n",
    "\n",
    "\n",
    "import re\n",
    "str = \"My id number is kkk0022\"\n",
    "# findall (\"패턴\", 문자열) : 문자열에서 해당 패턴에 맞는 내용을 찾아서 리턴\n",
    "a = re.findall(\"k\",str)\n",
    "\n",
    "print(a)\n",
    "a = re.findall(\"kk\",str)\n",
    "print(a)\n",
    "\n",
    "a = re.findall('m',str)\n",
    "print(a)\n",
    "\n",
    "\n",
    "a = re.findall(' ',str)\n",
    "print(a)"
   ]
  },
  {
   "cell_type": "code",
   "execution_count": 18,
   "metadata": {},
   "outputs": [
    {
     "name": "stdout",
     "output_type": "stream",
     "text": [
      "['y', 'i', 'd', 'u', 'm', 'v', 'e', 'r', 'i', 's']\n",
      "['M', 'N', 'K', 'K', 'M']\n",
      "['0', '0', '2', '2']\n",
      "['M', 'y', 'i', 'd', 'N', 'u', 'm', 'v', 'e', 'r', 'i', 's', 'K', 'K', 'M']\n",
      "['y', 'id', 'umver', 'is']\n",
      "['M', 'N', 'KKM']\n"
     ]
    }
   ],
   "source": [
    "str = \"My id Numver is KKM0022\"\n",
    "# 소문자만\n",
    "a = re.findall(\"[a-z]\",str)\n",
    "print(a)\n",
    "\n",
    "# 대문자만\n",
    "a = re.findall(\"[A-Z]\",str)\n",
    "print(a)\n",
    "\n",
    "# 숫자만\n",
    "a = re.findall(\"[0-9]\",str)\n",
    "print(a)\n",
    "\n",
    "#알파벳 (개인적인 테스트)\n",
    "a = re.findall(\"[A-z]\",str)\n",
    "print(a)\n",
    "\n",
    "# 단어 단위로 \n",
    "a = re.findall(\"[a-z]+\",str)\n",
    "print(a)\n",
    "\n",
    "# 대문자를 글자 단위로\n",
    "a = re.findall(\"[A-Z]+\",str)\n",
    "print(a)\n",
    "\n"
   ]
  },
  {
   "cell_type": "code",
   "execution_count": 63,
   "metadata": {},
   "outputs": [
    {
     "name": "stdout",
     "output_type": "stream",
     "text": [
      "['y', 'id', 'umver', 'is']\n",
      "['My', 'id', 'Numver', 'is', 'KKM0022']\n",
      "[' ', ' ', ' ', ' ', '$%']\n",
      "['My', 'id', 'Numver', 'is', 'KKM0022']\n",
      "[' ', ' ', ' ', ' ', '$%']\n",
      "5\n",
      "['My', 'id', 'Numver', 'is', 'KKM0022']\n",
      "['$%']\n"
     ]
    },
    {
     "data": {
      "text/plain": [
       "2"
      ]
     },
     "execution_count": 63,
     "metadata": {},
     "output_type": "execute_result"
    }
   ],
   "source": [
    "str1 = \"My id Numver is KKM0022$%\"\n",
    "\n",
    "a = re.findall((\"[a-z]+\" or \"[0-9]\"), str1 )\n",
    "print(a)\n",
    "\n",
    "## 강사님꺼 정답\n",
    "\n",
    "a = re.findall(\"[a-zA-Z0-9]+\",str)\n",
    "print(a)\n",
    "# ^ => not, 영문자 숫자가 아닐 경우\n",
    "a = re.findall(\"[^a-zA-Z0-9]+\",str)\n",
    "print(a)\n",
    "\n",
    "# Ww : 영문자  , 숫자....\n",
    "a = re.findall(\"[\\w]+\",str)\n",
    "print(a)\n",
    "\n",
    "\n",
    "a = re.findall(\"[^\\w]+\",str)\n",
    "print(a)\n",
    "print(len(a))\n",
    "\n",
    "\n",
    "# WW : [^Ww] : 영문자, 숫자, _가 아닌 경우\n",
    "a = re.findall(\"[\\w]+\",str)\n",
    "print(a)\n",
    "\n",
    "\n",
    "\n",
    "\n",
    "str2 = \"KKM0022$%\"\n",
    "aaa = re.findall(\"[^\\w]+\",str2)\n",
    "print(aaa)\n",
    "len(aaa[0])"
   ]
  },
  {
   "cell_type": "code",
   "execution_count": null,
   "metadata": {},
   "outputs": [],
   "source": [
    "\n",
    "\n"
   ]
  },
  {
   "cell_type": "code",
   "execution_count": 76,
   "metadata": {},
   "outputs": [
    {
     "name": "stdout",
     "output_type": "stream",
     "text": [
      "영어나 숫자만 가능합니다\n",
      "['%']\n"
     ]
    },
    {
     "data": {
      "text/plain": [
       "1"
      ]
     },
     "execution_count": 76,
     "metadata": {},
     "output_type": "execute_result"
    }
   ],
   "source": [
    "import re\n",
    "def pwd_check(pwd):\n",
    "    if len(pwd) < 6 or len(pwd) > 12:\n",
    "        print(pwd,'의 길이가 적당하지 않습니다.')\n",
    "        return False\n",
    "    else:\n",
    "        if len((re.findall(\"[^\\w]+\",pwd))[0]) >0 :\n",
    "            print(\"영어나 숫자만 가능합니다\")\n",
    "        else:\n",
    "            print(\"정상입니다.\")\n",
    "    # 숫자와 영문자로만 구성이 됩니다. 필터링기능\n",
    "    \n",
    "    \n",
    "pwd_check(\"%s_adfaddf\")\n",
    "\n",
    "str3 = \"%s_adfaddf\"\n",
    "aaa = re.findall(\"[^\\w]+\",str3)\n",
    "print(aaa)\n",
    "len(aaa[0])"
   ]
  },
  {
   "cell_type": "code",
   "execution_count": 89,
   "metadata": {},
   "outputs": [
    {
     "name": "stdout",
     "output_type": "stream",
     "text": [
      "['123213a2A32']\n"
     ]
    }
   ],
   "source": [
    "\n",
    "############강사님정답##############\n",
    "import re\n",
    "def pwd_check(pwd):\n",
    "    if len(pwd) < 6 or len(pwd) > 12:\n",
    "        print(pwd,'의 길이가 적당하지 않습니다.')\n",
    "        return False\n",
    "    print(re.findall('[a-zA-Z0-9]+',pwd))\n",
    "    \n",
    "    if re.findall('[a-zA-Z0-9]+',pwd)[0] !=pwd:\n",
    "        print(pwd,'=>>숫자와 영문자로만 구성이 됩니다.')\n",
    "        return False\n",
    "    \n",
    "    #대문자와 소문자 모두 필요합니다.\n",
    "    \n",
    "    if len(re.findall('[a-z]+',pwd))== 0 or len(re.findall('[A-Z]',pwd))==0:\n",
    "        print(\"대문자나 소문자가 필요합니다.\")\n",
    "        return False\n",
    "        \n",
    "pwd_check(\"123213a2A32\")"
   ]
  },
  {
   "cell_type": "code",
   "execution_count": null,
   "metadata": {},
   "outputs": [],
   "source": [
    "\n"
   ]
  },
  {
   "cell_type": "code",
   "execution_count": 99,
   "metadata": {},
   "outputs": [
    {
     "name": "stdout",
     "output_type": "stream",
     "text": [
      "사용자 이메일 입력 : wree@23.32\n",
      "['wree@23.32']\n",
      "wree@23.32 : 정상적인 이메일입니다.\n"
     ]
    }
   ],
   "source": [
    "import re\n",
    "def email_check(email):\n",
    "    # ^[] 시작, [^] 부정 , $ 끝\n",
    "    # {2, }2글자 이상\n",
    "    # a@a.com < a 2글자이상\n",
    "    exp = re.findall(\"^[a-z0-9]{2,}@[a-z0-9]{1,}\\.[a-z0-9]{2,}$\",email)\n",
    "    print(exp)\n",
    "    if len(exp) == 0:\n",
    "        print(email, \": 정상적인 이메일이 아닙니다\")\n",
    "        return False\n",
    "    print(email,\": 정상적인 이메일입니다.\")\n",
    "    \n",
    "    \n",
    "user_mail = input(\"사용자 이메일 입력 : \")\n",
    "email_check(user_mail)"
   ]
  },
  {
   "cell_type": "code",
   "execution_count": 119,
   "metadata": {},
   "outputs": [
    {
     "name": "stdout",
     "output_type": "stream",
     "text": [
      "<re.Match object; span=(0, 5), match='hello'>\n",
      "None\n",
      "<re.Match object; span=(0, 4), match='1000'>\n",
      "<re.Match object; span=(0, 1), match='하'>\n",
      "<re.Match object; span=(0, 2), match='하이'>\n"
     ]
    }
   ],
   "source": [
    "# re.match(\"패턴\",\"문자열\") : 문자열에서 패턴이 존재하는지, 존재하지 않으면 None\n",
    "\n",
    "import re\n",
    "print(re.match(\"hello\",\"hello, world\"))\n",
    "print(re.match(\"hi\",\"hello world\"))\n",
    "print(re.match(\"[0-9][0-9][0-9][0-9]\",\"1000\"))\n",
    "print(re.match(\"[가-힣]\",\"하이\"))\n",
    "print(re.match(\"[가-힣]+\",\"하이\"))\n",
    "\n",
    "#매치가 안되면 무조건 None임. \n"
   ]
  },
  {
   "cell_type": "code",
   "execution_count": 183,
   "metadata": {},
   "outputs": [
    {
     "name": "stdout",
     "output_type": "stream",
     "text": [
      "010-3444-3333 은 핸드폰번호입니다.\n",
      "010-3444-3333 은 정상적인 번호입니다\n",
      "지역번호입니다.\n",
      "정상적인 번호입니다\n",
      "지역번호입니다.\n",
      "정상적인 번호입니다\n",
      "지역번호입니다.\n",
      "세번째 칸에서 잘못했습니다. 문제번호 =  032-4445-5555\n"
     ]
    }
   ],
   "source": [
    "\n",
    "# match를 사용해서 입력받은 전화번호가 올바른 형식인지 아닌지를\n",
    "#판단해주는 함수를 정의하시오\n",
    "#입력형식\n",
    "tel1 = \"010-1122-0094\"\n",
    "tel2 = \"032-121-1122\"\n",
    "tel3 = \"010-11-12122\" #잘못된 형식으로 출력\n",
    "# def phone_check(tel):\n",
    "list_tel1 = list()\n",
    "\n",
    "\n",
    "\n",
    "\n",
    "def phone_check(tel):\n",
    "    if re.match(\"[0][1][0-9]\",tel) != None:\n",
    "        print(tel, \"은 핸드폰번호입니다.\")\n",
    "        teltemp = tel[4:8]\n",
    "        if re.match(\"[0-9][0-9][0-9][0-9]\",teltemp) != None:\n",
    "            teltemp = tel[9:]\n",
    "            if re.match(\"[0-9][0-9][0-9][0-9]\",teltemp) != None:\n",
    "                return print(tel,\"은 정상적인 번호입니다\")\n",
    "            else:\n",
    "                print(\"세번째 칸에서 잘못했습니다\")\n",
    "        else:\n",
    "            print(\"두번째 칸에서 잘못했습니다\")\n",
    "        \n",
    "    elif re.match(\"[0][2-9][0-9]\",tel) != None:\n",
    "        print(\"지역번호입니다.\")\n",
    "        teltemp = tel[4:7]\n",
    "        if re.match(\"[0-9][0-9][0-9]\",teltemp) != None:\n",
    "            teltemp = tel[8:]\n",
    "            if re.match(\"[0-9][0-9][0-9][0-9]\",teltemp) != None:\n",
    "                return print(\"정상적인 번호입니다\")\n",
    "            else:\n",
    "                print(\"세번째 칸에서 잘못했습니다. 문제번호 = \", tel)\n",
    "        else:\n",
    "            print(\"두번째 칸에서 잘못했습니다.문제 번호 = \", tel)\n",
    "    else:\n",
    "        print(\"첫번째부터 잘못됐습니다.\")\n",
    "        \n",
    "\n",
    "phone_check(\"010-3444-3333\")\n",
    "\n",
    "phone_check(\"032-444-5555\")\n",
    "phone_check(\"039-444-5555\")\n",
    "phone_check(\"032-4445-5555\")\n",
    "\n"
   ]
  },
  {
   "cell_type": "code",
   "execution_count": null,
   "metadata": {},
   "outputs": [],
   "source": []
  }
 ],
 "metadata": {
  "kernelspec": {
   "display_name": "Python 3",
   "language": "python",
   "name": "python3"
  },
  "language_info": {
   "codemirror_mode": {
    "name": "ipython",
    "version": 3
   },
   "file_extension": ".py",
   "mimetype": "text/x-python",
   "name": "python",
   "nbconvert_exporter": "python",
   "pygments_lexer": "ipython3",
   "version": "3.7.1"
  }
 },
 "nbformat": 4,
 "nbformat_minor": 2
}
