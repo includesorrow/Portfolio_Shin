{
 "cells": [
  {
   "cell_type": "code",
   "execution_count": 26,
   "metadata": {},
   "outputs": [
    {
     "name": "stdout",
     "output_type": "stream",
     "text": [
      "weight :  0.3333333333333333 kg 0.14285714285714285 kg 0.25 kg\n",
      "weight: 0.333 kg\n",
      "weight: 0.333kg, y=0.14kg, z=0.25kg\n"
     ]
    }
   ],
   "source": [
    "#연습문제 2)\n",
    "x = 1 / 3\n",
    "y = 1 / 7\n",
    "z = 1 / 4\n",
    "\n",
    "# \"\"\"\n",
    "# 값을 다음과 같이 출력하시오\n",
    "# 출력1) weight : 0.3333333333333 kg 0.14281714285714285 kg 0.25 kg\n",
    "# 출력2) weight: 0.33 kg, y=0.14 kg, z=0.25 kg\n",
    "\n",
    "print(\"weight : \",x,\"kg\",y,\"kg\",z,\"kg\")\n",
    "print(\"weight: {0:.3f} kg\".format(x))\n",
    "\n",
    "print(\"weight: {0:.3f}kg, y={1:.2f}kg, z={2:.2f}kg\".format(x,y,z))\n",
    "\n",
    "\n",
    "\n",
    "# \"I ate {0} apples. so I was sick for {1} days.\".format(number, day)\n",
    "# 'I ate 10 apples. so I was sick for three days.'"
   ]
  },
  {
   "cell_type": "code",
   "execution_count": 24,
   "metadata": {},
   "outputs": [
    {
     "name": "stdout",
     "output_type": "stream",
     "text": [
      "2\n",
      "서울 : 02\n",
      "인천 : 032\n"
     ]
    }
   ],
   "source": [
    "# 연습문제 2 )\n",
    "\n",
    "# '''\n",
    "tel1 = \"02)356-1212\"\n",
    "tel2 = \"032)675-1211\"\n",
    "\n",
    "# 두 전화번호의 국번 구해서 출력하시오.\n",
    "# 출력\n",
    "# 서울 02\n",
    "# 인천 032\n",
    "\n",
    "# '''\n",
    "print(tel1.find(\")\"))\n",
    "print(\"서울 : \"+tel1[:tel1.find(\")\")])\n",
    "print(\"인천 : \"+tel2[:tel2.find(\")\")])\n",
    "\n"
   ]
  },
  {
   "cell_type": "code",
   "execution_count": 27,
   "metadata": {},
   "outputs": [
    {
     "name": "stdout",
     "output_type": "stream",
     "text": [
      "문자 입력:없음\n",
      "없음\n",
      "['없음']\n",
      "ssn3없음\n",
      "ssn3출력 : 없음\n",
      "<class 'str'>\n",
      "['없음']\n",
      "없음\n"
     ]
    }
   ],
   "source": [
    "\n",
    "ssn = input(\"문자 입력:\")\n",
    "\n",
    "ssn = ssn.replace(\"싫어\",\"좋아\")\n",
    "ssn = ssn.replace(\"나빠\",\"좋아\")\n",
    "ssn = ssn.replace(\"몰라\",\"알아\")\n",
    "ssn = ssn.replace(\"피곤해\",\"기뻐\")\n",
    "print(ssn)\n",
    "\n",
    "\n",
    "ssnlist = ssn.split()\n",
    "print(ssnlist)\n",
    "\n",
    "for e in ssnlist:\n",
    "    ssn3 = ssn.replace(\"싫어\",\"좋아\")\n",
    "    ssn3 = ssn.replace(\"싫어\",\"좋아\")\n",
    "    ssn3 = ssn.replace(\"나빠\",\"좋아\")\n",
    "    ssn3 = ssn.replace(\"몰라\",\"알아\")\n",
    "    ssn3 = ssn.replace(\"피곤해\",\"기뻐\")\n",
    "\n",
    "    \n",
    "print(\"ssn3\"+ssn3)\n",
    "print(\"ssn3출력 : \"+\"\".join(ssn3))\n",
    "\n",
    "\n",
    "\n",
    "\n",
    "print(type(ssn))\n",
    "\n",
    "print(ssnlist)\n",
    "\n",
    "\n",
    "\n",
    "print (\" \".join(ssnlist))"
   ]
  },
  {
   "cell_type": "code",
   "execution_count": null,
   "metadata": {},
   "outputs": [],
   "source": []
  }
 ],
 "metadata": {
  "kernelspec": {
   "display_name": "Python 3",
   "language": "python",
   "name": "python3"
  },
  "language_info": {
   "codemirror_mode": {
    "name": "ipython",
    "version": 3
   },
   "file_extension": ".py",
   "mimetype": "text/x-python",
   "name": "python",
   "nbconvert_exporter": "python",
   "pygments_lexer": "ipython3",
   "version": "3.7.1"
  }
 },
 "nbformat": 4,
 "nbformat_minor": 2
}
