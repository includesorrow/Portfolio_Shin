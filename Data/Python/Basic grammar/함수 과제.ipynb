{
 "cells": [
  {
   "cell_type": "code",
   "execution_count": null,
   "metadata": {},
   "outputs": [],
   "source": [
    "# 1번문제 홀짝게임입니다.\n",
    "# input 방법(1=홀, 2=짝, 3=종료)\n",
    "# 상품, 승률, 게임기능을 하는 함수를 각각 만들어서 하라고 하셨습니다\n",
    "\n",
    "# 상품은 7게임이상 할경우에만 나오게 하라고 하셨습니다"
   ]
  },
  {
   "cell_type": "code",
   "execution_count": null,
   "metadata": {},
   "outputs": [],
   "source": [
    "# 두번째는 분산구하는건데\n",
    "# 분산 = 평균/길이\n",
    "# 분산과 평균을 구하는 함수를 만들어서 하시면됩니다"
   ]
  },
  {
   "cell_type": "code",
   "execution_count": 4,
   "metadata": {},
   "outputs": [
    {
     "name": "stdout",
     "output_type": "stream",
     "text": [
      "당신의 게임 횟수는 0입니다.\n",
      "값을 입력해주세요. 홀수는 1, 짝수는 2를 입력하세요. 나가기는 3번입니다.1\n",
      "['홀을 선택하셨습니다.']\n",
      "\n",
      "승리!\n",
      "\n",
      "당신의 게임 횟수는 1입니다.\n",
      "값을 입력해주세요. 홀수는 1, 짝수는 2를 입력하세요. 나가기는 3번입니다.2\n",
      "['짝을 선택하셨습니다.']\n",
      "\n",
      "패배!\n",
      "\n",
      "당신의 게임 횟수는 2입니다.\n",
      "값을 입력해주세요. 홀수는 1, 짝수는 2를 입력하세요. 나가기는 3번입니다.1\n",
      "['홀을 선택하셨습니다.']\n",
      "\n",
      "패배!\n",
      "\n",
      "당신의 게임 횟수는 3입니다.\n",
      "값을 입력해주세요. 홀수는 1, 짝수는 2를 입력하세요. 나가기는 3번입니다.2\n",
      "['짝을 선택하셨습니다.']\n",
      "\n",
      "승리!\n",
      "\n",
      "당신의 게임 횟수는 4입니다.\n",
      "값을 입력해주세요. 홀수는 1, 짝수는 2를 입력하세요. 나가기는 3번입니다.3\n",
      "['짝을 선택하셨습니다.']\n",
      "\n",
      "게임 종료!\n",
      "\n",
      "당신은 7번 이상 진행하지 않았습니다. 현재 경기수는 4 입니다. 상품없습니다\n"
     ]
    }
   ],
   "source": [
    "\n",
    "import random\n",
    "\n",
    "def lotto():\n",
    "    a = random.randint(1,2)\n",
    "    if(a==1):\n",
    "        return \"win\"\n",
    "    elif(a==2):\n",
    "        return \"lose\"\n",
    "\n",
    "def calculate(win, lose):\n",
    "    return print(\"당신의 승률은 : \" , ((win)/(win+lose)))\n",
    "    \n",
    "money = 10000\n",
    "countlotto = 0\n",
    "win = 0\n",
    "lose = 0\n",
    "while True:\n",
    "    print(\"당신의 게임 횟수는 %s입니다.\"%countlotto)\n",
    "    ip = eval(input(\"값을 입력해주세요. 홀수는 1, 짝수는 2를 입력하세요. 나가기는 3번입니다.\"))\n",
    "    print([\"홀을 선택하셨습니다.\" if ip==1 else \"짝을 선택하셨습니다.\"])\n",
    "    print()\n",
    "#     print(\"게임횟수 : \" ,countlotto)\n",
    "    if(money>=10):\n",
    "        if(ip!= 3):\n",
    "            lotto()\n",
    "            countlotto += 1\n",
    "            money -= 500\n",
    "            if(lotto()==\"win\"):\n",
    "                print(\"승리!\")\n",
    "                print()\n",
    "                win+=1\n",
    "            else:\n",
    "                print(\"패배!\")\n",
    "                print()\n",
    "                lose+=1\n",
    "        elif(ip==3):\n",
    "            print(\"게임 종료!\")\n",
    "            print()\n",
    "            if(countlotto>=7):\n",
    "                calculate(win,lose)\n",
    "                if((win/(win+lose))>=0.7):\n",
    "                    print(\"상품받아가세요\")\n",
    "                    break\n",
    "                else:\n",
    "                    print(\"상품없습니다\")\n",
    "                    break\n",
    "            else:\n",
    "                print(\"당신은 7번 이상 진행하지 않았습니다. 현재 경기수는 %s 입니다. 상품없습니다\" %countlotto)\n",
    "                break\n",
    "    else:\n",
    "        print(\"나가\")\n",
    "        break\n",
    "    "
   ]
  },
  {
   "cell_type": "code",
   "execution_count": null,
   "metadata": {},
   "outputs": [],
   "source": [
    "두번째는 분산구하는건데\n",
    "분산 = 평균/길이\n",
    "분산과 평균을 구하는 함수를 만들어서 하시면됩니다"
   ]
  },
  {
   "cell_type": "code",
   "execution_count": null,
   "metadata": {},
   "outputs": [],
   "source": [
    "def calculate(type,*args):\n",
    "    print(args)\n",
    "    ssmean = list()\n",
    "    sscount=0\n",
    "    meanss = list()\n",
    "    ssmeansum = int()\n",
    "    meansssum = int()\n",
    "    if(type==\"mean\"):\n",
    "        print(\"평균\")\n",
    "        print((sum(args))/(len(args)))\n",
    "        print()\n",
    "    if(type==\"var\"):\n",
    "        print(\"분산\")\n",
    "        argslist=list(args)\n",
    "        for i in argslist:\n",
    "            if(sscount<=(len(argslist))):\n",
    "                ssmean.append(argslist[sscount]*argslist[sscount])\n",
    "                sscount+=1\n",
    "            else:\n",
    "                sscount = 0\n",
    "                break\n",
    "        print(ssmean)\n",
    "        ssmeansum = sum(ssmean)/len(argslist)\n",
    "        print(\"test\")\n",
    "        print(\"ssmeansum\",ssmeansum)\n",
    "        \n",
    "        meanssum = sum(argslist)/len(argslist)\n",
    "        meanssum = meanssum*meanssum\n",
    "        print(\"meansum 은 : \",meanssum)\n",
    "        \n",
    "        result = ssmeansum - meanssum\n",
    "        print(\"분산은 : \",result)\n",
    "calculate(\"mean\",1,3,5,7,9)\n",
    "calculate(\"var\",1,3,5,7,9)\n"
   ]
  },
  {
   "cell_type": "code",
   "execution_count": null,
   "metadata": {},
   "outputs": [],
   "source": []
  },
  {
   "cell_type": "code",
   "execution_count": null,
   "metadata": {},
   "outputs": [],
   "source": [
    "def plusnum(num):\n",
    "    num += 4\n",
    "    \n",
    "num=3\n",
    "\n",
    "plusnum(3)\n",
    "print(num)\n"
   ]
  },
  {
   "cell_type": "code",
   "execution_count": null,
   "metadata": {},
   "outputs": [],
   "source": []
  },
  {
   "cell_type": "code",
   "execution_count": null,
   "metadata": {},
   "outputs": [],
   "source": []
  },
  {
   "cell_type": "code",
   "execution_count": null,
   "metadata": {},
   "outputs": [],
   "source": []
  }
 ],
 "metadata": {
  "kernelspec": {
   "display_name": "Python 3",
   "language": "python",
   "name": "python3"
  },
  "language_info": {
   "codemirror_mode": {
    "name": "ipython",
    "version": 3
   },
   "file_extension": ".py",
   "mimetype": "text/x-python",
   "name": "python",
   "nbconvert_exporter": "python",
   "pygments_lexer": "ipython3",
   "version": "3.7.1"
  }
 },
 "nbformat": 4,
 "nbformat_minor": 2
}
