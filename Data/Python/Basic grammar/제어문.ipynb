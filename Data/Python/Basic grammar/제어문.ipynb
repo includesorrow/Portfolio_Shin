{
 "cells": [
  {
   "cell_type": "code",
   "execution_count": null,
   "metadata": {},
   "outputs": [],
   "source": [
    "# 콘솔 입력과 eval()\n",
    "\n",
    "# 콘솔 입력 처리 함수\n",
    "a = input(\"입력하세요: \" )\n",
    "\n",
    "#에러발생\n",
    "# b = a + 10\n",
    "\n",
    "\n",
    "print(\"결과 : \", b)"
   ]
  },
  {
   "cell_type": "code",
   "execution_count": null,
   "metadata": {},
   "outputs": [],
   "source": [
    "\n",
    "# input 함수는 기본적으로 문자열로 입력 받음\n",
    "\n",
    "# eval() 함수로 감싸면 숫자로 처리됨\n",
    "\n",
    "dan = input(\"단을 입력하세요 : \")\n",
    "print(type(dan))\n",
    "\n",
    "dan = eval(input(\"단을 입력하세요 : \"))\n",
    "print(type(dan))"
   ]
  },
  {
   "cell_type": "code",
   "execution_count": null,
   "metadata": {},
   "outputs": [],
   "source": [
    "#문자열 띄어쓰기는 컴머를 사용한다\n",
    "\n",
    "print(\"good\", \"morning\")\n",
    "\n",
    "#10줄로 출력됨\n",
    "for i in range(10):\n",
    "    print(i)\n",
    "\n",
    "\n",
    "#한줄에 출력됨\n",
    "for i in range(10):\n",
    "    print(i,end=' / ')\n",
    "    "
   ]
  },
  {
   "cell_type": "code",
   "execution_count": null,
   "metadata": {},
   "outputs": [],
   "source": []
  },
  {
   "cell_type": "code",
   "execution_count": null,
   "metadata": {},
   "outputs": [],
   "source": [
    "# 중첩For문\n",
    "for x in range(2,10):\n",
    "    print(\"==={0}단===\".format(x))\n",
    "    for y in range(1,10):\n",
    "        print(\"{0} x {1} = {2:2d}\".format(x,y,x*y))\n",
    "        print()"
   ]
  },
  {
   "cell_type": "markdown",
   "metadata": {},
   "source": [
    "##### dan = eval(input(\"단 입력: \" ))\n",
    "\n",
    "#daninput = int(dan)\n",
    "\n",
    "rangeinput = eval(input(\"범위 : \"))\n",
    "\n",
    "#rangeinput = int(range)\n",
    "\n",
    "\n",
    "if((rangeinput%2)==0): \n",
    "    print(\"1,3,5,7,9중에 하나를 입력하세요.\") \n",
    "elif((rangeinput%2)==1): \n",
    "    for dan in range(dan)\n",
    "        for zz in range(1,10): \n",
    "            print(\"{0} x {1} = {2}\".format(dan,zz,dan*zz)) \n",
    "            print()\n"
   ]
  },
  {
   "cell_type": "code",
   "execution_count": null,
   "metadata": {},
   "outputs": [],
   "source": [
    "# [[\"{}x{}={}\".format(j,i,(i*j)) for j in range(st,et) for i in range(1,10)]"
   ]
  },
  {
   "cell_type": "code",
   "execution_count": 48,
   "metadata": {},
   "outputs": [
    {
     "name": "stdout",
     "output_type": "stream",
     "text": [
      "단 입력: 5\n",
      "범위 : 5\n",
      "2\n",
      "[3, 4, 5, 6, 7]\n",
      "3 x 1 = 3\n",
      "3 x 2 = 6\n",
      "3 x 3 = 9\n",
      "3 x 4 = 12\n",
      "3 x 5 = 15\n",
      "3 x 6 = 18\n",
      "3 x 7 = 21\n",
      "3 x 8 = 24\n",
      "3 x 9 = 27\n",
      "4 x 1 = 4\n",
      "4 x 2 = 8\n",
      "4 x 3 = 12\n",
      "4 x 4 = 16\n",
      "4 x 5 = 20\n",
      "4 x 6 = 24\n",
      "4 x 7 = 28\n",
      "4 x 8 = 32\n",
      "4 x 9 = 36\n",
      "5 x 1 = 5\n",
      "5 x 2 = 10\n",
      "5 x 3 = 15\n",
      "5 x 4 = 20\n",
      "5 x 5 = 25\n",
      "5 x 6 = 30\n",
      "5 x 7 = 35\n",
      "5 x 8 = 40\n",
      "5 x 9 = 45\n",
      "6 x 1 = 6\n",
      "6 x 2 = 12\n",
      "6 x 3 = 18\n",
      "6 x 4 = 24\n",
      "6 x 5 = 30\n",
      "6 x 6 = 36\n",
      "6 x 7 = 42\n",
      "6 x 8 = 48\n",
      "6 x 9 = 54\n",
      "7 x 1 = 7\n",
      "7 x 2 = 14\n",
      "7 x 3 = 21\n",
      "7 x 4 = 28\n",
      "7 x 5 = 35\n",
      "7 x 6 = 42\n",
      "7 x 7 = 49\n",
      "7 x 8 = 56\n",
      "7 x 9 = 63\n",
      "['3x1=3', '4x1=4', '5x1=5', '6x1=6', '7x1=7']\n",
      "['3x2=6', '4x2=8', '5x2=10', '6x2=12', '7x2=14']\n",
      "['3x3=9', '4x3=12', '5x3=15', '6x3=18', '7x3=21']\n",
      "['3x4=12', '4x4=16', '5x4=20', '6x4=24', '7x4=28']\n",
      "['3x5=15', '4x5=20', '5x5=25', '6x5=30', '7x5=35']\n",
      "['3x6=18', '4x6=24', '5x6=30', '6x6=36', '7x6=42']\n",
      "['3x7=21', '4x7=28', '5x7=35', '6x7=42', '7x7=49']\n",
      "['3x8=24', '4x8=32', '5x8=40', '6x8=48', '7x8=56']\n",
      "['3x9=27', '4x9=36', '5x9=45', '6x9=54', '7x9=63']\n",
      "==================================================\n",
      "['4x1=4', '5x1=5', '6x1=6']\n",
      "['4x2=8', '5x2=10', '6x2=12']\n",
      "['4x3=12', '5x3=15', '6x3=18']\n",
      "['4x4=16', '5x4=20', '6x4=24']\n",
      "['4x5=20', '5x5=25', '6x5=30']\n",
      "['4x6=24', '5x6=30', '6x6=36']\n",
      "['4x7=28', '5x7=35', '6x7=42']\n",
      "['4x8=32', '5x8=40', '6x8=48']\n",
      "['4x9=36', '5x9=45', '6x9=54']\n",
      "==================================================\n",
      "===4단===\n",
      "4 x 1 =  4\n",
      "\n",
      "4 x 2 =  8\n",
      "\n",
      "4 x 3 = 12\n",
      "\n",
      "4 x 4 = 16\n",
      "\n",
      "4 x 5 = 20\n",
      "\n",
      "4 x 6 = 24\n",
      "\n",
      "4 x 7 = 28\n",
      "\n",
      "4 x 8 = 32\n",
      "\n",
      "4 x 9 = 36\n",
      "\n",
      "===5단===\n",
      "5 x 1 =  5\n",
      "\n",
      "5 x 2 = 10\n",
      "\n",
      "5 x 3 = 15\n",
      "\n",
      "5 x 4 = 20\n",
      "\n",
      "5 x 5 = 25\n",
      "\n",
      "5 x 6 = 30\n",
      "\n",
      "5 x 7 = 35\n",
      "\n",
      "5 x 8 = 40\n",
      "\n",
      "5 x 9 = 45\n",
      "\n"
     ]
    }
   ],
   "source": [
    "dan = eval(input(\"단 입력: \" ))\n",
    "#daninput = int(dan)\n",
    "\n",
    "rangeinput = eval(input(\"범위 : \"))\n",
    "\n",
    "rangemok = rangeinput//2\n",
    "print(rangemok)\n",
    "\n",
    "testlist = list()\n",
    "for i in range(1,(rangeinput+1)):\n",
    "    testlist.append((dan-rangemok)-1+i)\n",
    "print(testlist)\n",
    "for i in testlist:\n",
    "    for zz in range(1,10):\n",
    "        print(\"{0} x {1} = {2}\".format(i,zz,i*zz)) \n",
    "\n",
    "\n",
    "\n",
    "    \n",
    "\n",
    "#rangeinput = int(range)\n",
    "\n",
    "if((rangeinput%2)==0): \n",
    "    print(\"1,3,5,7,9중에 하나를 입력하세요.\") \n",
    "elif((rangeinput%2)==1): \n",
    "    if(rangeinput==1):    \n",
    "        for zz in range(1,10): \n",
    "            print(\"{0} x {1} = {2}\".format(dan,zz,dan*zz)) \n",
    "            print()\n",
    "    if(rangeinput==3):\n",
    "        for zz in range(1,10):\n",
    "            a = [\"{0}x{1}={2}\".format(i,zz,i*zz) for i in range(dan-1, dan+2)]\n",
    "            print(a)\n",
    "    if(rangeinput==5):\n",
    "        for zz in range(1,10):\n",
    "            a = [\"{0}x{1}={2}\".format(i,zz,i*zz) for i in range(dan-2, dan+3)]\n",
    "            print(a)\n",
    "    if(rangeinput==7):\n",
    "        for zz in range(1,10):\n",
    "             a = [\"{0}x{1}={2}\".format(i,zz,i*zz) for i in range(dan-3, dan+4)]\n",
    "             print(a)\n",
    "    if(rangeinput==9):\n",
    "        for zz in range(1,10):\n",
    "            a = [\"{0}x{1}={2}\".format(i,zz,i*zz) for i in range(dan-4, dan+5)]\n",
    "            print(a)\n",
    "print(\"=\"*50)\n",
    "\n",
    "for zz in range(1,10):            \n",
    "    a = [\"{0}x{1}={2}\".format(i,zz,i*zz) for i in range(dan-1, dan+2)]\n",
    "    print(a)\n",
    "print(\"=\"*50)\n",
    "\n",
    "for x in range(dan-1,dan+1):\n",
    "    print(\"==={0}단===\".format(x))\n",
    "    for y in range(1,10):\n",
    "        print(\"{0} x {1} = {2:2d}\".format(x,y,x*y))\n",
    "        print()        "
   ]
  },
  {
   "cell_type": "code",
   "execution_count": null,
   "metadata": {},
   "outputs": [],
   "source": [
    "# 숫자를 입력하면 짝수인지 아닌지를 입력합니다.\n",
    "\n",
    "num = [1,2,3,4,5,6,7,10]\n",
    "vs = [\"홀\" if i % 2 == 0 else \"짝\" for i in num]\n",
    "print(vs)"
   ]
  },
  {
   "cell_type": "code",
   "execution_count": 8,
   "metadata": {},
   "outputs": [
    {
     "name": "stdout",
     "output_type": "stream",
     "text": [
      "신호등 색상 blue, red, yellow 중에 하나를 입력하세요 yellow\n",
      "천천히가세요\n",
      "['천천히가세요']\n",
      "천천히가세요\n"
     ]
    }
   ],
   "source": [
    "\n",
    "# 신호등 색상 blue, red, yellow 중에 하나를 입력하세요 : blue\n",
    "# 건너가세요\n",
    "# 신호등 색상 blue, red, yellow 중에 하나를 입력하세요 : red\n",
    "# 기다리세요\n",
    "# 신호등 색상 blue, red, yellow 중에 하나를 입력하세요 : yellow\n",
    "# 천천히 가세요\n",
    "\n",
    "# 1. 순수한 if - elif else\n",
    "# 2. Comprehension 적용 / 배열도 됨 / color = [blue,red,yellow] msg = ['건너가세요', 기다리세요]\n",
    "# 3. 딕셔너리\n",
    "chcolor = input(\"신호등 색상 blue, red, yellow 중에 하나를 입력하세요 \")\n",
    "\n",
    "if(chcolor == \"blue\"):\n",
    "    print(\"건너가세요\")\n",
    "elif(chcolor == \"red\"):\n",
    "    print(\"기다리세요\")\n",
    "elif(chcolor == \"yellow\"):\n",
    "    print(\"천천히가세요\")\n",
    "\n",
    "num = [0,1,2]\n",
    "colorlist = ['blue','red','yellow']\n",
    "msg = ['건너가세요','기다리세요','천천히가세요']\n",
    "\n",
    "\n",
    "printcom = [msg[i] if chcolor == colorlist[i] else None for i in num]\n",
    "printcom.remove(None)\n",
    "printcom.remove(None)\n",
    "\n",
    "print(printcom)\n",
    "ppp = {'blue' : '건너가세요', 'red' : '기다리세요', 'yellow' : '천천히가세요'}\n",
    "print(ppp.get(chcolor))\n"
   ]
  },
  {
   "cell_type": "code",
   "execution_count": 21,
   "metadata": {},
   "outputs": [
    {
     "name": "stdout",
     "output_type": "stream",
     "text": [
      "<class 'tuple'>\n",
      "<class 'tuple'>\n",
      "<class 'tuple'>\n",
      "<class 'tuple'>\n",
      "<class 'tuple'>\n",
      "<class 'tuple'>\n",
      "\n",
      "idx : 0 , val : 1\n",
      "idx : 1 , val : 3\n",
      "idx : 2 , val : 5\n",
      "idx : 3 , val : 7\n",
      "idx : 4 , val : 9\n",
      "idx : 5 , val : 55\n"
     ]
    }
   ],
   "source": [
    "# enumerate : tuple형태로 반환\n",
    "listv = [1,5,7,55,3,9]\n",
    "listv.sort()\n",
    "# tuple로 반환 받은 값\n",
    "for val in enumerate(listv):\n",
    "    print(type(val))\n",
    "print(\"\")\n",
    "for idx, v in enumerate(listv):\n",
    "    print(\"idx : {} , val : {}\".format(idx,v))\n",
    "    \n"
   ]
  },
  {
   "cell_type": "code",
   "execution_count": 28,
   "metadata": {},
   "outputs": [
    {
     "name": "stdout",
     "output_type": "stream",
     "text": [
      "<zip object at 0x00000165FB1B7408>\n",
      "1 일\n",
      "2 이\n",
      "3 오\n",
      "5 삼\n",
      "8 팔\n",
      "10 십\n",
      "blue 건너가세요\n",
      "red 기다리세요\n",
      "yellow 천천히가세요\n"
     ]
    }
   ],
   "source": [
    "\n",
    "# zip : 동일한 Collection들을 묶어주는 역할\n",
    "# \n",
    "\n",
    "n1 = [1,2,3,5,8,10]\n",
    "n2 = ['일','이','오','삼','팔','십','ㅎㅎ']\n",
    "val = zip(n1,n2)\n",
    "print(val)\n",
    "for a,b in val:\n",
    "    print(a,b)\n",
    "    \n",
    "colorlist = ['blue','red','yellow']\n",
    "msg = ['건너가세요','기다리세요','천천히가세요']\n",
    "\n",
    "valu = zip(colorlist, msg)\n",
    "for a,b in valu:\n",
    "    print(a,b)\n",
    "\n",
    "# sorted  < 제공안하는것들을 제공해줌. list나 그런거.\n",
    "#list가 가지고 있는 내부적으로 정렬해주는 내장메서드. \n",
    "#sort는 literable한 객체들은 다 제공해주는 객체.\n"
   ]
  },
  {
   "cell_type": "code",
   "execution_count": 49,
   "metadata": {},
   "outputs": [
    {
     "name": "stdout",
     "output_type": "stream",
     "text": [
      "신호등 색상 blue, red, yellow중에 하나를 입력하세요 : a\n",
      "blue 건너가세요\n",
      "red 기다리세요\n",
      "yellow 천천히가세요\n"
     ]
    }
   ],
   "source": [
    "color = input('신호등 색상 blue, red, yellow중에 하나를 입력하세요 : ')\n",
    "colorlist = ['blue','red','yellow']\n",
    "msg = ['건너가세요','기다리세요','천천히가세요']\n",
    "#zip을 사용해서 구현하시오\n",
    "for c, m in zip(colorlist,msg):\n",
    "    print(c,m)\n",
    "    if(color == c):\n",
    "        print(m)\n",
    "        \n",
    "        \n",
    "    #     print(c,m)\n",
    "\n",
    "    # cinput 비교해서 msg만 출력\n"
   ]
  },
  {
   "cell_type": "code",
   "execution_count": 52,
   "metadata": {},
   "outputs": [
    {
     "name": "stdout",
     "output_type": "stream",
     "text": [
      "10\n",
      "9\n",
      "8\n",
      "7\n",
      "6\n",
      "5\n",
      "4\n",
      "3\n",
      "2\n",
      "1\n"
     ]
    }
   ],
   "source": [
    "import time\n",
    "num = 10\n",
    "#False, 0 \n",
    "while num:\n",
    "    print(num)\n",
    "    num = num -1\n",
    "    time.sleep(1)\n",
    "\n",
    "    "
   ]
  },
  {
   "cell_type": "code",
   "execution_count": 58,
   "metadata": {},
   "outputs": [
    {
     "name": "stdout",
     "output_type": "stream",
     "text": [
      "커피를 드립니다\n",
      "남은 커피는 9개이고, 잔액은 27000원 입니다. \n",
      "\n",
      "커피를 드립니다\n",
      "남은 커피는 8개이고, 잔액은 24000원 입니다. \n",
      "\n",
      "커피를 드립니다\n",
      "남은 커피는 7개이고, 잔액은 21000원 입니다. \n",
      "\n",
      "커피를 드립니다\n",
      "남은 커피는 6개이고, 잔액은 18000원 입니다. \n",
      "\n",
      "커피를 드립니다\n",
      "남은 커피는 5개이고, 잔액은 15000원 입니다. \n",
      "\n",
      "커피를 드립니다\n",
      "남은 커피는 4개이고, 잔액은 12000원 입니다. \n",
      "\n",
      "커피를 드립니다\n",
      "남은 커피는 3개이고, 잔액은 9000원 입니다. \n",
      "\n",
      "커피를 드립니다\n",
      "남은 커피는 2개이고, 잔액은 6000원 입니다. \n",
      "\n",
      "커피를 드립니다\n",
      "남은 커피는 1개이고, 잔액은 3000원 입니다. \n",
      "\n",
      "커피를 드립니다\n",
      "남은 커피는 0개이고, 잔액은 0원 입니다. \n",
      "\n",
      "커피가 다 떨어졌습니다. 판매를 중지합니다.\n"
     ]
    }
   ],
   "source": [
    "# break 예제\n",
    "# 커피 자판기 예제\n",
    "coffee = 10\n",
    "money = 30000\n",
    "inta = [0,1,2]\n",
    "for i in inta:\n",
    "    while money:\n",
    "        print(\"커피를 드립니다\")\n",
    "        coffee = coffee -1\n",
    "        money = money-3000\n",
    "        print(\"남은 커피는 %d개이고, 잔액은 %d원 입니다. \\n\"% (coffee,money))\n",
    "        if not coffee :\n",
    "            print (\"커피가 다 떨어졌습니다. 판매를 중지합니다.\")\n",
    "            break\n",
    "\n",
    "# 프로그램이 어떻게 돌아가는지 주석으로 : 카페에 본인 이름으로 제출 - 조별 게시판에\n",
    "#1.coffee에...\n",
    "        "
   ]
  },
  {
   "cell_type": "code",
   "execution_count": 84,
   "metadata": {},
   "outputs": [
    {
     "name": "stdout",
     "output_type": "stream",
     "text": [
      "10\n",
      "20\n",
      "8\n"
     ]
    }
   ],
   "source": [
    "# 홀수명 continue\n",
    "nums = [10,20,3,5,8]\n",
    "for i in nums:\n",
    "    if i % 2 != 0:\n",
    "        continue\n",
    "        \n",
    "    print(i)"
   ]
  },
  {
   "cell_type": "code",
   "execution_count": null,
   "metadata": {},
   "outputs": [],
   "source": [
    "#테스트해볼것\n",
    "# 홀수명 continue\n",
    "nums = [10,20,3,5,8]\n",
    "for i in nums:\n",
    "    if i % 2 != 0:\n",
    "        break\n",
    "        continue\n",
    "        \n",
    "    print(i)\n",
    "\n"
   ]
  },
  {
   "cell_type": "code",
   "execution_count": 91,
   "metadata": {},
   "outputs": [
    {
     "name": "stdout",
     "output_type": "stream",
     "text": [
      "1 번학생 축하합니다. 점수 : 90  합격입니다.\n",
      "3 번학생 축하합니다. 점수 : 67  합격입니다.\n",
      "5 번학생 축하합니다. 점수 : 80  합격입니다.\n",
      "1번 학생 축하합니다. 점수 : 90 합격입니다.\n",
      "3번 학생 축하합니다. 점수 : 67 합격입니다.\n",
      "5번 학생 축하합니다. 점수 : 80 합격입니다.\n"
     ]
    }
   ],
   "source": [
    "\n",
    "\"\"\"\n",
    "continue 문으로 구현!\n",
    "marks = [90,25,67,45,80] 에서\n",
    "총 5명의 점수가 60점 이상인 학생들에게만 합격을 출력하시오\n",
    "1번학생 ㅊㅋ 합격임\n",
    "3번학생 ㅊㅋ 합격임\n",
    "5번학생 ㅊㅋ 합격임\n",
    "\n",
    "\"\"\"\n",
    "\n",
    "marks = [90,25,67,45,80]\n",
    "\n",
    "for i in marks:\n",
    "    if (i <= 60):\n",
    "        continue\n",
    "    print((marks.index(i))+1,\"번학생 축하합니다.\", \"점수 :\", marks[marks.index(i)],\" 합격입니다.\")\n",
    "    \n",
    "for number in range(len(marks)):\n",
    "    if marks[number] < 60:\n",
    "        continue\n",
    "    print(\"{}번 학생 축하합니다. 점수 : {} 합격입니다.\".format(number+1,marks[number]))\n"
   ]
  },
  {
   "cell_type": "code",
   "execution_count": 107,
   "metadata": {},
   "outputs": [
    {
     "name": "stdout",
     "output_type": "stream",
     "text": [
      "{0: 90, 1: 25, 2: 67, 3: 45, 4: 80}\n",
      "{0: 90, 1: 25, 2: 67, 3: 45, 4: 80}\n"
     ]
    },
    {
     "data": {
      "text/plain": [
       "{0: 90, 1: 25, 2: 67, 3: 45, 4: 80}"
      ]
     },
     "execution_count": 107,
     "metadata": {},
     "output_type": "execute_result"
    }
   ],
   "source": [
    "dic = {0:marks[0],1:marks[1],2:marks[2],3:marks[3],4:marks[4]}\n",
    "\n",
    "print(dic)\n",
    "\n",
    "index = list()\n",
    "dicc = zip(index,marks)\n",
    "\n",
    "# 출력값 : {0:90, 1:25, 2:67, 3:45, 4:80}\n",
    "\n",
    "tem = {idx:v for idx,v in enumerate(marks)}\n",
    "print(tem)\n",
    "\n",
    "#강사님꺼\n",
    "\n",
    "\n",
    "dict([x for x in enumerate(marks)])"
   ]
  },
  {
   "cell_type": "code",
   "execution_count": null,
   "metadata": {},
   "outputs": [],
   "source": []
  },
  {
   "cell_type": "code",
   "execution_count": null,
   "metadata": {},
   "outputs": [],
   "source": []
  },
  {
   "cell_type": "code",
   "execution_count": null,
   "metadata": {},
   "outputs": [],
   "source": []
  },
  {
   "cell_type": "code",
   "execution_count": null,
   "metadata": {},
   "outputs": [],
   "source": []
  }
 ],
 "metadata": {
  "kernelspec": {
   "display_name": "Python 3",
   "language": "python",
   "name": "python3"
  },
  "language_info": {
   "codemirror_mode": {
    "name": "ipython",
    "version": 3
   },
   "file_extension": ".py",
   "mimetype": "text/x-python",
   "name": "python",
   "nbconvert_exporter": "python",
   "pygments_lexer": "ipython3",
   "version": "3.7.1"
  }
 },
 "nbformat": 4,
 "nbformat_minor": 2
}
