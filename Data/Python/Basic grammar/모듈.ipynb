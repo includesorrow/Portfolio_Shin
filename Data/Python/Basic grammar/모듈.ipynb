{
 "cells": [
  {
   "cell_type": "code",
   "execution_count": null,
   "metadata": {},
   "outputs": [],
   "source": [
    "\n",
    "#########################################\n",
    "############# 스파이더 ##################\n",
    "\n",
    "\n",
    "def sum(a,b):\n",
    "    return a + b\n",
    "\n",
    "def check_sum(a,b):\n",
    "    if type(a) != type(b):\n",
    "        print(\"자료형이 다르기 때문에 계산을 못합니다.\")\n",
    "        return\n",
    "    else:\n",
    "        result = sum(a,b)\n",
    "    return result\n",
    "# 외부에서 python 실행파일.py 처럼 명령어를 실행하면 \n",
    "# main() 함수가 자동으로 호출이 된다.\n",
    "# class 안에서는 이런 메인함수를 정의하면 안된다.\n",
    "\n",
    "if __name__==\"__main__\":\n",
    "    print(sum(10,100))\n",
    "    print(check_sum(3,5))\n",
    "    print(check_sum(3,'te'))"
   ]
  },
  {
   "cell_type": "code",
   "execution_count": null,
   "metadata": {},
   "outputs": [],
   "source": [
    "# math 모듈 로딩\n",
    "import math\n",
    "# math 모듈의 변수, 함수 목록\n",
    "print(dir(math))\n",
    "\n",
    "print(\"=\"*50)\n",
    "# pow(a,b) a의 b승\n",
    "print(math.pow(2,5))\n",
    "math?\n",
    "\n"
   ]
  },
  {
   "cell_type": "code",
   "execution_count": null,
   "metadata": {},
   "outputs": [],
   "source": [
    "# sys모듈 : 파이썬 라이브러리 모듈이다.\n",
    "import sys\n",
    "#파이썬 라이브러리가 설치가 되어있는 디렉토리 확인\n",
    "print(sys.path)\n"
   ]
  },
  {
   "cell_type": "code",
   "execution_count": null,
   "metadata": {},
   "outputs": [],
   "source": [
    "# 파이썬 라이브러리 디렉토리  //   우리가 만든 경로를 추가한다.\n",
    "sys.path.append(\"C:\\\\Users\\\\daily\\\\Desktop\\\\jupiter_workspace\\\\0409 (6일차)\\\\Source\")\n",
    "\n",
    "#현재 스크립트 파일들이 어디에 있는지 경로를 출력한다.\n",
    "#마지막에 우리가 추가한 경로가 들어가 있는 것을 확인한다.\n",
    "print(sys.path)"
   ]
  },
  {
   "cell_type": "code",
   "execution_count": null,
   "metadata": {},
   "outputs": [],
   "source": [
    "# module 테스트\n",
    "import greeting_ko as gko\n",
    "#os.getcwd()\n",
    "import os\n",
    "# os.chdir(\"..\")\n",
    "os.getcwd()\n",
    "\n"
   ]
  },
  {
   "cell_type": "code",
   "execution_count": null,
   "metadata": {},
   "outputs": [],
   "source": []
  },
  {
   "cell_type": "code",
   "execution_count": null,
   "metadata": {},
   "outputs": [],
   "source": [
    "연습문제\n",
    "\n",
    "모듈적인 기능을 고민, 클래스, 함수중에서 어떤 것을 모듈로 만들 것인지를\n",
    "팀 스터디를 통해서 설계를 하고 구현 해보도록 하세요."
   ]
  },
  {
   "cell_type": "code",
   "execution_count": null,
   "metadata": {},
   "outputs": [],
   "source": []
  },
  {
   "cell_type": "code",
   "execution_count": null,
   "metadata": {},
   "outputs": [],
   "source": [
    "# game.sound 패키지의 echo.py 모듈을 불러오기\n",
    "import game.sound.echo\n",
    "game.sound.echo.echo_test()\n",
    "import game.sound.echo as ec\n",
    "ec.echo_test()"
   ]
  },
  {
   "cell_type": "code",
   "execution_count": null,
   "metadata": {},
   "outputs": [],
   "source": [
    "# set PYTHONPATH=C:\\\\Users\\\\daily\\\\Desktop\\\\jupiter_workspace\\\\0409 (6일차)\\\\Source"
   ]
  },
  {
   "cell_type": "code",
   "execution_count": 1,
   "metadata": {},
   "outputs": [
    {
     "name": "stdout",
     "output_type": "stream",
     "text": [
      "echo print!\n",
      "여기는 프린트테스트입니다\n",
      "echo print!\n",
      "여기는 프린트테스트입니다\n"
     ]
    }
   ],
   "source": [
    "from game.sound.echo import echo_test, print_test\n",
    "echo_test()\n",
    "print_test()\n",
    "\n",
    "from game.sound import echo as ec\n",
    "ec.echo_test()\n",
    "ec.print_test()\n",
    "\n"
   ]
  },
  {
   "cell_type": "code",
   "execution_count": null,
   "metadata": {},
   "outputs": [],
   "source": []
  },
  {
   "cell_type": "code",
   "execution_count": null,
   "metadata": {},
   "outputs": [],
   "source": []
  },
  {
   "cell_type": "code",
   "execution_count": null,
   "metadata": {},
   "outputs": [],
   "source": []
  },
  {
   "cell_type": "code",
   "execution_count": null,
   "metadata": {},
   "outputs": [],
   "source": []
  }
 ],
 "metadata": {
  "kernelspec": {
   "display_name": "Python 3",
   "language": "python",
   "name": "python3"
  },
  "language_info": {
   "codemirror_mode": {
    "name": "ipython",
    "version": 3
   },
   "file_extension": ".py",
   "mimetype": "text/x-python",
   "name": "python",
   "nbconvert_exporter": "python",
   "pygments_lexer": "ipython3",
   "version": "3.7.1"
  }
 },
 "nbformat": 4,
 "nbformat_minor": 2
}
