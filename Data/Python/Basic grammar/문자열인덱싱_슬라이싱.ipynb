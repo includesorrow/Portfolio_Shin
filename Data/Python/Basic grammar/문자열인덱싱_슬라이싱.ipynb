{
 "cells": [
  {
   "cell_type": "code",
   "execution_count": 1,
   "metadata": {},
   "outputs": [
    {
     "name": "stdout",
     "output_type": "stream",
     "text": [
      "17\n"
     ]
    }
   ],
   "source": [
    "#인덱싱 - 문자의 위치\n",
    "#문자열의 인덱스는 0부터 시작함\n",
    "a = \"Life is too short\"\n",
    "print(len(a))"
   ]
  },
  {
   "cell_type": "code",
   "execution_count": 2,
   "metadata": {},
   "outputs": [
    {
     "name": "stdout",
     "output_type": "stream",
     "text": [
      "e\n",
      "r\n"
     ]
    }
   ],
   "source": [
    "#앞에서 4번째\n",
    "print(a[3])\n",
    "#뒤에서 두번째\n",
    "print(a[-2])\n"
   ]
  },
  {
   "cell_type": "code",
   "execution_count": 3,
   "metadata": {},
   "outputs": [
    {
     "name": "stdout",
     "output_type": "stream",
     "text": [
      "Life\n"
     ]
    }
   ],
   "source": [
    "#슬라이싱 - 일부분을 잘라냄\n",
    "#0번에서 3번까지\n",
    "print(a[0:4])\n"
   ]
  },
  {
   "cell_type": "code",
   "execution_count": 4,
   "metadata": {},
   "outputs": [
    {
     "name": "stdout",
     "output_type": "stream",
     "text": [
      "is too short\n",
      "Life is\n",
      "Life is too short\n"
     ]
    }
   ],
   "source": [
    "#5번부터 끝까지\n",
    "print(a[5:])\n",
    "#0번부터 6번까지\n",
    "print(a[:7])\n",
    "#처음부터 끝까지\n",
    "print(a[:])"
   ]
  },
  {
   "cell_type": "code",
   "execution_count": 27,
   "metadata": {},
   "outputs": [
    {
     "name": "stdout",
     "output_type": "stream",
     "text": [
      "You need\n"
     ]
    },
    {
     "data": {
      "text/plain": [
       "8"
      ]
     },
     "execution_count": 27,
     "metadata": {},
     "output_type": "execute_result"
    }
   ],
   "source": [
    "b = \"Life is too short, You need Python\"\n",
    "#You need 출력해보기\n",
    "c = print(b[19:27])\n",
    "c = b[19:27]\n",
    "len(b)\n",
    "len(c)"
   ]
  },
  {
   "cell_type": "code",
   "execution_count": 19,
   "metadata": {},
   "outputs": [
    {
     "name": "stdout",
     "output_type": "stream",
     "text": [
      "i\n",
      "Python\n"
     ]
    }
   ],
   "source": [
    "#Pithon 이런 문자열을 Python으로 변경하시오.\n",
    "c = \"Pithon\"\n",
    "print(c[1])\n",
    "d = c.replace(c[1],\"y\")\n",
    "print(d)"
   ]
  },
  {
   "cell_type": "code",
   "execution_count": 22,
   "metadata": {},
   "outputs": [
    {
     "name": "stdout",
     "output_type": "stream",
     "text": [
      "P y thon\n",
      "('P', 'y', 'thon')\n"
     ]
    }
   ],
   "source": [
    "print(c[0],\"y\",c[2:])\n",
    "e = c[0],\"y\",c[2:]\n",
    "print(e)\n"
   ]
  },
  {
   "cell_type": "code",
   "execution_count": 25,
   "metadata": {},
   "outputs": [
    {
     "name": "stdout",
     "output_type": "stream",
     "text": [
      "Python\n"
     ]
    }
   ],
   "source": [
    "#정답\n",
    "c=\"Pithon\"\n",
    "c[1]\n",
    "#c[1]=\"y\"\n",
    "res = c[:1]+'y'+c[2:]\n",
    "print(res)"
   ]
  },
  {
   "cell_type": "code",
   "execution_count": 40,
   "metadata": {},
   "outputs": [
    {
     "name": "stdout",
     "output_type": "stream",
     "text": [
      "881120-1011221\n",
      "성별 : 남\n",
      "주민번호 : 881120-1******\n"
     ]
    }
   ],
   "source": [
    "#연습문제 >\n",
    "\"\"\"\n",
    "사용자로부터 주민번호를 입력을 받아서\n",
    "성별을 출력하세요.\n",
    "예)881120-1011221 =>\n",
    "성별 : 남\n",
    "주민번호 : 881120-1******\n",
    "\"\"\"\n",
    "e = \"881120-1011221\"\n",
    "f = \"성별 : 남\"\n",
    "g = \"주민번호 : \"+e[:8]+'******'\n",
    "print(e,f,g, sep='\\n')"
   ]
  },
  {
   "cell_type": "code",
   "execution_count": 57,
   "metadata": {},
   "outputs": [
    {
     "name": "stdout",
     "output_type": "stream",
     "text": [
      "주민번호 입력:123456-1234567\n",
      "성별구분 :  1\n",
      "남자\n",
      "123456-1\n",
      "234567\n",
      "123456-1******\n"
     ]
    }
   ],
   "source": [
    "ssn = input(\"주민번호 입력:\")\n",
    "print(\"성별구분 : \", ssn[7])\n",
    "if(\"3\" in ssn[7] or \"1\" in ssn[7]):\n",
    "    print(\"남자\")\n",
    "else:\n",
    "    print(\"여자\")\n",
    "\n",
    "print(ssn[:8])\n",
    "print(ssn[8:])\n",
    "print(ssn[:8]+\"*\"*6)"
   ]
  },
  {
   "cell_type": "code",
   "execution_count": 54,
   "metadata": {},
   "outputs": [
    {
     "name": "stdout",
     "output_type": "stream",
     "text": [
      "당신의 나이는 20세 입니다.\n",
      "나는 사과를 좋아한다. \n",
      "김철수님의 나이는 20세입니다.\n",
      "에러율 : 98%\n",
      "원주율 :      3.146\n"
     ]
    }
   ],
   "source": [
    "#문자열 formatting\n",
    "#  % 위치에 숫자 대입\n",
    "# %s = 문자열 (String)\n",
    "# %c = 문자 한개.(Character)\n",
    "# %d = 정수 (integer)\n",
    "# %i = \n",
    "# %f = 부동소수점 (long)\n",
    "# %o = 8진수\n",
    "# %x = 16진수\n",
    "# %% = 리터럴 문자열\n",
    "age = 20\n",
    "print(\"당신의 나이는 %i세 입니다.\" %age)\n",
    "#s = 문자열을 의미하는것. \n",
    "fruit = \"사과\"\n",
    "print(\"나는 %s를 좋아한다. \"%fruit)\n",
    "#2개이상의 값 대입\n",
    "name = \"김철수\"\n",
    "print(\"%s님의 나이는 %s세입니다.\" %(name, age))\n",
    "# %를 쓰고 싶은 경우 %%로 두번 입력한다.\n",
    "rate = 98\n",
    "print(\"에러율 : %d%%\" %rate)\n",
    "# %전체자리수.소수이하자리수f - 소수점도 포함됨\n",
    "point = 3.14592\n",
    "print(\"원주율 : %10.3f\" %point)\n"
   ]
  }
 ],
 "metadata": {
  "kernelspec": {
   "display_name": "Python 3",
   "language": "python",
   "name": "python3"
  },
  "language_info": {
   "codemirror_mode": {
    "name": "ipython",
    "version": 3
   },
   "file_extension": ".py",
   "mimetype": "text/x-python",
   "name": "python",
   "nbconvert_exporter": "python",
   "pygments_lexer": "ipython3",
   "version": "3.7.1"
  }
 },
 "nbformat": 4,
 "nbformat_minor": 2
}
