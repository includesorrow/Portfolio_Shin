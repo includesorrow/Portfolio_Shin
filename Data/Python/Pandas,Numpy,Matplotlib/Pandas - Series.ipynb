{
 "cells": [
  {
   "cell_type": "code",
   "execution_count": null,
   "metadata": {},
   "outputs": [],
   "source": [
    "\n",
    "리스트와 시리즈의 차이\n",
    "\n",
    "- 리스트는 value만 구성\n",
    "- 시리즈는 index + value로 구성\n",
    "index 미지정시 0,1,2,3,....으로 자동 생성\n"
   ]
  },
  {
   "cell_type": "code",
   "execution_count": 12,
   "metadata": {},
   "outputs": [
    {
     "name": "stdout",
     "output_type": "stream",
     "text": [
      "[100, 200, 300, 400, 500]\n",
      "\n",
      "0    101\n",
      "1    202\n",
      "2    303\n",
      "3    404\n",
      "4    505\n",
      "dtype: int64\n",
      "\n",
      "<class 'list'>\n",
      "\n",
      "<class 'pandas.core.series.Series'>\n",
      "====================================================================================================\n",
      "300\n",
      "\n",
      "303\n",
      "\n",
      "\n",
      "첫번째    101\n",
      "두번째    202\n",
      "세번째    303\n",
      "네번째    404\n",
      "5      505\n",
      "dtype: int64\n",
      "\n",
      "\n",
      "\n",
      "첫번째    101\n",
      "두번째    202\n",
      "세번째    303\n",
      "네번째    404\n",
      "5      505\n",
      "dtype: int64\n",
      "kim     dong ryl\n",
      "shin     dongjun\n",
      "star       bucks\n",
      "dtype: object\n"
     ]
    }
   ],
   "source": [
    "import pandas as pd\n",
    "\n",
    "from pandas import Series, DataFrame\n",
    "import numpy as np\n",
    "\n",
    "sp_list = [100,200,300,400,500]\n",
    "sp_series = pd.Series([101,202,303,404,505])\n",
    "\n",
    "sp_series_addseries = pd.Series([101,202,303,404,505], index= ['첫번째', '두번째', '세번째', '네번째', '5'])\n",
    "\n",
    "\n",
    "\n",
    "print(sp_list)\n",
    "print()\n",
    "print(sp_series)\n",
    "print()\n",
    "print(type(sp_list))\n",
    "print()\n",
    "print(type(sp_series))\n",
    "print(\"==\"*50)\n",
    "print(sp_list[2])\n",
    "print()\n",
    "print(sp_series[2])\n",
    "\n",
    "\n",
    "\n",
    "print()\n",
    "print()\n",
    "\n",
    "\n",
    "\n",
    "print(sp_series_addseries)\n",
    "\n",
    "print()\n",
    "print()\n",
    "print()\n",
    "\n",
    "#########################\n",
    "\n",
    "# index 부여\n",
    "sp_series.index = ['첫번째', '두번째', '세번째', '네번째', '5']\n",
    "\n",
    "print(sp_series)\n",
    "\n",
    "\n",
    "\n",
    "\n",
    "#################################\n",
    "\n",
    "sdata = {\"kim\":\"dong ryl\", \"shin\":\"dongjun\", \"star\":\"bucks\"}\n",
    "\n",
    "sdata_series = Series(sdata)\n",
    "print(sdata_series)"
   ]
  },
  {
   "cell_type": "code",
   "execution_count": 17,
   "metadata": {},
   "outputs": [
    {
     "name": "stdout",
     "output_type": "stream",
     "text": [
      "a    100\n",
      "b    200\n",
      "c    300\n",
      "d    400\n",
      "e    500\n",
      "dtype: int64\n",
      "a    [100, 200, 300, 400, 500]\n",
      "b       [80, 20, 30, 100, 100]\n",
      "dtype: object\n",
      "[100, 200, 300, 400, 500]\n",
      "[100, 200, 300, 400, 500]\n"
     ]
    }
   ],
   "source": [
    "# Series는 1차원 배열 형태이다.\n",
    "\n",
    "sp_list = [100,200,300,400,500]\n",
    "sp_series = pd.Series(sp_list, index = ['a','b','c','d','e'])\n",
    "print(sp_series)\n",
    "sp_dict = {\n",
    "    'a' : [100,200,300,400,500],\n",
    "    'b' : [80,20,30,100,100]\n",
    "}\n",
    "\n",
    "sp_series = pd.Series(sp_dict)\n",
    "print(sp_series)\n",
    "\n",
    "\n",
    "#출력해보니 타입은 오브젝트이다.\n",
    "print(sp_series['a'])\n",
    "print(sp_series[0])\n",
    "\n",
    "\n"
   ]
  },
  {
   "cell_type": "code",
   "execution_count": null,
   "metadata": {},
   "outputs": [],
   "source": []
  },
  {
   "cell_type": "code",
   "execution_count": 84,
   "metadata": {},
   "outputs": [
    {
     "name": "stdout",
     "output_type": "stream",
     "text": [
      " index  :    Index(['a', 'b', 'c', 'd', 'e'], dtype='object')\n",
      " values :    [100 200 300 400 500]\n",
      "\n",
      "====================================================================================================\n",
      "\n",
      "Index : a    value  :  100\n",
      "Index : b    value  :  200\n",
      "Index : c    value  :  300\n",
      "Index : d    value  :  400\n",
      "Index : e    value  :  500\n",
      "100\n"
     ]
    }
   ],
   "source": [
    "# 인덱스를 추가해서 Series를 생성\n",
    "sp_list = [100,200,300,400,500]\n",
    "sp_series = pd.Series(sp_list, index = ['a','b','c','d','e'])\n",
    "\n",
    "# -- index 및 value 조회\n",
    "print(\" index  :   \" , sp_series.index)\n",
    "print(\" values :   \" , sp_series.values)\n",
    "print()\n",
    "print(\"=\"*100)\n",
    "print()\n",
    "\n",
    "for i in sp_series.index:\n",
    "    print(\"Index : \" + i + \"    value  :  \" + str(sp_series[i]))\n",
    "                                                # i = a, b, c, d, e\n",
    "                                                # 여기서 str안쓰면 에러남.\n",
    "                                                # TypeError : can only concatenate str (not \"numpy.int64\") to str\n",
    "print(sp_series['a'])"
   ]
  },
  {
   "cell_type": "code",
   "execution_count": null,
   "metadata": {},
   "outputs": [],
   "source": []
  },
  {
   "cell_type": "code",
   "execution_count": 39,
   "metadata": {},
   "outputs": [
    {
     "name": "stdout",
     "output_type": "stream",
     "text": [
      "True\n",
      "a     200\n",
      "b     400\n",
      "c     600\n",
      "d     800\n",
      "e    1000\n",
      "dtype: int64\n",
      "--------------------------------------------------\n",
      "\n",
      "c    300\n",
      "d    400\n",
      "e    500\n",
      "dtype: int64\n",
      "\n",
      "--------------------------------------------------\n",
      "\n",
      "a    100\n",
      "b    200\n",
      "dtype: int64\n",
      "\n",
      "--------------------------------------------------\n",
      "\n",
      "a    100\n",
      "b    200\n",
      "d    400\n",
      "e    500\n",
      "dtype: int64\n",
      "\n",
      "True\n"
     ]
    }
   ],
   "source": [
    "\n",
    "from pandas import Series, DataFrame\n",
    "import numpy as np\n",
    "sp_list = [100,200,300,400,500]\n",
    "sp_series = pd.Series(sp_list, index = ['a','b','c','d','e'])\n",
    "\n",
    "#print(sp_series)\n",
    "\n",
    "print(\"c\" in sp_series)\n",
    "# 값이 존재 = True, 없음 = False\n",
    "\n",
    "print(sp_series *2)\n",
    "# 값들에 두배를 함\n",
    "\n",
    "#value 조건 추출\n",
    "print(\"-\"*50)\n",
    "print()\n",
    "print(sp_series[sp_series.values >= 300])\n",
    "print()\n",
    "\n",
    "print(\"-\"*50)\n",
    "print()\n",
    "print(sp_series[sp_series.values < 300])\n",
    "print()\n",
    "\n",
    "print(\"-\"*50)\n",
    "print()\n",
    "print(sp_series[sp_series.values != 300])\n",
    "print()\n",
    "\n",
    "\n",
    "# 300이라는 값이 있냐 없냐\n",
    "print(300 in sp_series.values)"
   ]
  },
  {
   "cell_type": "code",
   "execution_count": 42,
   "metadata": {},
   "outputs": [
    {
     "name": "stdout",
     "output_type": "stream",
     "text": [
      "\n",
      "Series :  a    100\n",
      "b    200\n",
      "c    300\n",
      "d    400\n",
      "e    500\n",
      "Name: stock_price, dtype: int64\n",
      "\n",
      "index :  Index(['a', 'b', 'c', 'd', 'e'], dtype='object')\n",
      "\n",
      "values :  [100 200 300 400 500]\n",
      "\n",
      "Shape :  (5,)\n",
      "\n",
      "Size :  5\n",
      "\n",
      "Ndim :  1\n"
     ]
    }
   ],
   "source": [
    "# -- 시리즈 이름 변경 및 속성 조회\n",
    "sp_series.name = \"stock_price\"\n",
    "print()\n",
    "print(\"Series : \", sp_series)\n",
    "print()\n",
    "print(\"index : \", sp_series.index)\n",
    "print()\n",
    "print(\"values : \", sp_series.values)\n",
    "print()\n",
    "print(\"Shape : \", sp_series.shape)\n",
    "print()\n",
    "print(\"Size : \", sp_series.size)\n",
    "print()\n",
    "print(\"Ndim : \", sp_series.ndim)\n",
    "#shape = 1차원\n"
   ]
  },
  {
   "cell_type": "code",
   "execution_count": null,
   "metadata": {},
   "outputs": [],
   "source": []
  },
  {
   "cell_type": "code",
   "execution_count": 44,
   "metadata": {},
   "outputs": [
    {
     "name": "stdout",
     "output_type": "stream",
     "text": [
      "a    100\n",
      "c    300\n",
      "Name: stock_price, dtype: int64\n"
     ]
    }
   ],
   "source": [
    "# 인덱싱\n",
    "\n",
    "print(sp_series[[\"a\",\"c\"]])"
   ]
  },
  {
   "cell_type": "code",
   "execution_count": 47,
   "metadata": {},
   "outputs": [
    {
     "name": "stdout",
     "output_type": "stream",
     "text": [
      "5\n",
      "5\n",
      "5\n",
      "4\n"
     ]
    }
   ],
   "source": [
    "# -- 시리즈 value 개수 출력\n",
    "print (sp_series.count())\n",
    "print (len(sp_series))\n",
    "\n",
    "sp_test = pd.Series([101,202,303,404,None], index= ['첫번째', '두번째', '세번째', '네번째', '5'])\n",
    "\n",
    "print(len(sp_test))\n",
    "print (sp_test.count())"
   ]
  },
  {
   "cell_type": "code",
   "execution_count": 48,
   "metadata": {},
   "outputs": [
    {
     "name": "stdout",
     "output_type": "stream",
     "text": [
      "100\n"
     ]
    }
   ],
   "source": [
    "# -- at : 인덱스로 찾기 (value only 추출)\n",
    "\n",
    "print (sp_series.at[\"a\"])\n",
    "print (sp_series.iat[0])\n",
    "# i는 인덱스가 있어도 인덱스 번호를 기준으로 찾아간다. \n",
    "# 즉, 0,1,2,3,4 순으로 그냥 간다.\n",
    "print (sp_series.iat[1])\n",
    "\n",
    "#그렇다 하고 넘어가셈\n"
   ]
  },
  {
   "cell_type": "code",
   "execution_count": 50,
   "metadata": {},
   "outputs": [
    {
     "name": "stdout",
     "output_type": "stream",
     "text": [
      "a    100\n",
      "b    200\n",
      "c    300\n",
      "Name: stock_price, dtype: int64\n",
      "b    200\n",
      "c    300\n",
      "Name: stock_price, dtype: int64\n",
      "a    100\n",
      "b    200\n",
      "c    300\n",
      "d    400\n",
      "e    500\n",
      "Name: stock_price, dtype: int64\n"
     ]
    }
   ],
   "source": [
    "# 얘를 많이 씀\n",
    "# -- loc : 인덱스 범위 찾기 (index + value 추출)\n",
    "print (sp_series.loc[\"a\":\"c\"])\n",
    "# a에서 c까지 추출\n",
    "print (sp_series.iloc[1:3])\n",
    "# 1,2번째 값 추출\n",
    "# i는 인덱스 숫자들을 추출하는것임. 네이밍이랑은 상관이 없음\n",
    "\n",
    "print(sp_series.iloc[:])"
   ]
  },
  {
   "cell_type": "code",
   "execution_count": null,
   "metadata": {},
   "outputs": [],
   "source": []
  },
  {
   "cell_type": "code",
   "execution_count": 83,
   "metadata": {},
   "outputs": [
    {
     "name": "stdout",
     "output_type": "stream",
     "text": [
      "100\n",
      "<class 'numpy.int64'>\n",
      "200\n",
      "a    100\n",
      "d    400\n",
      "Name: stock_price, dtype: int64\n",
      "a    100\n",
      "c    300\n",
      "Name: stock_price, dtype: int64\n",
      "a    100\n",
      "b    200\n",
      "c    300\n",
      "Name: stock_price, dtype: int64\n",
      "a    100\n",
      "b    200\n",
      "c    300\n",
      "Name: stock_price, dtype: int64\n"
     ]
    }
   ],
   "source": [
    "# 인덱스 찾기\n",
    "\n",
    "print (sp_series.iloc[0])\n",
    "print (sp_series.loc[\"b\"])\n",
    "\n",
    "print (sp_series.iloc[[0,3]])\n",
    "print (sp_series.loc[[\"a\",\"c\"]])\n",
    "\n",
    "print (sp_series.iloc[0:3])\n",
    "print (sp_series.loc[\"a\":\"c\"])"
   ]
  },
  {
   "cell_type": "code",
   "execution_count": 66,
   "metadata": {},
   "outputs": [
    {
     "name": "stdout",
     "output_type": "stream",
     "text": [
      "a    100\n",
      "b    200\n",
      "c    300\n",
      "d    400\n",
      "e    500\n",
      "Name: stock_price, dtype: int64\n",
      "********************\n",
      "[100 200 300 400 500]\n",
      "<class 'numpy.ndarray'>\n",
      "\n",
      "==================================================\n",
      "\n",
      "[100, 200, 300, 400, 500]\n",
      "<class 'list'>\n"
     ]
    }
   ],
   "source": [
    "\n",
    "# Series의 값을 모두 list로 출력하세요.\n",
    "# 카페 조별 게시판에 작성해서 올리기\n",
    "print(sp_series)\n",
    "print(\"*\"*20)\n",
    "\n",
    "print(sp_series.values)\n",
    "print(type(sp_series.values))\n",
    "\n",
    "#######\n",
    "# 클래스가 numpy.ndarray 식으로 출력된다.\n",
    "#######\n",
    "\n",
    "\n",
    "\n",
    "\n",
    "print()\n",
    "print(\"=\"*50)\n",
    "print()\n",
    "\n",
    "### List타입으로 출력 ###\n",
    "\n",
    "print([i for i in sp_series.values])\n",
    "print(type([i for i in sp_series.values]))"
   ]
  },
  {
   "cell_type": "code",
   "execution_count": null,
   "metadata": {},
   "outputs": [],
   "source": []
  },
  {
   "cell_type": "code",
   "execution_count": 78,
   "metadata": {},
   "outputs": [
    {
     "name": "stdout",
     "output_type": "stream",
     "text": [
      "{'서울': 1000, '대구': 2000, '광주': 3000}\n",
      "서울    1000\n",
      "대구    2000\n",
      "광주    3000\n",
      "dtype: int64\n",
      "==================================================\n",
      "미국       NaN\n",
      "서울    1000.0\n",
      "광주    3000.0\n",
      "dtype: float64\n"
     ]
    }
   ],
   "source": [
    "# 사전을 시리즈로 변경\n",
    "sdic = {\"서울\":1000, \"대구\":2000, \"광주\":3000}\n",
    "print(sdic)\n",
    "srs1 = pd.Series(sdic)\n",
    "print(srs1)\n",
    "print(\"=\"*50)\n",
    "\n",
    "# -- 리스트를 통해서 시리즈로 변경\n",
    "states = [\"미국\", \"서울\", \"광주\"]\n",
    "srs2 = pd.Series(sdic, index = states)\n",
    "print(srs2)\n"
   ]
  },
  {
   "cell_type": "code",
   "execution_count": 79,
   "metadata": {},
   "outputs": [
    {
     "name": "stdout",
     "output_type": "stream",
     "text": [
      "미국     True\n",
      "서울    False\n",
      "광주    False\n",
      "dtype: bool\n",
      "==================================================\n",
      "미국    False\n",
      "서울     True\n",
      "광주     True\n",
      "dtype: bool\n"
     ]
    }
   ],
   "source": [
    "\n",
    "# -- null 확인\n",
    "print (srs2.isnull())\n",
    "print(\"=\"*50)\n",
    "print(srs2.notnull())\n"
   ]
  },
  {
   "cell_type": "code",
   "execution_count": 80,
   "metadata": {},
   "outputs": [
    {
     "name": "stdout",
     "output_type": "stream",
     "text": [
      "서울    1000\n",
      "대구    2000\n",
      "광주    3000\n",
      "dtype: int64\n",
      "미국       NaN\n",
      "서울    1000.0\n",
      "광주    3000.0\n",
      "dtype: float64\n",
      "\n",
      "srs1 + srs2\n",
      "광주    6000.0\n",
      "대구       NaN\n",
      "미국       NaN\n",
      "서울    2000.0\n",
      "dtype: float64\n",
      "\n",
      "==================================================\n",
      "\n",
      "srs1 - srs2\n",
      "광주    0.0\n",
      "대구    NaN\n",
      "미국    NaN\n",
      "서울    0.0\n",
      "dtype: float64\n",
      "\n",
      "==================================================\n",
      "\n",
      "srs1 * srs2\n",
      "광주    9000000.0\n",
      "대구          NaN\n",
      "미국          NaN\n",
      "서울    1000000.0\n",
      "dtype: float64\n",
      "\n",
      "==================================================\n",
      "\n",
      "srs1 / srs2\n",
      "광주    1.0\n",
      "대구    NaN\n",
      "미국    NaN\n",
      "서울    1.0\n",
      "dtype: float64\n",
      "\n",
      "==================================================\n",
      "\n",
      "srs1 * 2 - srs2 * 3\n",
      "광주   -3000.0\n",
      "대구       NaN\n",
      "미국       NaN\n",
      "서울   -1000.0\n",
      "dtype: float64\n"
     ]
    }
   ],
   "source": [
    "# -- 시리즈 연산\n",
    "\n",
    "print(srs1)\n",
    "print(srs2)\n",
    "print()\n",
    "print(\"srs1 + srs2\")\n",
    "print(srs1 + srs2)\n",
    "print()\n",
    "print(\"=\"*50)\n",
    "print()\n",
    "print(\"srs1 - srs2\")\n",
    "print(srs1-srs2)\n",
    "print()\n",
    "print(\"=\"*50)\n",
    "print()\n",
    "print(\"srs1 * srs2\")\n",
    "print(srs1 * srs2)\n",
    "print()\n",
    "print(\"=\"*50)\n",
    "print()\n",
    "print(\"srs1 / srs2\")\n",
    "print(srs1 / srs2)\n",
    "print()\n",
    "print(\"=\"*50)\n",
    "print()\n",
    "print(\"srs1 * 2 - srs2 * 3\")\n",
    "print(srs1 * 2 - srs2 * 3)"
   ]
  },
  {
   "cell_type": "code",
   "execution_count": null,
   "metadata": {},
   "outputs": [],
   "source": []
  },
  {
   "cell_type": "code",
   "execution_count": 81,
   "metadata": {},
   "outputs": [
    {
     "name": "stdout",
     "output_type": "stream",
     "text": [
      "미국       NaN\n",
      "서울    1000.0\n",
      "광주    3000.0\n",
      "dtype: float64\n",
      "미국       0.0\n",
      "서울    1000.0\n",
      "광주    3000.0\n",
      "dtype: float64\n"
     ]
    }
   ],
   "source": [
    "# -- NaN 처리\n",
    "print(srs2)\n",
    "srs3 = srs2\n",
    "srs3 = srs3.fillna(0)\n",
    "print(srs3)"
   ]
  },
  {
   "cell_type": "code",
   "execution_count": 82,
   "metadata": {},
   "outputs": [
    {
     "name": "stdout",
     "output_type": "stream",
     "text": [
      "미국       NaN\n",
      "서울    1000.0\n",
      "광주    3000.0\n",
      "dtype: float64\n",
      "서울    1000.0\n",
      "광주    3000.0\n",
      "dtype: float64\n"
     ]
    }
   ],
   "source": [
    "# -- NaN 처리\n",
    "print(srs2)\n",
    "srs4 = srs2\n",
    "srs4 = srs4.dropna()\n",
    "print(srs4)"
   ]
  },
  {
   "cell_type": "code",
   "execution_count": null,
   "metadata": {},
   "outputs": [],
   "source": []
  },
  {
   "cell_type": "code",
   "execution_count": null,
   "metadata": {},
   "outputs": [],
   "source": []
  },
  {
   "cell_type": "code",
   "execution_count": null,
   "metadata": {},
   "outputs": [],
   "source": []
  },
  {
   "cell_type": "code",
   "execution_count": null,
   "metadata": {},
   "outputs": [],
   "source": []
  },
  {
   "cell_type": "code",
   "execution_count": null,
   "metadata": {},
   "outputs": [],
   "source": []
  }
 ],
 "metadata": {
  "kernelspec": {
   "display_name": "Python 3",
   "language": "python",
   "name": "python3"
  },
  "language_info": {
   "codemirror_mode": {
    "name": "ipython",
    "version": 3
   },
   "file_extension": ".py",
   "mimetype": "text/x-python",
   "name": "python",
   "nbconvert_exporter": "python",
   "pygments_lexer": "ipython3",
   "version": "3.7.1"
  }
 },
 "nbformat": 4,
 "nbformat_minor": 2
}
