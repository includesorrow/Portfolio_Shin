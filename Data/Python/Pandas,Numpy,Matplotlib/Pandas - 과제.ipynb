{
 "cells": [
  {
   "cell_type": "code",
   "execution_count": null,
   "metadata": {},
   "outputs": [],
   "source": [
    "# 판다스로 csv파일 읽어 들이기\n",
    "\n",
    "\n",
    "\n",
    "aptData = read_csv('C:\\\\Users\\\\daily\\\\Desktop\\\\jupiter_workspace\\\\2019_apt.csv', encoding=\"cp949\")\n",
    "\n",
    "print(aptData.shape)\n",
    "aptData.head()\n",
    "\n",
    "aptData.tail()\n",
    "print(\"=\"*50)\n",
    "\n",
    "print(type(aptData))\n",
    "print(\"=\"*50)\n",
    "\n",
    "aptData.info()\n",
    "print(\"=\"*50)\n",
    "\n",
    "\n",
    "import missingno as msno\n",
    "\n",
    "msno.matrix(aptData)\n",
    "\n",
    "print(aptData.isnull().sum(axis = 0))\n",
    "\n",
    "# print(aptData.isnull().sum(axis = 1))\n",
    "\n",
    "\n",
    "#null값 196\n",
    "\n"
   ]
  },
  {
   "cell_type": "code",
   "execution_count": null,
   "metadata": {},
   "outputs": [],
   "source": [
    "#문제1) 데이터에서 특정 컬럼만 가져 와보시오.\n",
    "# 지역명,분양가격 20개만 가져와서 출력하기   =>  여러개의 컬럼을 보기 위해서는 list에 담아서 봐야 한다.\n",
    "\n",
    "aptData.loc[ :20, [\"지역명\",\"분양가격(㎡)\"]]\n",
    "# print(aptData[[\"지역명\",\"분양가격\"]])\n",
    "print(aptData[[\"지역명\",aptData.columns[4]]].head(20))\n",
    "print(aptData[[\"지역명\",aptData.columns[4]]][:20])\n"
   ]
  },
  {
   "cell_type": "code",
   "execution_count": null,
   "metadata": {},
   "outputs": [],
   "source": [
    "# 문제 2) 지역명, 규모구분 을 출력 하되 인덱스가 10 ~ 30 까지를 모두 출력하시오.\n",
    "# 여러 행 출력\n",
    "# loc[행리스트,열리스트]\n",
    "\n",
    "aptData.loc[ 10:30, [\"지역명\",\"규모구분\"]]"
   ]
  },
  {
   "cell_type": "code",
   "execution_count": null,
   "metadata": {},
   "outputs": [],
   "source": [
    "# 문제 3 경기,광주,대구만 출력하시오.\n",
    "# - loc를 사용해서 출력하시오.\n",
    "\n",
    "\n",
    "a = aptData.loc[(aptData['지역명']==\"경기\") | (aptData['지역명']==\"광주\") | (aptData['지역명']==\"대구\")]\n",
    "print(a)\n",
    "a.loc[:,\"지역명\"]"
   ]
  },
  {
   "cell_type": "code",
   "execution_count": null,
   "metadata": {},
   "outputs": [],
   "source": [
    "#문제 4) 경기도에서 2019년도만 출력하기.\n",
    "\n",
    "print(aptData.loc[(aptData['지역명']==\"경기\") & (aptData[\"연도\"]==2019)])\n",
    "\n",
    "#논리연산 ==\n",
    "# aptData.지역명==\"경기\"\n",
    "# == 은 논리연산이므로 트루펄스만나옴."
   ]
  },
  {
   "cell_type": "code",
   "execution_count": null,
   "metadata": {},
   "outputs": [],
   "source": [
    "#문제5 평당 분양가격을 더해서 총 컬럼이 6개가 되도록  출력하시오.\n",
    "# 평당분양가격  = 분양가격 * 3.3  이다.\n",
    "\n",
    "\n",
    "aptData = read_csv('C:\\\\Users\\\\daily\\\\Desktop\\\\jupiter_workspace\\\\2019_apt.csv', encoding=\"cp949\")\n",
    "\n",
    "# b = aptData.dropna(axis=0)\n",
    "# print(b)\n",
    "\n",
    "# b =  b.loc[b[\"분양가격(㎡)\"]==\"  \",\"분양가격(㎡)\"]= None\n",
    "\n",
    "# print(b)\n",
    "\n",
    "# c = aptData[aptData['분양가격(㎡)'] ==\"  \"]\n",
    "# print(c)\n",
    "\n",
    "aptData.loc[aptData['분양가격(㎡)']== \"  \", '분양가격(㎡)'] = None\n",
    "# aptData.loc[aptData['분양가격(㎡)']== \"%d+,%d+\" , '분양가격(㎡)'] = str.replace('')\n",
    "\n",
    "\n",
    "print(aptData[\"분양가격(㎡)\"])\n",
    "# print(aptData)\n",
    "\n",
    "# aptData[\"분양가격(㎡)\"] = aptData[\"분양가격(㎡)\"].astype(float)\n",
    "\n",
    "# aptData[\"분양가격(㎡)\"] = aptData[\"분양가격(㎡)\"].astype(float)\n",
    "\n",
    "\n",
    "# aptData.fillna(vaue= \"  \")"
   ]
  },
  {
   "cell_type": "code",
   "execution_count": null,
   "metadata": {},
   "outputs": [],
   "source": [
    "\n",
    "\n",
    "\n",
    "aptData = read_csv('C:\\\\Users\\\\daily\\\\Desktop\\\\jupiter_workspace\\\\2019_apt.csv', encoding=\"cp949\")\n",
    "\n",
    "# aptData = read_csv(\"2019_apt.csv\",encoding=\"euc-kr\")\n",
    "# aptData[\"분양가격(㎡)\"].\n",
    "l = [str(x).strip() for x in aptData[\"분양가격(㎡)\"].values] #str float\n",
    "aptData[\"분양가격\"]=l\n",
    "a=[]\n",
    "for x in l:\n",
    "    x = x.replace(\",\",\"\")\n",
    "    if(x==\"\"):\n",
    "        x=0\n",
    "    x = float(x)*3.3\n",
    "    a.append(x)\n",
    "aptData[\"평당분양가격\"]=a\n",
    "aptData"
   ]
  },
  {
   "cell_type": "code",
   "execution_count": null,
   "metadata": {},
   "outputs": [],
   "source": []
  },
  {
   "cell_type": "code",
   "execution_count": null,
   "metadata": {},
   "outputs": [],
   "source": []
  },
  {
   "cell_type": "code",
   "execution_count": null,
   "metadata": {},
   "outputs": [],
   "source": []
  }
 ],
 "metadata": {
  "kernelspec": {
   "display_name": "Python 3",
   "language": "python",
   "name": "python3"
  },
  "language_info": {
   "codemirror_mode": {
    "name": "ipython",
    "version": 3
   },
   "file_extension": ".py",
   "mimetype": "text/x-python",
   "name": "python",
   "nbconvert_exporter": "python",
   "pygments_lexer": "ipython3",
   "version": "3.7.1"
  }
 },
 "nbformat": 4,
 "nbformat_minor": 2
}
